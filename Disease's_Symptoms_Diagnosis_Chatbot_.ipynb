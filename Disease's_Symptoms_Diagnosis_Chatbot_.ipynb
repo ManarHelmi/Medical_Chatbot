{
  "cells": [
    {
      "cell_type": "markdown",
      "metadata": {
        "id": "XFfqGt2J2JDe"
      },
      "source": [
        "**bold text**\n",
        "## **Disease's Symptoms Diagnosis**\n"
      ]
    },
    {
      "cell_type": "markdown",
      "metadata": {
        "id": "x7b1htKm2JDj"
      },
      "source": [
        "---"
      ]
    },
    {
      "cell_type": "code",
      "execution_count": 2,
      "metadata": {
        "id": "wE7bcBo85bYS",
        "colab": {
          "base_uri": "https://localhost:8080/"
        },
        "outputId": "10145bc8-794f-4e67-e97a-7a4c34217820"
      },
      "outputs": [
        {
          "output_type": "stream",
          "name": "stdout",
          "text": [
            "Drive already mounted at /content/drive; to attempt to forcibly remount, call drive.mount(\"/content/drive\", force_remount=True).\n"
          ]
        }
      ],
      "source": [
        "from google.colab import drive\n",
        "drive.mount('/content/drive')"
      ]
    },
    {
      "cell_type": "code",
      "source": [
        "!pip install tensorflow==2.11\n",
        "!pip install keras==2.11"
      ],
      "metadata": {
        "colab": {
          "base_uri": "https://localhost:8080/"
        },
        "id": "z68ehiRC_Brg",
        "outputId": "10343fb3-1f73-4c6b-8415-7ae5031848b1"
      },
      "execution_count": 3,
      "outputs": [
        {
          "output_type": "stream",
          "name": "stdout",
          "text": [
            "Requirement already satisfied: tensorflow==2.11 in /usr/local/lib/python3.10/dist-packages (2.11.0)\n",
            "Requirement already satisfied: absl-py>=1.0.0 in /usr/local/lib/python3.10/dist-packages (from tensorflow==2.11) (1.4.0)\n",
            "Requirement already satisfied: astunparse>=1.6.0 in /usr/local/lib/python3.10/dist-packages (from tensorflow==2.11) (1.6.3)\n",
            "Requirement already satisfied: flatbuffers>=2.0 in /usr/local/lib/python3.10/dist-packages (from tensorflow==2.11) (24.3.25)\n",
            "Requirement already satisfied: gast<=0.4.0,>=0.2.1 in /usr/local/lib/python3.10/dist-packages (from tensorflow==2.11) (0.4.0)\n",
            "Requirement already satisfied: google-pasta>=0.1.1 in /usr/local/lib/python3.10/dist-packages (from tensorflow==2.11) (0.2.0)\n",
            "Requirement already satisfied: grpcio<2.0,>=1.24.3 in /usr/local/lib/python3.10/dist-packages (from tensorflow==2.11) (1.68.1)\n",
            "Requirement already satisfied: h5py>=2.9.0 in /usr/local/lib/python3.10/dist-packages (from tensorflow==2.11) (3.12.1)\n",
            "Requirement already satisfied: keras<2.12,>=2.11.0 in /usr/local/lib/python3.10/dist-packages (from tensorflow==2.11) (2.11.0)\n",
            "Requirement already satisfied: libclang>=13.0.0 in /usr/local/lib/python3.10/dist-packages (from tensorflow==2.11) (18.1.1)\n",
            "Requirement already satisfied: numpy>=1.20 in /usr/local/lib/python3.10/dist-packages (from tensorflow==2.11) (1.26.4)\n",
            "Requirement already satisfied: opt-einsum>=2.3.2 in /usr/local/lib/python3.10/dist-packages (from tensorflow==2.11) (3.4.0)\n",
            "Requirement already satisfied: packaging in /usr/local/lib/python3.10/dist-packages (from tensorflow==2.11) (24.2)\n",
            "Requirement already satisfied: protobuf<3.20,>=3.9.2 in /usr/local/lib/python3.10/dist-packages (from tensorflow==2.11) (3.19.6)\n",
            "Requirement already satisfied: setuptools in /usr/local/lib/python3.10/dist-packages (from tensorflow==2.11) (75.1.0)\n",
            "Requirement already satisfied: six>=1.12.0 in /usr/local/lib/python3.10/dist-packages (from tensorflow==2.11) (1.17.0)\n",
            "Requirement already satisfied: tensorboard<2.12,>=2.11 in /usr/local/lib/python3.10/dist-packages (from tensorflow==2.11) (2.11.2)\n",
            "Requirement already satisfied: tensorflow-estimator<2.12,>=2.11.0 in /usr/local/lib/python3.10/dist-packages (from tensorflow==2.11) (2.11.0)\n",
            "Requirement already satisfied: termcolor>=1.1.0 in /usr/local/lib/python3.10/dist-packages (from tensorflow==2.11) (2.5.0)\n",
            "Requirement already satisfied: typing-extensions>=3.6.6 in /usr/local/lib/python3.10/dist-packages (from tensorflow==2.11) (4.12.2)\n",
            "Requirement already satisfied: wrapt>=1.11.0 in /usr/local/lib/python3.10/dist-packages (from tensorflow==2.11) (1.17.0)\n",
            "Requirement already satisfied: tensorflow-io-gcs-filesystem>=0.23.1 in /usr/local/lib/python3.10/dist-packages (from tensorflow==2.11) (0.37.1)\n",
            "Requirement already satisfied: wheel<1.0,>=0.23.0 in /usr/local/lib/python3.10/dist-packages (from astunparse>=1.6.0->tensorflow==2.11) (0.45.1)\n",
            "Requirement already satisfied: google-auth<3,>=1.6.3 in /usr/local/lib/python3.10/dist-packages (from tensorboard<2.12,>=2.11->tensorflow==2.11) (2.27.0)\n",
            "Requirement already satisfied: google-auth-oauthlib<0.5,>=0.4.1 in /usr/local/lib/python3.10/dist-packages (from tensorboard<2.12,>=2.11->tensorflow==2.11) (0.4.6)\n",
            "Requirement already satisfied: markdown>=2.6.8 in /usr/local/lib/python3.10/dist-packages (from tensorboard<2.12,>=2.11->tensorflow==2.11) (3.7)\n",
            "Requirement already satisfied: requests<3,>=2.21.0 in /usr/local/lib/python3.10/dist-packages (from tensorboard<2.12,>=2.11->tensorflow==2.11) (2.32.3)\n",
            "Requirement already satisfied: tensorboard-data-server<0.7.0,>=0.6.0 in /usr/local/lib/python3.10/dist-packages (from tensorboard<2.12,>=2.11->tensorflow==2.11) (0.6.1)\n",
            "Requirement already satisfied: tensorboard-plugin-wit>=1.6.0 in /usr/local/lib/python3.10/dist-packages (from tensorboard<2.12,>=2.11->tensorflow==2.11) (1.8.1)\n",
            "Requirement already satisfied: werkzeug>=1.0.1 in /usr/local/lib/python3.10/dist-packages (from tensorboard<2.12,>=2.11->tensorflow==2.11) (3.1.3)\n",
            "Requirement already satisfied: cachetools<6.0,>=2.0.0 in /usr/local/lib/python3.10/dist-packages (from google-auth<3,>=1.6.3->tensorboard<2.12,>=2.11->tensorflow==2.11) (5.5.0)\n",
            "Requirement already satisfied: pyasn1-modules>=0.2.1 in /usr/local/lib/python3.10/dist-packages (from google-auth<3,>=1.6.3->tensorboard<2.12,>=2.11->tensorflow==2.11) (0.4.1)\n",
            "Requirement already satisfied: rsa<5,>=3.1.4 in /usr/local/lib/python3.10/dist-packages (from google-auth<3,>=1.6.3->tensorboard<2.12,>=2.11->tensorflow==2.11) (4.9)\n",
            "Requirement already satisfied: requests-oauthlib>=0.7.0 in /usr/local/lib/python3.10/dist-packages (from google-auth-oauthlib<0.5,>=0.4.1->tensorboard<2.12,>=2.11->tensorflow==2.11) (1.3.1)\n",
            "Requirement already satisfied: charset-normalizer<4,>=2 in /usr/local/lib/python3.10/dist-packages (from requests<3,>=2.21.0->tensorboard<2.12,>=2.11->tensorflow==2.11) (3.4.0)\n",
            "Requirement already satisfied: idna<4,>=2.5 in /usr/local/lib/python3.10/dist-packages (from requests<3,>=2.21.0->tensorboard<2.12,>=2.11->tensorflow==2.11) (3.10)\n",
            "Requirement already satisfied: urllib3<3,>=1.21.1 in /usr/local/lib/python3.10/dist-packages (from requests<3,>=2.21.0->tensorboard<2.12,>=2.11->tensorflow==2.11) (2.2.3)\n",
            "Requirement already satisfied: certifi>=2017.4.17 in /usr/local/lib/python3.10/dist-packages (from requests<3,>=2.21.0->tensorboard<2.12,>=2.11->tensorflow==2.11) (2024.12.14)\n",
            "Requirement already satisfied: MarkupSafe>=2.1.1 in /usr/local/lib/python3.10/dist-packages (from werkzeug>=1.0.1->tensorboard<2.12,>=2.11->tensorflow==2.11) (3.0.2)\n",
            "Requirement already satisfied: pyasn1<0.7.0,>=0.4.6 in /usr/local/lib/python3.10/dist-packages (from pyasn1-modules>=0.2.1->google-auth<3,>=1.6.3->tensorboard<2.12,>=2.11->tensorflow==2.11) (0.6.1)\n",
            "Requirement already satisfied: oauthlib>=3.0.0 in /usr/local/lib/python3.10/dist-packages (from requests-oauthlib>=0.7.0->google-auth-oauthlib<0.5,>=0.4.1->tensorboard<2.12,>=2.11->tensorflow==2.11) (3.2.2)\n",
            "Requirement already satisfied: keras==2.11 in /usr/local/lib/python3.10/dist-packages (2.11.0)\n"
          ]
        }
      ]
    },
    {
      "cell_type": "code",
      "execution_count": 4,
      "metadata": {
        "id": "pxuIuqzb2JDl",
        "colab": {
          "base_uri": "https://localhost:8080/"
        },
        "outputId": "5cbb03eb-1cfa-4ab5-fc3b-d5a54ee4b7bd"
      },
      "outputs": [
        {
          "output_type": "stream",
          "name": "stderr",
          "text": [
            "[nltk_data] Downloading package punkt to /root/nltk_data...\n",
            "[nltk_data]   Package punkt is already up-to-date!\n"
          ]
        }
      ],
      "source": [
        "import pandas as pd\n",
        "import numpy as np\n",
        "import seaborn as sns\n",
        "import matplotlib.pyplot as plt\n",
        "import nltk\n",
        "import json\n",
        "import random\n",
        "import pickle\n",
        "from time import sleep\n",
        "nltk.download('punkt')\n",
        "from nltk.stem.lancaster import LancasterStemmer\n",
        "stemmer = LancasterStemmer()\n",
        "from sklearn.metrics import accuracy_score\n",
        "from sklearn.model_selection import train_test_split\n",
        "from tensorflow.keras.preprocessing.text import Tokenizer\n",
        "from keras.utils import pad_sequences\n",
        "from keras.layers import Embedding, Dense, LSTM\n",
        "from keras.models import Sequential\n",
        "from keras.callbacks import EarlyStopping"
      ]
    },
    {
      "cell_type": "code",
      "execution_count": 5,
      "metadata": {
        "id": "lBL9zcQJ2JDm",
        "colab": {
          "base_uri": "https://localhost:8080/",
          "height": 206
        },
        "outputId": "7c94b48a-a8cb-48b4-ae4e-dc74424157f1"
      },
      "outputs": [
        {
          "output_type": "execute_result",
          "data": {
            "text/plain": [
              "                                           Questions  \\\n",
              "0  I have a fever, cough, body aches, headache, a...   \n",
              "1  My symptoms include a sore throat, runny nose,...   \n",
              "2  I'm experiencing chest congestion, shortness o...   \n",
              "3  I have a high fever, nausea, and vomiting. Whi...   \n",
              "4  My symptoms involve a persistent cough, fatigu...   \n",
              "\n",
              "                          Recommending medical tests         Disease   \n",
              "0  Complete Blood Count (CBC),C-Reactive Protein ...  Influenza (Flu)  \n",
              "1  Complete Blood Count (CBC),C-Reactive Protein ...  Influenza (Flu)  \n",
              "2  Complete Blood Count (CBC),C-Reactive Protein ...  Influenza (Flu)  \n",
              "3  Complete Blood Count (CBC),C-Reactive Protein ...  Influenza (Flu)  \n",
              "4  Complete Blood Count (CBC),C-Reactive Protein ...  Influenza (Flu)  "
            ],
            "text/html": [
              "\n",
              "  <div id=\"df-8194d9c6-8153-4fd8-8c5d-a5bfa9b2b183\" class=\"colab-df-container\">\n",
              "    <div>\n",
              "<style scoped>\n",
              "    .dataframe tbody tr th:only-of-type {\n",
              "        vertical-align: middle;\n",
              "    }\n",
              "\n",
              "    .dataframe tbody tr th {\n",
              "        vertical-align: top;\n",
              "    }\n",
              "\n",
              "    .dataframe thead th {\n",
              "        text-align: right;\n",
              "    }\n",
              "</style>\n",
              "<table border=\"1\" class=\"dataframe\">\n",
              "  <thead>\n",
              "    <tr style=\"text-align: right;\">\n",
              "      <th></th>\n",
              "      <th>Questions</th>\n",
              "      <th>Recommending medical tests</th>\n",
              "      <th>Disease</th>\n",
              "    </tr>\n",
              "  </thead>\n",
              "  <tbody>\n",
              "    <tr>\n",
              "      <th>0</th>\n",
              "      <td>I have a fever, cough, body aches, headache, a...</td>\n",
              "      <td>Complete Blood Count (CBC),C-Reactive Protein ...</td>\n",
              "      <td>Influenza (Flu)</td>\n",
              "    </tr>\n",
              "    <tr>\n",
              "      <th>1</th>\n",
              "      <td>My symptoms include a sore throat, runny nose,...</td>\n",
              "      <td>Complete Blood Count (CBC),C-Reactive Protein ...</td>\n",
              "      <td>Influenza (Flu)</td>\n",
              "    </tr>\n",
              "    <tr>\n",
              "      <th>2</th>\n",
              "      <td>I'm experiencing chest congestion, shortness o...</td>\n",
              "      <td>Complete Blood Count (CBC),C-Reactive Protein ...</td>\n",
              "      <td>Influenza (Flu)</td>\n",
              "    </tr>\n",
              "    <tr>\n",
              "      <th>3</th>\n",
              "      <td>I have a high fever, nausea, and vomiting. Whi...</td>\n",
              "      <td>Complete Blood Count (CBC),C-Reactive Protein ...</td>\n",
              "      <td>Influenza (Flu)</td>\n",
              "    </tr>\n",
              "    <tr>\n",
              "      <th>4</th>\n",
              "      <td>My symptoms involve a persistent cough, fatigu...</td>\n",
              "      <td>Complete Blood Count (CBC),C-Reactive Protein ...</td>\n",
              "      <td>Influenza (Flu)</td>\n",
              "    </tr>\n",
              "  </tbody>\n",
              "</table>\n",
              "</div>\n",
              "    <div class=\"colab-df-buttons\">\n",
              "\n",
              "  <div class=\"colab-df-container\">\n",
              "    <button class=\"colab-df-convert\" onclick=\"convertToInteractive('df-8194d9c6-8153-4fd8-8c5d-a5bfa9b2b183')\"\n",
              "            title=\"Convert this dataframe to an interactive table.\"\n",
              "            style=\"display:none;\">\n",
              "\n",
              "  <svg xmlns=\"http://www.w3.org/2000/svg\" height=\"24px\" viewBox=\"0 -960 960 960\">\n",
              "    <path d=\"M120-120v-720h720v720H120Zm60-500h600v-160H180v160Zm220 220h160v-160H400v160Zm0 220h160v-160H400v160ZM180-400h160v-160H180v160Zm440 0h160v-160H620v160ZM180-180h160v-160H180v160Zm440 0h160v-160H620v160Z\"/>\n",
              "  </svg>\n",
              "    </button>\n",
              "\n",
              "  <style>\n",
              "    .colab-df-container {\n",
              "      display:flex;\n",
              "      gap: 12px;\n",
              "    }\n",
              "\n",
              "    .colab-df-convert {\n",
              "      background-color: #E8F0FE;\n",
              "      border: none;\n",
              "      border-radius: 50%;\n",
              "      cursor: pointer;\n",
              "      display: none;\n",
              "      fill: #1967D2;\n",
              "      height: 32px;\n",
              "      padding: 0 0 0 0;\n",
              "      width: 32px;\n",
              "    }\n",
              "\n",
              "    .colab-df-convert:hover {\n",
              "      background-color: #E2EBFA;\n",
              "      box-shadow: 0px 1px 2px rgba(60, 64, 67, 0.3), 0px 1px 3px 1px rgba(60, 64, 67, 0.15);\n",
              "      fill: #174EA6;\n",
              "    }\n",
              "\n",
              "    .colab-df-buttons div {\n",
              "      margin-bottom: 4px;\n",
              "    }\n",
              "\n",
              "    [theme=dark] .colab-df-convert {\n",
              "      background-color: #3B4455;\n",
              "      fill: #D2E3FC;\n",
              "    }\n",
              "\n",
              "    [theme=dark] .colab-df-convert:hover {\n",
              "      background-color: #434B5C;\n",
              "      box-shadow: 0px 1px 3px 1px rgba(0, 0, 0, 0.15);\n",
              "      filter: drop-shadow(0px 1px 2px rgba(0, 0, 0, 0.3));\n",
              "      fill: #FFFFFF;\n",
              "    }\n",
              "  </style>\n",
              "\n",
              "    <script>\n",
              "      const buttonEl =\n",
              "        document.querySelector('#df-8194d9c6-8153-4fd8-8c5d-a5bfa9b2b183 button.colab-df-convert');\n",
              "      buttonEl.style.display =\n",
              "        google.colab.kernel.accessAllowed ? 'block' : 'none';\n",
              "\n",
              "      async function convertToInteractive(key) {\n",
              "        const element = document.querySelector('#df-8194d9c6-8153-4fd8-8c5d-a5bfa9b2b183');\n",
              "        const dataTable =\n",
              "          await google.colab.kernel.invokeFunction('convertToInteractive',\n",
              "                                                    [key], {});\n",
              "        if (!dataTable) return;\n",
              "\n",
              "        const docLinkHtml = 'Like what you see? Visit the ' +\n",
              "          '<a target=\"_blank\" href=https://colab.research.google.com/notebooks/data_table.ipynb>data table notebook</a>'\n",
              "          + ' to learn more about interactive tables.';\n",
              "        element.innerHTML = '';\n",
              "        dataTable['output_type'] = 'display_data';\n",
              "        await google.colab.output.renderOutput(dataTable, element);\n",
              "        const docLink = document.createElement('div');\n",
              "        docLink.innerHTML = docLinkHtml;\n",
              "        element.appendChild(docLink);\n",
              "      }\n",
              "    </script>\n",
              "  </div>\n",
              "\n",
              "\n",
              "<div id=\"df-ed2f1f05-0104-4f93-99e8-f72adc783cf3\">\n",
              "  <button class=\"colab-df-quickchart\" onclick=\"quickchart('df-ed2f1f05-0104-4f93-99e8-f72adc783cf3')\"\n",
              "            title=\"Suggest charts\"\n",
              "            style=\"display:none;\">\n",
              "\n",
              "<svg xmlns=\"http://www.w3.org/2000/svg\" height=\"24px\"viewBox=\"0 0 24 24\"\n",
              "     width=\"24px\">\n",
              "    <g>\n",
              "        <path d=\"M19 3H5c-1.1 0-2 .9-2 2v14c0 1.1.9 2 2 2h14c1.1 0 2-.9 2-2V5c0-1.1-.9-2-2-2zM9 17H7v-7h2v7zm4 0h-2V7h2v10zm4 0h-2v-4h2v4z\"/>\n",
              "    </g>\n",
              "</svg>\n",
              "  </button>\n",
              "\n",
              "<style>\n",
              "  .colab-df-quickchart {\n",
              "      --bg-color: #E8F0FE;\n",
              "      --fill-color: #1967D2;\n",
              "      --hover-bg-color: #E2EBFA;\n",
              "      --hover-fill-color: #174EA6;\n",
              "      --disabled-fill-color: #AAA;\n",
              "      --disabled-bg-color: #DDD;\n",
              "  }\n",
              "\n",
              "  [theme=dark] .colab-df-quickchart {\n",
              "      --bg-color: #3B4455;\n",
              "      --fill-color: #D2E3FC;\n",
              "      --hover-bg-color: #434B5C;\n",
              "      --hover-fill-color: #FFFFFF;\n",
              "      --disabled-bg-color: #3B4455;\n",
              "      --disabled-fill-color: #666;\n",
              "  }\n",
              "\n",
              "  .colab-df-quickchart {\n",
              "    background-color: var(--bg-color);\n",
              "    border: none;\n",
              "    border-radius: 50%;\n",
              "    cursor: pointer;\n",
              "    display: none;\n",
              "    fill: var(--fill-color);\n",
              "    height: 32px;\n",
              "    padding: 0;\n",
              "    width: 32px;\n",
              "  }\n",
              "\n",
              "  .colab-df-quickchart:hover {\n",
              "    background-color: var(--hover-bg-color);\n",
              "    box-shadow: 0 1px 2px rgba(60, 64, 67, 0.3), 0 1px 3px 1px rgba(60, 64, 67, 0.15);\n",
              "    fill: var(--button-hover-fill-color);\n",
              "  }\n",
              "\n",
              "  .colab-df-quickchart-complete:disabled,\n",
              "  .colab-df-quickchart-complete:disabled:hover {\n",
              "    background-color: var(--disabled-bg-color);\n",
              "    fill: var(--disabled-fill-color);\n",
              "    box-shadow: none;\n",
              "  }\n",
              "\n",
              "  .colab-df-spinner {\n",
              "    border: 2px solid var(--fill-color);\n",
              "    border-color: transparent;\n",
              "    border-bottom-color: var(--fill-color);\n",
              "    animation:\n",
              "      spin 1s steps(1) infinite;\n",
              "  }\n",
              "\n",
              "  @keyframes spin {\n",
              "    0% {\n",
              "      border-color: transparent;\n",
              "      border-bottom-color: var(--fill-color);\n",
              "      border-left-color: var(--fill-color);\n",
              "    }\n",
              "    20% {\n",
              "      border-color: transparent;\n",
              "      border-left-color: var(--fill-color);\n",
              "      border-top-color: var(--fill-color);\n",
              "    }\n",
              "    30% {\n",
              "      border-color: transparent;\n",
              "      border-left-color: var(--fill-color);\n",
              "      border-top-color: var(--fill-color);\n",
              "      border-right-color: var(--fill-color);\n",
              "    }\n",
              "    40% {\n",
              "      border-color: transparent;\n",
              "      border-right-color: var(--fill-color);\n",
              "      border-top-color: var(--fill-color);\n",
              "    }\n",
              "    60% {\n",
              "      border-color: transparent;\n",
              "      border-right-color: var(--fill-color);\n",
              "    }\n",
              "    80% {\n",
              "      border-color: transparent;\n",
              "      border-right-color: var(--fill-color);\n",
              "      border-bottom-color: var(--fill-color);\n",
              "    }\n",
              "    90% {\n",
              "      border-color: transparent;\n",
              "      border-bottom-color: var(--fill-color);\n",
              "    }\n",
              "  }\n",
              "</style>\n",
              "\n",
              "  <script>\n",
              "    async function quickchart(key) {\n",
              "      const quickchartButtonEl =\n",
              "        document.querySelector('#' + key + ' button');\n",
              "      quickchartButtonEl.disabled = true;  // To prevent multiple clicks.\n",
              "      quickchartButtonEl.classList.add('colab-df-spinner');\n",
              "      try {\n",
              "        const charts = await google.colab.kernel.invokeFunction(\n",
              "            'suggestCharts', [key], {});\n",
              "      } catch (error) {\n",
              "        console.error('Error during call to suggestCharts:', error);\n",
              "      }\n",
              "      quickchartButtonEl.classList.remove('colab-df-spinner');\n",
              "      quickchartButtonEl.classList.add('colab-df-quickchart-complete');\n",
              "    }\n",
              "    (() => {\n",
              "      let quickchartButtonEl =\n",
              "        document.querySelector('#df-ed2f1f05-0104-4f93-99e8-f72adc783cf3 button');\n",
              "      quickchartButtonEl.style.display =\n",
              "        google.colab.kernel.accessAllowed ? 'block' : 'none';\n",
              "    })();\n",
              "  </script>\n",
              "</div>\n",
              "\n",
              "    </div>\n",
              "  </div>\n"
            ],
            "application/vnd.google.colaboratory.intrinsic+json": {
              "type": "dataframe",
              "variable_name": "df",
              "summary": "{\n  \"name\": \"df\",\n  \"rows\": 1498,\n  \"fields\": [\n    {\n      \"column\": \"Questions\",\n      \"properties\": {\n        \"dtype\": \"string\",\n        \"num_unique_values\": 1466,\n        \"samples\": [\n          \"Could frequent respiratory infections and shortness of breath be related to COPD? What tests should I request to determine this?\",\n          \"Headache, Fatigue, and Abdominal Pain are affecting me. What tests are recommended?\",\n          \"Is it common for fatigue and chest discomfort or pain to be associated with these symptoms? What tests are typically performed in this case?\"\n        ],\n        \"semantic_type\": \"\",\n        \"description\": \"\"\n      }\n    },\n    {\n      \"column\": \"Recommending medical tests\",\n      \"properties\": {\n        \"dtype\": \"category\",\n        \"num_unique_values\": 29,\n        \"samples\": [\n          \"Thyroid-Stimulating Hormone (TSH) Test,Free T4 (Free Thyroxine) Test,Free T3 (Free Triiodothyronine) Test,Total T4 and Total T3 Tests,Thyroid Antibody Tests,Reverse T3 (rT3) Test,Thyroid Hormone Binding Ratios,Thyroglobulin Test,Calcitonin Test,Calcitonin Test,Prolactin Test,Lipid Profile\",\n          \"Chest X-ray,CT Scan,Sputum Cytology,Bronchoscopy,Needle Biopsy,Mediastinoscopy,PET Scan,MRI,Bone Scan,Blood Tests,Pulmonary Function Tests,Genetic Testing\",\n          \"Complete Blood Count (CBC),Blood Glucose Test,Lipid Profile,Coagulation Studies,Cardiac Biomarkers,Inflammatory Markers,Toxicology Screen,Hemoglobin A1c (HbA1c)\"\n        ],\n        \"semantic_type\": \"\",\n        \"description\": \"\"\n      }\n    },\n    {\n      \"column\": \"Disease \",\n      \"properties\": {\n        \"dtype\": \"category\",\n        \"num_unique_values\": 30,\n        \"samples\": [\n          \"Hypothyroidism (Underactive Thyroid)\",\n          \"Breast Cancer\",\n          \"Chronic Obstructive \"\n        ],\n        \"semantic_type\": \"\",\n        \"description\": \"\"\n      }\n    }\n  ]\n}"
            }
          },
          "metadata": {},
          "execution_count": 5
        }
      ],
      "source": [
        "df = pd.read_csv('/content/drive/MyDrive/Medical_Chatbot/symptoms based medical test recommendations...csv',encoding='latin-1')\n",
        "df.head()"
      ]
    },
    {
      "cell_type": "code",
      "execution_count": 6,
      "metadata": {
        "id": "soRMSahw2JDm",
        "colab": {
          "base_uri": "https://localhost:8080/",
          "height": 178
        },
        "outputId": "1a803aa5-2215-4725-d439-76a1488e1977"
      },
      "outputs": [
        {
          "output_type": "execute_result",
          "data": {
            "text/plain": [
              "Questions                     0\n",
              "Recommending medical tests    0\n",
              "Disease                       0\n",
              "dtype: int64"
            ],
            "text/html": [
              "<div>\n",
              "<style scoped>\n",
              "    .dataframe tbody tr th:only-of-type {\n",
              "        vertical-align: middle;\n",
              "    }\n",
              "\n",
              "    .dataframe tbody tr th {\n",
              "        vertical-align: top;\n",
              "    }\n",
              "\n",
              "    .dataframe thead th {\n",
              "        text-align: right;\n",
              "    }\n",
              "</style>\n",
              "<table border=\"1\" class=\"dataframe\">\n",
              "  <thead>\n",
              "    <tr style=\"text-align: right;\">\n",
              "      <th></th>\n",
              "      <th>0</th>\n",
              "    </tr>\n",
              "  </thead>\n",
              "  <tbody>\n",
              "    <tr>\n",
              "      <th>Questions</th>\n",
              "      <td>0</td>\n",
              "    </tr>\n",
              "    <tr>\n",
              "      <th>Recommending medical tests</th>\n",
              "      <td>0</td>\n",
              "    </tr>\n",
              "    <tr>\n",
              "      <th>Disease</th>\n",
              "      <td>0</td>\n",
              "    </tr>\n",
              "  </tbody>\n",
              "</table>\n",
              "</div><br><label><b>dtype:</b> int64</label>"
            ]
          },
          "metadata": {},
          "execution_count": 6
        }
      ],
      "source": [
        "df.isnull().sum()"
      ]
    },
    {
      "cell_type": "code",
      "execution_count": 7,
      "metadata": {
        "id": "DfyY-HAE2JDn",
        "colab": {
          "base_uri": "https://localhost:8080/"
        },
        "outputId": "f01eeb32-d71f-4645-899f-cf037218dc01"
      },
      "outputs": [
        {
          "output_type": "stream",
          "name": "stdout",
          "text": [
            "<class 'pandas.core.frame.DataFrame'>\n",
            "RangeIndex: 1498 entries, 0 to 1497\n",
            "Data columns (total 3 columns):\n",
            " #   Column                      Non-Null Count  Dtype \n",
            "---  ------                      --------------  ----- \n",
            " 0   Questions                   1498 non-null   object\n",
            " 1   Recommending medical tests  1498 non-null   object\n",
            " 2   Disease                     1498 non-null   object\n",
            "dtypes: object(3)\n",
            "memory usage: 35.2+ KB\n"
          ]
        }
      ],
      "source": [
        "df.info()"
      ]
    },
    {
      "cell_type": "code",
      "execution_count": 8,
      "metadata": {
        "id": "o_1cQRKa2JDn",
        "colab": {
          "base_uri": "https://localhost:8080/",
          "height": 1000
        },
        "outputId": "10c535ba-514d-43c4-ad02-69e50686472d"
      },
      "outputs": [
        {
          "output_type": "execute_result",
          "data": {
            "text/plain": [
              "Disease \n",
              "Influenza (Flu)                         50\n",
              "Tuberculosis (TB)                       50\n",
              "HIV/AIDS                                50\n",
              "Malaria                                 50\n",
              "COVID-19.                               50\n",
              "Hepatitis                               50\n",
              "Cholera                                 50\n",
              "Ebola Virus Disease                     50\n",
              "Dengue Fever                            50\n",
              "Coronary Artery Disease (CAD)           50\n",
              "Hypertension (High Blood Pressure)      50\n",
              "Stroke                                  50\n",
              "Arrhythmias (Irregular Heartbeat)       50\n",
              "Atherosclerosis                         50\n",
              "Diabetes                                50\n",
              "Breast Cancer                           50\n",
              "Lung Cancer                             50\n",
              "Prostate Cancer                         50\n",
              "Skin Cancer (Melanoma)                  50\n",
              "Brain Cancer                            50\n",
              "Asthma                                  50\n",
              "Leukemia                                50\n",
              "Hyperthyroidism (Overactive Thyroid)    50\n",
              "Chronic Obstructive                     50\n",
              "Pulmonary Disease (COPD)                50\n",
              "Interstitial Lung Disease               50\n",
              "Addison's Disease                       50\n",
              "Hypothyroidism (Underactive Thyroid)    50\n",
              "Heart Attack (Myocardial Infarction)    49\n",
              "Colorectal Cancer                       49\n",
              "Name: count, dtype: int64"
            ],
            "text/html": [
              "<div>\n",
              "<style scoped>\n",
              "    .dataframe tbody tr th:only-of-type {\n",
              "        vertical-align: middle;\n",
              "    }\n",
              "\n",
              "    .dataframe tbody tr th {\n",
              "        vertical-align: top;\n",
              "    }\n",
              "\n",
              "    .dataframe thead th {\n",
              "        text-align: right;\n",
              "    }\n",
              "</style>\n",
              "<table border=\"1\" class=\"dataframe\">\n",
              "  <thead>\n",
              "    <tr style=\"text-align: right;\">\n",
              "      <th></th>\n",
              "      <th>count</th>\n",
              "    </tr>\n",
              "    <tr>\n",
              "      <th>Disease</th>\n",
              "      <th></th>\n",
              "    </tr>\n",
              "  </thead>\n",
              "  <tbody>\n",
              "    <tr>\n",
              "      <th>Influenza (Flu)</th>\n",
              "      <td>50</td>\n",
              "    </tr>\n",
              "    <tr>\n",
              "      <th>Tuberculosis (TB)</th>\n",
              "      <td>50</td>\n",
              "    </tr>\n",
              "    <tr>\n",
              "      <th>HIV/AIDS</th>\n",
              "      <td>50</td>\n",
              "    </tr>\n",
              "    <tr>\n",
              "      <th>Malaria</th>\n",
              "      <td>50</td>\n",
              "    </tr>\n",
              "    <tr>\n",
              "      <th>COVID-19.</th>\n",
              "      <td>50</td>\n",
              "    </tr>\n",
              "    <tr>\n",
              "      <th>Hepatitis</th>\n",
              "      <td>50</td>\n",
              "    </tr>\n",
              "    <tr>\n",
              "      <th>Cholera</th>\n",
              "      <td>50</td>\n",
              "    </tr>\n",
              "    <tr>\n",
              "      <th>Ebola Virus Disease</th>\n",
              "      <td>50</td>\n",
              "    </tr>\n",
              "    <tr>\n",
              "      <th>Dengue Fever</th>\n",
              "      <td>50</td>\n",
              "    </tr>\n",
              "    <tr>\n",
              "      <th>Coronary Artery Disease (CAD)</th>\n",
              "      <td>50</td>\n",
              "    </tr>\n",
              "    <tr>\n",
              "      <th>Hypertension (High Blood Pressure)</th>\n",
              "      <td>50</td>\n",
              "    </tr>\n",
              "    <tr>\n",
              "      <th>Stroke</th>\n",
              "      <td>50</td>\n",
              "    </tr>\n",
              "    <tr>\n",
              "      <th>Arrhythmias (Irregular Heartbeat)</th>\n",
              "      <td>50</td>\n",
              "    </tr>\n",
              "    <tr>\n",
              "      <th>Atherosclerosis</th>\n",
              "      <td>50</td>\n",
              "    </tr>\n",
              "    <tr>\n",
              "      <th>Diabetes</th>\n",
              "      <td>50</td>\n",
              "    </tr>\n",
              "    <tr>\n",
              "      <th>Breast Cancer</th>\n",
              "      <td>50</td>\n",
              "    </tr>\n",
              "    <tr>\n",
              "      <th>Lung Cancer</th>\n",
              "      <td>50</td>\n",
              "    </tr>\n",
              "    <tr>\n",
              "      <th>Prostate Cancer</th>\n",
              "      <td>50</td>\n",
              "    </tr>\n",
              "    <tr>\n",
              "      <th>Skin Cancer (Melanoma)</th>\n",
              "      <td>50</td>\n",
              "    </tr>\n",
              "    <tr>\n",
              "      <th>Brain Cancer</th>\n",
              "      <td>50</td>\n",
              "    </tr>\n",
              "    <tr>\n",
              "      <th>Asthma</th>\n",
              "      <td>50</td>\n",
              "    </tr>\n",
              "    <tr>\n",
              "      <th>Leukemia</th>\n",
              "      <td>50</td>\n",
              "    </tr>\n",
              "    <tr>\n",
              "      <th>Hyperthyroidism (Overactive Thyroid)</th>\n",
              "      <td>50</td>\n",
              "    </tr>\n",
              "    <tr>\n",
              "      <th>Chronic Obstructive</th>\n",
              "      <td>50</td>\n",
              "    </tr>\n",
              "    <tr>\n",
              "      <th>Pulmonary Disease (COPD)</th>\n",
              "      <td>50</td>\n",
              "    </tr>\n",
              "    <tr>\n",
              "      <th>Interstitial Lung Disease</th>\n",
              "      <td>50</td>\n",
              "    </tr>\n",
              "    <tr>\n",
              "      <th>Addison's Disease</th>\n",
              "      <td>50</td>\n",
              "    </tr>\n",
              "    <tr>\n",
              "      <th>Hypothyroidism (Underactive Thyroid)</th>\n",
              "      <td>50</td>\n",
              "    </tr>\n",
              "    <tr>\n",
              "      <th>Heart Attack (Myocardial Infarction)</th>\n",
              "      <td>49</td>\n",
              "    </tr>\n",
              "    <tr>\n",
              "      <th>Colorectal Cancer</th>\n",
              "      <td>49</td>\n",
              "    </tr>\n",
              "  </tbody>\n",
              "</table>\n",
              "</div><br><label><b>dtype:</b> int64</label>"
            ]
          },
          "metadata": {},
          "execution_count": 8
        }
      ],
      "source": [
        "df['Disease '].value_counts()"
      ]
    },
    {
      "cell_type": "code",
      "execution_count": 9,
      "metadata": {
        "id": "IB5KlBNB2JDo",
        "colab": {
          "base_uri": "https://localhost:8080/"
        },
        "outputId": "7ac31a70-c4c7-49d4-dfe4-679de739aa3c"
      },
      "outputs": [
        {
          "output_type": "execute_result",
          "data": {
            "text/plain": [
              "array(['Influenza (Flu)', 'Tuberculosis (TB)', 'HIV/AIDS', 'Malaria',\n",
              "       'COVID-19.', 'Hepatitis', 'Cholera', 'Ebola Virus Disease',\n",
              "       'Dengue Fever', 'Coronary Artery Disease (CAD)',\n",
              "       'Hypertension (High Blood Pressure)',\n",
              "       'Heart Attack (Myocardial Infarction)', 'Stroke',\n",
              "       'Arrhythmias (Irregular Heartbeat)', 'Atherosclerosis',\n",
              "       'Breast Cancer', 'Lung Cancer', 'Prostate Cancer',\n",
              "       'Colorectal Cancer', 'Skin Cancer (Melanoma)', 'Brain Cancer',\n",
              "       'Asthma', 'Leukemia', 'Chronic Obstructive ',\n",
              "       'Pulmonary Disease (COPD)', 'Interstitial Lung Disease',\n",
              "       'Diabetes', 'Hypothyroidism (Underactive Thyroid)',\n",
              "       'Hyperthyroidism (Overactive Thyroid)', \"Addison's Disease\"],\n",
              "      dtype=object)"
            ]
          },
          "metadata": {},
          "execution_count": 9
        }
      ],
      "source": [
        "diseases = df['Disease '].unique()\n",
        "diseases"
      ]
    },
    {
      "cell_type": "markdown",
      "metadata": {
        "id": "FunV6N6K2JDo"
      },
      "source": [
        "---"
      ]
    },
    {
      "cell_type": "code",
      "execution_count": 10,
      "metadata": {
        "id": "waH1m9JG2JDo"
      },
      "outputs": [],
      "source": [
        "with open(\"/content/drive/MyDrive/Medical_Chatbot/intents!.json\") as file:\n",
        "    data = json.load(file)"
      ]
    },
    {
      "cell_type": "code",
      "execution_count": 11,
      "metadata": {
        "id": "_q4a3kRv2JDp",
        "colab": {
          "base_uri": "https://localhost:8080/"
        },
        "outputId": "4f10a63d-8eef-401a-bb24-8edef998ba53"
      },
      "outputs": [
        {
          "output_type": "execute_result",
          "data": {
            "text/plain": [
              "{'tag': 'greeting',\n",
              " 'patterns': ['Hi',\n",
              "  'Hey',\n",
              "  'Is anyone there?',\n",
              "  'Hi there',\n",
              "  'Hello',\n",
              "  'halo',\n",
              "  'Hey there',\n",
              "  'Howdy',\n",
              "  'Hola',\n",
              "  'Bonjour',\n",
              "  'Konnichiwa',\n",
              "  'Guten tag',\n",
              "  'Ola',\n",
              "  'Good day',\n",
              "  \"What's up\",\n",
              "  'how are ya',\n",
              "  'heyy',\n",
              "  'whatsup',\n",
              "  '??? ??? ??',\n",
              "  'Good morning',\n",
              "  'Good afternoon',\n",
              "  'Good evening',\n",
              "  'Good night',\n",
              "  'morning',\n",
              "  '?',\n",
              "  'h',\n",
              "  'My name is ',\n",
              "  'I am name.',\n",
              "  'I go by ',\n",
              "  'hello i am ',\n",
              "  'hi i am '],\n",
              " 'responses': ['Hello there. Tell me how are you feeling today?',\n",
              "  'Hi there. What brings you here today?',\n",
              "  'Hi there. How are you feeling today?',\n",
              "  'Great to see you. How do you feel currently?',\n",
              "  \"Hello there. Glad to see you. What's going on in your world right now?\",\n",
              "  \"Good morning. I hope you had a good night's sleep. How are you feeling today? \",\n",
              "  'Hello, i am Caroline, your smart doctor bot. How can i help you?']}"
            ]
          },
          "metadata": {},
          "execution_count": 11
        }
      ],
      "source": [
        "data['intents'][0]"
      ]
    },
    {
      "cell_type": "markdown",
      "metadata": {
        "id": "HX9Kl44w2JDp"
      },
      "source": [
        "# Diseases"
      ]
    },
    {
      "cell_type": "code",
      "execution_count": 12,
      "metadata": {
        "id": "n30tgOrp2JDp",
        "colab": {
          "base_uri": "https://localhost:8080/"
        },
        "outputId": "ce898af8-ce5d-427d-9bf2-d606f1de9535"
      },
      "outputs": [
        {
          "output_type": "stream",
          "name": "stdout",
          "text": [
            "greeting\n",
            "goodbye\n",
            "thanks\n",
            "no-response\n",
            "about\n",
            "swear\n",
            "skill\n",
            "creation\n",
            "help\n",
            "sad\n",
            "happy\n",
            "scared\n",
            "death\n",
            "understand\n",
            "Influenza (Flu)\n",
            "Tuberculosis (TB)\n",
            "HIV/AIDS\n",
            "Malaria\n",
            "COVID-19.\n",
            "Hepatitis\n",
            "Cholera\n",
            "Ebola Virus Disease\n",
            "Dengue Fever\n",
            "Coronary Artery Disease (CAD)\n",
            "Hypertension (High Blood Pressure)\n",
            "Heart Attack (Myocardial Infarction)\n",
            "Stroke\n",
            "Arrhythmias (Irregular Heartbeat)\n",
            "Atherosclerosis\n",
            "Breast Cancer\n",
            "Lung Cancer\n",
            "Prostate Cancer\n",
            "Colorectal Cancer\n",
            "Skin Cancer (Melanoma)\n",
            "Brain Cancer\n",
            "Asthma\n",
            "Leukemia\n",
            "Chronic Obstructive \n",
            "Pulmonary Disease (COPD)\n",
            "Interstitial Lung Disease\n",
            "Diabetes\n",
            "Hypothyroidism (Underactive Thyroid)\n",
            "Hyperthyroidism (Overactive Thyroid)\n",
            "Addison's Disease\n"
          ]
        }
      ],
      "source": [
        "l = []\n",
        "for i in range(len(data['intents'])):\n",
        "    intent = data['intents'][i]\n",
        "    l.append(intent['tag'])\n",
        "    print(intent['tag'])"
      ]
    },
    {
      "cell_type": "code",
      "execution_count": 13,
      "metadata": {
        "id": "zmrDB_3-2JDp",
        "colab": {
          "base_uri": "https://localhost:8080/"
        },
        "outputId": "ca5eef56-8420-4cdd-d62a-c431c08c3588"
      },
      "outputs": [
        {
          "output_type": "stream",
          "name": "stdout",
          "text": [
            "responses = {\"greeting\":[],\n",
            "\"goodbye\":[],\n",
            "\"thanks\":[],\n",
            "\"no-response\":[],\n",
            "\"about\":[],\n",
            "\"swear\":[],\n",
            "\"skill\":[],\n",
            "\"creation\":[],\n",
            "\"help\":[],\n",
            "\"sad\":[],\n",
            "\"happy\":[],\n",
            "\"scared\":[],\n",
            "\"death\":[],\n",
            "\"understand\":[],\n",
            "\"Influenza (Flu)\":[],\n",
            "\"Tuberculosis (TB)\":[],\n",
            "\"HIV/AIDS\":[],\n",
            "\"Malaria\":[],\n",
            "\"COVID-19.\":[],\n",
            "\"Hepatitis\":[],\n",
            "\"Cholera\":[],\n",
            "\"Ebola Virus Disease\":[],\n",
            "\"Dengue Fever\":[],\n",
            "\"Coronary Artery Disease (CAD)\":[],\n",
            "\"Hypertension (High Blood Pressure)\":[],\n",
            "\"Heart Attack (Myocardial Infarction)\":[],\n",
            "\"Stroke\":[],\n",
            "\"Arrhythmias (Irregular Heartbeat)\":[],\n",
            "\"Atherosclerosis\":[],\n",
            "\"Breast Cancer\":[],\n",
            "\"Lung Cancer\":[],\n",
            "\"Prostate Cancer\":[],\n",
            "\"Colorectal Cancer\":[],\n",
            "\"Skin Cancer (Melanoma)\":[],\n",
            "\"Brain Cancer\":[],\n",
            "\"Asthma\":[],\n",
            "\"Leukemia\":[],\n",
            "\"Chronic Obstructive \":[],\n",
            "\"Pulmonary Disease (COPD)\":[],\n",
            "\"Interstitial Lung Disease\":[],\n",
            "\"Diabetes\":[],\n",
            "\"Hypothyroidism (Underactive Thyroid)\":[],\n",
            "\"Hyperthyroidism (Overactive Thyroid)\":[],\n",
            "\"Addison's Disease\":[],\n",
            "\"Addison's Disease\":[]\n",
            "\\}\n"
          ]
        }
      ],
      "source": [
        "print(\"responses = {\",end=\"\")\n",
        "for i in l:\n",
        "    print(f\"\\\"{i}\\\":[],\")\n",
        "    if(i==l[-1]):\n",
        "        print(f\"\\\"{i}\\\":[]\")\n",
        "print(\"\\}\")"
      ]
    },
    {
      "cell_type": "code",
      "execution_count": 14,
      "metadata": {
        "id": "MFfQYoBZ2JDq"
      },
      "outputs": [],
      "source": [
        "responses ={\"greeting\":[],\n",
        "            \"goodbye\":[],\n",
        "            \"thanks\":[],\n",
        "            \"no-response\":[],\n",
        "            \"about\":[],\n",
        "            \"swear\":[],\n",
        "            \"skill\":[],\n",
        "            \"creation\":[],\n",
        "            \"help\":[],\n",
        "            \"sad\":[],\n",
        "            \"happy\":[],\n",
        "            \"scared\":[],\n",
        "            \"death\":[],\n",
        "            \"understand\":[],\n",
        "            \"Influenza (Flu)\":[],\n",
        "            \"Tuberculosis (TB)\":[],\n",
        "            \"HIV/AIDS\":[],\n",
        "            \"Malaria\":[],\n",
        "            \"COVID-19.\":[],\n",
        "            \"Hepatitis\":[],\n",
        "            \"Cholera\":[],\n",
        "            \"Ebola Virus Disease\":[],\n",
        "            \"Dengue Fever\":[],\n",
        "            \"Coronary Artery Disease (CAD)\":[],\n",
        "            \"Hypertension (High Blood Pressure)\":[],\n",
        "            \"Heart Attack (Myocardial Infarction)\":[],\n",
        "            \"Stroke\":[],\n",
        "            \"Arrhythmias (Irregular Heartbeat)\":[],\n",
        "            \"Atherosclerosis\":[],\n",
        "            \"Breast Cancer\":[],\n",
        "            \"Lung Cancer\":[],\n",
        "            \"Prostate Cancer\":[],\n",
        "            \"Colorectal Cancer\":[],\n",
        "            \"Skin Cancer (Melanoma)\":[],\n",
        "            \"Brain Cancer\":[],\n",
        "            \"Asthma\":[],\n",
        "            \"Leukemia\":[],\n",
        "            \"Chronic Obstructive \":[],\n",
        "            \"Pulmonary Disease (COPD)\":[],\n",
        "            \"Interstitial Lung Disease\":[],\n",
        "            \"Diabetes\":[],\n",
        "            \"Hypothyroidism (Underactive Thyroid)\":[],\n",
        "            \"Hyperthyroidism (Overactive Thyroid)\":[],\n",
        "            \"Addison's Disease\":[],\n",
        "            \"Addison's Disease\":[]\n",
        "           }"
      ]
    },
    {
      "cell_type": "code",
      "execution_count": 15,
      "metadata": {
        "id": "EcveVH_W2JDq",
        "colab": {
          "base_uri": "https://localhost:8080/"
        },
        "outputId": "fa82265b-6ba7-4794-9c59-606f11f96930"
      },
      "outputs": [
        {
          "output_type": "execute_result",
          "data": {
            "text/plain": [
              "array(['Influenza (Flu)', 'Tuberculosis (TB)', 'HIV/AIDS', 'Malaria',\n",
              "       'COVID-19.', 'Hepatitis', 'Cholera', 'Ebola Virus Disease',\n",
              "       'Dengue Fever', 'Coronary Artery Disease (CAD)',\n",
              "       'Hypertension (High Blood Pressure)',\n",
              "       'Heart Attack (Myocardial Infarction)', 'Stroke',\n",
              "       'Arrhythmias (Irregular Heartbeat)', 'Atherosclerosis',\n",
              "       'Breast Cancer', 'Lung Cancer', 'Prostate Cancer',\n",
              "       'Colorectal Cancer', 'Skin Cancer (Melanoma)', 'Brain Cancer',\n",
              "       'Asthma', 'Leukemia', 'Chronic Obstructive ',\n",
              "       'Pulmonary Disease (COPD)', 'Interstitial Lung Disease',\n",
              "       'Diabetes', 'Hypothyroidism (Underactive Thyroid)',\n",
              "       'Hyperthyroidism (Overactive Thyroid)', \"Addison's Disease\"],\n",
              "      dtype=object)"
            ]
          },
          "metadata": {},
          "execution_count": 15
        }
      ],
      "source": [
        "diseases"
      ]
    },
    {
      "cell_type": "code",
      "execution_count": 16,
      "metadata": {
        "id": "SwuBkvT52JDq",
        "colab": {
          "base_uri": "https://localhost:8080/"
        },
        "outputId": "0c25f638-3ae6-487a-9756-ef72cc166220"
      },
      "outputs": [
        {
          "output_type": "stream",
          "name": "stdout",
          "text": [
            "info = {\"Influenza (Flu)\":\"\",\n",
            "\"Tuberculosis (TB)\":\"\",\n",
            "\"HIV/AIDS\":\"\",\n",
            "\"Malaria\":\"\",\n",
            "\"COVID-19.\":\"\",\n",
            "\"Hepatitis\":\"\",\n",
            "\"Cholera\":\"\",\n",
            "\"Ebola Virus Disease\":\"\",\n",
            "\"Dengue Fever\":\"\",\n",
            "\"Coronary Artery Disease (CAD)\":\"\",\n",
            "\"Hypertension (High Blood Pressure)\":\"\",\n",
            "\"Heart Attack (Myocardial Infarction)\":\"\",\n",
            "\"Stroke\":\"\",\n",
            "\"Arrhythmias (Irregular Heartbeat)\":\"\",\n",
            "\"Atherosclerosis\":\"\",\n",
            "\"Breast Cancer\":\"\",\n",
            "\"Lung Cancer\":\"\",\n",
            "\"Prostate Cancer\":\"\",\n",
            "\"Colorectal Cancer\":\"\",\n",
            "\"Skin Cancer (Melanoma)\":\"\",\n",
            "\"Brain Cancer\":\"\",\n",
            "\"Asthma\":\"\",\n",
            "\"Leukemia\":\"\",\n",
            "\"Chronic Obstructive \":\"\",\n",
            "\"Pulmonary Disease (COPD)\":\"\",\n",
            "\"Interstitial Lung Disease\":\"\",\n",
            "\"Diabetes\":\"\",\n",
            "\"Hypothyroidism (Underactive Thyroid)\":\"\",\n",
            "\"Hyperthyroidism (Overactive Thyroid)\":\"\",\n",
            "\"Addison's Disease\":\"\"\n",
            "}\n"
          ]
        }
      ],
      "source": [
        "print(\"info = {\",end=\"\")\n",
        "for i in diseases:\n",
        "    if(i==diseases[-1]):\n",
        "        print(f\"\\\"{i}\\\":\\\"\\\"\")\n",
        "    else:\n",
        "        print(f\"\\\"{i}\\\":\\\"\\\",\")\n",
        "print(\"}\")"
      ]
    },
    {
      "cell_type": "markdown",
      "metadata": {
        "id": "MwkXLyEs2JDq"
      },
      "source": [
        "## Diseases information"
      ]
    },
    {
      "cell_type": "code",
      "execution_count": 17,
      "metadata": {
        "id": "_5TyWspv2JDr"
      },
      "outputs": [],
      "source": [
        "info = {\"Influenza (Flu)\" : \"\"\"Overview:\n",
        "Influenza (Flu) is a contagious respiratory illness caused by influenza viruses that infect the nose, throat, and sometimes the lungs.\n",
        "It can cause mild to severe illness, and at times can lead to death. The best way to prevent flu is by getting a flu vaccine each year.\n",
        "\n",
        "Flu Symptoms:\n",
        "Flu can cause mild to severe illness, and at times can lead to death. Flu symptoms usually come on suddenly.\n",
        "People who have flu often feel some or all of these signs and symptoms:\n",
        "fever* or feeling feverish/chills\n",
        "cough\n",
        "sore throat\n",
        "runny or stuffy nose\n",
        "muscle or body aches\n",
        "headaches\n",
        "fatigue (tiredness)\n",
        "some people may have vomiting and diarrhea, though this is more common in children than adults.\n",
        "*It’s important to note that not everyone with flu will have a fever.\n",
        "More information is available at  https://www.cdc.gov/flu/symptoms/flu-vs-covid19.htm\n",
        "\n",
        "you can see more information here: https://www.mayoclinic.org/diseases-conditions/flu/symptoms-causes/syc-20351719#fromHistory\"\"\",\n",
        "        \"Tuberculosis (TB)\" : \"\"\"Overview:\n",
        "TB is caused by bacteria (Mycobacterium tuberculosis) and it most often affects the lungs. TB is spread through the air when people with lung TB cough, sneeze or spit. A person needs to inhale only a few germs to become infected.\n",
        "Every year, 10 million people fall ill with tuberculosis (TB). Despite being a preventable and curable disease, 1.5 million people die from TB each year – making it the world’s top infectious killer.\n",
        "TB is the leading cause of death of people with HIV and also a major contributor to antimicrobial resistance.\n",
        "Most of the people who fall ill with TB live in low- and middle-income countries, but TB is present all over the world. About half of all people with TB can be found in 8 countries: Bangladesh, China, India, Indonesia, Nigeria, Pakistan, Philippines and South Africa.\n",
        "About a quarter of the global population is estimated to have been infected with TB bacteria, but most people will not go on to develop TB disease and some will clear the infection. Those who are infected but not (yet) ill with the disease cannot transmit it.\n",
        "People infected with TB bacteria have a 5–10% lifetime risk of falling ill with TB. Those with compromised immune systems, such as people living with HIV, malnutrition or diabetes, or people who use tobacco, have a higher risk of falling ill.\"\"\",\n",
        "        \"HIV/AIDS\" : \"\"\"Overview\n",
        "Human immunodeficiency virus (HIV) is an infection that attacks the body’s immune system. Acquired immunodeficiency syndrome (AIDS) is the most advanced stage of the disease.\n",
        "\n",
        "HIV targets the body’s white blood cells, weakening the immune system. This makes it easier to get sick with diseases like tuberculosis, infections and some cancers.\n",
        "\n",
        "HIV is spread from the body fluids of an infected person, including blood, breast milk, semen and vaginal fluids. It is not spread by kisses, hugs or sharing food. It can also spread from a mother to her baby.\n",
        "\n",
        "HIV can be treated and prevented with antiretroviral therapy (ART). Untreated HIV can progress to AIDS, often after many years.\n",
        "\n",
        "WHO now defines Advanced HIV Disease (AHD) as CD4 cell count less than 200cells/mm3 or WHO stage 3 or 4 in adults and adolescents. All children with HIV younger than 5 years of age are considered to have advanced HIV disease.\n",
        "\n",
        "Signs and symptoms\n",
        "The symptoms of HIV vary depending on the stage of infection.\n",
        "\n",
        "The disease spreads more easily in the first few months after a person is infected, but many are unaware of their status until the later stages. In the first few weeks after being infected people may not experience symptoms. Others may have an influenza-like illness including:\n",
        "\n",
        "fever\n",
        "headache\n",
        "rash\n",
        "sore throat.\n",
        "The infection progressively weakens the immune system. This can cause other signs and symptoms:\n",
        "\n",
        "swollen lymph nodes\n",
        "weight loss\n",
        "fever\n",
        "diarrhoea\n",
        "cough.\n",
        "Without treatment, people with HIV infection can also develop severe illnesses:\n",
        "\n",
        "tuberculosis (TB)\n",
        "cryptococcal meningitis\n",
        "severe bacterial infections\n",
        "cancers such as lymphomas and Kaposi's sarcoma.\n",
        "HIV causes other infections to get worse, such as hepatitis C, hepatitis B and mpox\n",
        "\n",
        "you can see more information here: https://www.who.int/news-room/fact-sheets/detail/hiv-aids\"\"\",\n",
        "        \"Malaria\" : \"\"\" Overview:\n",
        "Malaria is an acute febrile illness caused by Plasmodium parasites, which are spread to people through the bites of infected female Anopheles mosquitoes. It is preventable and curable.\n",
        "\n",
        "- What is malaria and how is it transmitted?\n",
        "Malaria is a life-threatening disease primarily found in tropical countries. It is both preventable and curable. However, without prompt diagnosis and effective treatment, a case of uncomplicated malaria can progress to a severe form of the disease, which is often fatal without treatment.\n",
        "Malaria is not contagious and cannot spread from one person to another; the disease is transmitted through the bites of female Anopheles mosquitoes.  Five species of parasites can cause malaria in humans and 2 of these species – Plasmodium falciparum and Plasmodium vivax – pose the greatest threat. There are over 400 different species of Anopheles mosquitoes and around 40, known as vector species, can transmit the disease.\n",
        "This risk of infection is higher in some areas than others depending on multiple factors, including the type of local mosquitoes. It may also vary according to the season, the risk being highest during the rainy season in tropical countries. \"\"\",\n",
        "        \"COVID-19.\" : \"\"\"Coronavirus disease (COVID-19) is an infectious disease caused by the SARS-CoV-2 virus.\n",
        "\n",
        "Most people infected with the virus will experience mild to moderate respiratory illness and recover without requiring special treatment. However, some will become seriously ill and require medical attention. Older people and those with underlying medical conditions like cardiovascular disease, diabetes, chronic respiratory disease, or cancer are more likely to develop serious illness. Anyone can get sick with COVID-19 and become seriously ill or die at any age.\n",
        "\n",
        "The best way to prevent and slow down transmission is to be well informed about the disease and how the virus spreads. Protect yourself and others from infection by staying at least 1 metre apart from others, wearing a properly fitted mask, and washing your hands or using an alcohol-based rub frequently. Get vaccinated when it’s your turn and follow local guidance.\n",
        "\n",
        "The virus can spread from an infected person’s mouth or nose in small liquid particles when they cough, sneeze, speak, sing or breathe. These particles range from larger respiratory droplets to smaller aerosols. It is important to practice respiratory etiquette, for example by coughing into a flexed elbow, and to stay home and self-isolate until you recover if you feel unwell.\"\"\",\n",
        "        \"Hepatitis\" : \"\"\"Hepatitis is an inflammation of the liver that is caused by a variety of infectious viruses  and noninfectious agents leading to a range of health problems, some of which can be fatal. There are five main strains of the hepatitis virus, referred to as types A, B, C, D and E. While they all cause liver disease, they differ in important ways including modes of transmission, severity of the illness, geographical distribution and prevention methods. In particular, types B and C lead to chronic disease in hundreds of millions of people and together are the most common cause of liver cirrhosis, liver cancer and viral hepatitis-related deaths. An estimated 354 million people worldwide live with hepatitis B or C, and for most, testing and treatment remain beyond reach.\n",
        "\n",
        "Some types of hepatitis are preventable through vaccination. A WHO study found that an estimated 4.5 million premature deaths could be prevented in low- and middle-income countries by 2030 through vaccination, diagnostic tests, medicines and education campaigns. WHO’s global hepatitis strategy, endorsed by all WHO Member States, aims to reduce new hepatitis infections by 90% and deaths by 65% between 2016 and 2030.\"\"\",\n",
        "        \"Cholera\" : \"\"\"Key facts\n",
        "Cholera is an acute diarrhoeal disease that can kill within hours if left untreated.\n",
        "Cholera is a disease of poverty affecting people with inadequate access to safe water and basic sanitation.\n",
        "Conflict, unplanned urbanization and climate change all increase the risk of cholera.\n",
        "Researchers have estimated that each year there are 1.3 to 4.0 million cases of cholera, and 21 000 to 143 000 deaths worldwide due to cholera (1).\n",
        "Most of those infected have no or mild symptoms and can be successfully treated with oral rehydration solution.\n",
        "Severe cases need rapid treatment with intravenous fluids and antibiotics.\n",
        "Provision of safe water and basic sanitation, and hygiene practices is critical to prevent and control the transmission of cholera and other waterborne diseases.\n",
        "Oral cholera vaccines should be used in conjunction with improvements in water and sanitation to control cholera outbreaks and for prevention in areas known to be high risk for cholera.\n",
        "A global strategy on cholera control, Ending cholera: a global roadmap to 2030, with a target to reduce cholera deaths by 90% was launched in 2017.\n",
        "\n",
        "Overview\n",
        "Cholera is an acute diarrhoeal infection caused by ingestion of food or water contaminated with the bacterium Vibrio cholerae. Cholera remains a global threat to public health and an indicator of inequity and lack of social development.\n",
        "\n",
        "Symptoms\n",
        "Cholera is an extremely virulent disease transmitted through the ingestion of contaminated food or water (2). Cholera can cause severe acute watery diarrhoea and the severe forms of the disease can kill within hours if left untreated.\n",
        "\n",
        "Most people infected with V. cholerae do not develop any symptoms, although the bacteria are present in their faeces for 1–10 days after infection and are shed back into the environment, potentially infecting other people.\n",
        "\n",
        "Among people who develop symptoms, the majority have mild or moderate symptoms. It takes between 12 hours and 5 days for a person to show symptoms. A minority of patients develop acute watery diarrhoea with severe dehydration. This can lead to death if left untreated.\n",
        "\n",
        "History\n",
        "During the 19th century, cholera spread across the world from its original reservoir in the Ganges delta in India. Six subsequent pandemics killed millions of people across all continents. The current (seventh) pandemic started in South Asia in 1961, reached Africa in 1971 and the Americas in 1991. Cholera is now endemic in many countries.\"\"\",\n",
        "        \"Ebola Virus Disease\" : \"\"\"Overview\n",
        "Ebola virus disease (EVD or Ebola) is a rare but severe illness in humans. It is often fatal.\n",
        "\n",
        "People get infected with Ebola by touching:\n",
        "\n",
        "infected animals when preparing, cooking or eating them\n",
        "body fluids of an infected person such as saliva, urine, faeces or semen\n",
        "things that have the body fluids of an infected person like clothes or sheets.\n",
        "Ebola enters the body through cuts in the skin or when touching one’s eyes, nose or mouth.\n",
        "\n",
        "Early symptoms include fever, fatigue and headache.\n",
        "\n",
        "Some types of Ebola can be prevented with vaccines and treated with medicines.\n",
        "\n",
        "Ebola first appeared in 1976 in 2 simultaneous outbreaks, one in what is now Nzara, South Sudan, and the other in Yambuku, Democratic Republic of the Congo. The latter occurred in a village near the Ebola River, from which the disease takes its name.\n",
        "\n",
        "The virus family Filoviridae includes 3 genera: Cuevavirus, Marburgvirus, and Ebolavirus. Within the genus Ebolavirus, 6 species have been identified: Zaire, Bundibugyo, Sudan, Taï Forest, Reston and Bombali.\n",
        "Symptoms\n",
        "The symptoms of Ebola infection can be sudden and include fever, fatigue, muscle pain, headache and sore throat. These are followed by vomiting, diarrhoea, rash, and internal and external bleeding.\n",
        "\n",
        "The time from when someone gets infected to having symptoms is usually from 2 to 21 days. A person with Ebola can only spread the disease once they have symptoms. People can spread Ebola for as long as their body contains the virus, even after they have died.\n",
        "\n",
        "After recovering from Ebola, some people may have symptoms for two years or longer. These symptoms can include:\n",
        "\n",
        "feeling tired\n",
        "headache\n",
        "muscle and joint pain\n",
        "eye pain and vision problems\n",
        "weight gain\n",
        "belly pain and loss of appetite\n",
        "hair loss and skin problems\n",
        "trouble sleeping\n",
        "memory loss\n",
        "hearing loss\n",
        "depression and anxiety.\n",
        "People should speak to a health-care professional if they have:\n",
        "\n",
        "symptoms and have been in an area known to have Ebola, or\n",
        "been in contact with someone who may have had Ebola.\n",
        "\n",
        "you can see more information here: https://www.who.int/news-room/fact-sheets/detail/ebola-virus-disease\"\"\",\n",
        "        \"Dengue Fever\" : \"\"\"Overview\n",
        "Dengue (break-bone fever) is a viral infection that spreads from mosquitoes to people. It is more common in tropical and subtropical climates.\n",
        "\n",
        "Most people who get dengue won’t have symptoms. But for those that do, the most common symptoms are high fever, headache, body aches, nausea and rash. Most will also get better in 1–2 weeks. Some people develop severe dengue and need care in a hospital.\n",
        "\n",
        "In severe cases, dengue can be fatal.\n",
        "\n",
        "You can lower your risk of dengue by avoiding mosquito bites especially during the day.\n",
        "\n",
        "Dengue is treated with pain medicine as there is no specific treatment currently.\n",
        "\n",
        "Symptoms\n",
        "Most people with dengue have mild or no symptoms and will get better in 1–2 weeks. Rarely, dengue can be severe and lead to death.\n",
        "\n",
        "If symptoms occur, they usually begin 4–10 days after infection and last for 2–7 days. Symptoms may include:\n",
        "\n",
        "high fever (40°C/104°F)\n",
        "severe headache\n",
        "pain behind the eyes\n",
        "muscle and joint pains\n",
        "nausea\n",
        "vomiting\n",
        "swollen glands\n",
        "rash.\n",
        "Individuals who are infected for the second time are at greater risk of severe dengue.\n",
        "\n",
        "Severe dengue symptoms often come after the fever has gone away:\n",
        "\n",
        "severe abdominal pain\n",
        "persistent vomiting\n",
        "rapid breathing\n",
        "bleeding gums or nose\n",
        "fatigue\n",
        "restlessness\n",
        "blood in vomit or stool\n",
        "being very thirsty\n",
        "pale and cold skin\n",
        "feeling weak.\n",
        "People with these severe symptoms should get care right away.\n",
        "\n",
        "After recovery, people who have had dengue may feel tired for several weeks.\n",
        "you can see more information here: https://www.who.int/news-room/fact-sheets/detail/dengue-and-severe-dengue\"\"\",\n",
        "        \"Coronary Artery Disease (CAD)\" : \"\"\"What is coronary artery disease?\n",
        "Coronary artery disease (CAD) is the most common type of heart disease in the United States. It is sometimes called coronary heart disease or ischemic heart disease.\n",
        "\n",
        "For some people, the first sign of CAD is a heart attack. You and your health care team may be able to help reduce your risk for CAD.\n",
        "\n",
        "What causes coronary artery disease?\n",
        "CAD is caused by plaque buildup in the walls of the arteries that supply blood to the heart (called coronary arteries) and other parts of the body.\n",
        "\n",
        "Plaque is made up of deposits of cholesterol and other substances in the artery. Plaque buildup causes the inside of the arteries to narrow over time, which can partially or totally block the blood flow. This process is called atherosclerosis.\n",
        "you can see more information here: https://www.cdc.gov/heartdisease/coronary_ad.htm\"\"\",\n",
        "        \"Hypertension (High Blood Pressure)\" : \"\"\"\n",
        "        Key facts\n",
        "An estimated 1.28 billion adults aged 30–79 years worldwide have hypertension, most (two-thirds) living in low- and middle-income countries\n",
        "An estimated 46% of adults with hypertension are unaware that they have the condition.\n",
        "Less than half of adults (42%) with hypertension are diagnosed and treated.\n",
        "Approximately 1 in 5 adults (21%) with hypertension have it under control.\n",
        "Hypertension is a major cause of premature death worldwide.\n",
        "One of the global targets for noncommunicable diseases is to reduce the prevalence of hypertension by 33% between 2010 and 2030.\n",
        "Overview\n",
        "\n",
        "Hypertension (high blood pressure) is when the pressure in your blood vessels is too high (140/90 mmHg or higher). It is common but can be serious if not treated.\n",
        "\n",
        "People with high blood pressure may not feel symptoms. The only way to know is to get your blood pressure checked.\n",
        "\n",
        "Things that increase the risk of having high blood pressure include:\n",
        "\n",
        "older age\n",
        "genetics\n",
        "being overweight or obese\n",
        "not being physically active\n",
        "high-salt diet\n",
        "drinking too much alcohol\n",
        "Lifestyle changes like eating a healthier diet, quitting tobacco and being more active can help lower blood pressure. Some people may still need to take medicines.\n",
        "\n",
        "Blood pressure is written as two numbers. The first (systolic) number represents the pressure in blood vessels when the heart contracts or beats. The second (diastolic) number represents the pressure in the vessels when the heart rests between beats.\n",
        "\n",
        "Hypertension is diagnosed if, when it is measured on two different days, the systolic blood pressure readings on both days is ≥140 mmHg and/or the diastolic blood pressure readings on both days is ≥90 mmHg.\n",
        "Symptoms\n",
        "Most people with hypertension don’t feel any symptoms. Very high blood pressures can cause headaches, blurred vision, chest pain and other symptoms.\n",
        "\n",
        "Checking your blood pressure is the best way to know if you have high blood pressure. If hypertension isn’t treated, it can cause other health conditions like kidney disease, heart disease and stroke.\n",
        "\n",
        "People with very high blood pressure (usually 180/120 or higher) can experience symptoms including:\n",
        "\n",
        "severe headaches\n",
        "chest pain\n",
        "dizziness\n",
        "difficulty breathing\n",
        "nausea\n",
        "vomiting\n",
        "blurred vision or other vision changes\n",
        "anxiety\n",
        "confusion\n",
        "buzzing in the ears\n",
        "nosebleeds\n",
        "abnormal heart rhythm\n",
        "If you are experiencing any of these symptoms and a high blood pressure, seek care immediately.\n",
        "\n",
        "The only way to detect hypertension is to have a health professional measure blood pressure. Having blood pressure measured is quick and painless. Although individuals can measure their own blood pressure using automated devices, an evaluation by a health professional is important for assessment of risk and associated conditions.\n",
        "\n",
        "you can see more information here: https://www.who.int/news-room/fact-sheets/detail/hypertension\"\"\",\n",
        "        \"Heart Attack (Myocardial Infarction)\" : \"\"\"Heart attack\n",
        "A heart attack occurs when an artery that sends blood and oxygen to the heart is blocked. Fatty, cholesterol-containing deposits build up over time, forming plaques in the heart's arteries. If a plaque ruptures, a blood clot can form. The clot can block arteries, causing a heart attack. During a heart attack, a lack of blood flow causes the tissue in the heart muscle to die.\n",
        "\n",
        "A heart attack is also called a myocardial infarction.\n",
        "\n",
        "Prompt treatment is needed for a heart attack to prevent death. Call 911 or emergency medical help if you think you might be having a heart attack.\n",
        "\n",
        "Symptoms\n",
        "Symptoms of a heart attack vary. Some people have mild symptoms. Others have severe symptoms. Some people have no symptoms.\n",
        "\n",
        "Common heart attack symptoms include:\n",
        "\n",
        "Chest pain that may feel like pressure, tightness, pain, squeezing or aching\n",
        "Pain or discomfort that spreads to the shoulder, arm, back, neck, jaw, teeth or sometimes the upper belly\n",
        "Cold sweat\n",
        "Fatigue\n",
        "Heartburn or indigestion\n",
        "Lightheadedness or sudden dizziness\n",
        "Nausea\n",
        "Shortness of breath\n",
        "Women may have atypical symptoms such as brief or sharp pain felt in the neck, arm or back. Sometimes, the first symptom sign of a heart attack is sudden cardiac arrest.\n",
        "\n",
        "Some heart attacks strike suddenly. But many people have warning signs and symptoms hours, days or weeks in advance. Chest pain or pressure (angina) that keeps happening and doesn't go away with rest may be an early warning sign. Angina is caused by a temporary decrease in blood flow to the heart.\n",
        "\n",
        "you can see more information here: https://www.mayoclinic.org/diseases-conditions/heart-attack/symptoms-causes/syc-20373106\"\"\",\n",
        "        \"Stroke\" : \"\"\"A stroke, sometimes called a brain attack, occurs when something blocks blood supply to part of the brain or when a blood vessel in the brain bursts.\n",
        "\n",
        "In either case, parts of the brain become damaged or die. A stroke can cause lasting brain damage, long-term disability, or even death.\n",
        "\n",
        "Learn about the health conditions and lifestyle habits that can increase your risk for stroke.\n",
        "\n",
        "What happens in the brain during a stroke?\n",
        "The brain controls our movements, stores our memories, and is the source of our thoughts, emotions, and language. The brain also controls many functions of the body, like breathing and digestion.\n",
        "\n",
        "To work properly, your brain needs oxygen. Your arteries deliver oxygen-rich blood to all parts of your brain. If something happens to block the flow of blood, brain cells start to die within minutes, because they can’t get oxygen. This causes a stroke.\n",
        "\n",
        "Learn more about the signs and symptoms of stroke.\n",
        "\n",
        "you can see more information here: https://www.cdc.gov/stroke/about.htm\"\"\",\n",
        "        \"Arrhythmias (Irregular Heartbeat)\" : \"\"\"Overview:\n",
        "        A heart arrhythmia (uh-RITH-me-uh) is an irregular heartbeat. A heart arrhythmia occurs when the electrical signals that tell the heart to beat don't work properly. The heart may beat too fast or too slow. Or the pattern of the heartbeat may be inconsistent.\n",
        "\n",
        "A heart arrhythmia may feel like a fluttering, pounding or racing heartbeat. Some heart arrhythmias are harmless. Others may cause life-threatening symptoms.\n",
        "\n",
        "There are times when it is OK to have a fast or slow heartbeat. For example, the heart may beat faster with exercise or slow down during sleep.\n",
        "\n",
        "Heart arrhythmia treatment may include medicines, devices such as pacemakers, or a procedure or surgery. The goals of treatment are to control or get rid of fast, slow or otherwise irregular heartbeats. A heart-healthy lifestyle can help prevent heart damage that can trigger some heart arrhythmias.\n",
        "Symptoms\n",
        "A heart arrhythmia may not cause any symptoms. The irregular heartbeat may be noticed during a health checkup for another reason.\n",
        "\n",
        "Symptoms of an arrhythmia may include:\n",
        "\n",
        "A fluttering, pounding or racing feeling in the chest.\n",
        "A fast heartbeat.\n",
        "A slow heartbeat.\n",
        "Chest pain.\n",
        "Shortness of breath.\n",
        "Other symptoms may include:\n",
        "\n",
        "Anxiety.\n",
        "Feeling very tired.\n",
        "Lightheadedness or dizziness.\n",
        "Sweating.\n",
        "Fainting or almost fainting.\n",
        "\n",
        "you can see more information here: https://www.mayoclinic.org/diseases-conditions/heart-arrhythmia/symptoms-causes/syc-20350668\"\"\",\n",
        "        \"Atherosclerosis\" : \"\"\"Overview\n",
        "Arteriosclerosis and atherosclerosis are sometimes used to mean the same thing, but there's a difference between the two terms.\n",
        "\n",
        "Arteriosclerosis occurs when the blood vessels that carry oxygen and nutrients from the heart to the rest of the body (arteries) become thick and stiff — sometimes restricting blood flow to the organs and tissues. Healthy arteries are flexible and elastic. But over time, the walls in the arteries can harden, a condition commonly called hardening of the arteries.\n",
        "\n",
        "Atherosclerosis is a specific type of arteriosclerosis.\n",
        "\n",
        "Atherosclerosis is the buildup of fats, cholesterol and other substances in and on the artery walls. This buildup is called plaque. The plaque can cause arteries to narrow, blocking blood flow. The plaque can also burst, leading to a blood clot.\n",
        "\n",
        "Although atherosclerosis is often considered a heart problem, it can affect arteries anywhere in the body. Atherosclerosis can be treated. Healthy lifestyle habits can help prevent atherosclerosis.\n",
        "\n",
        "Symptoms\n",
        "Mild atherosclerosis usually doesn't have any symptoms.\n",
        "\n",
        "Atherosclerosis symptoms usually don't happen until an artery is so narrowed or clogged that it can't supply enough blood to organs and tissues. Sometimes a blood clot completely blocks blood flow. The clot may break apart and can trigger a heart attack or stroke.\n",
        "\n",
        "Symptoms of moderate to severe atherosclerosis depend on which arteries are affected. For example:\n",
        "\n",
        "If you have atherosclerosis in your heart arteries, you may have chest pain or pressure (angina).\n",
        "If you have atherosclerosis in the arteries leading to your brain, you may have sudden numbness or weakness in your arms or legs, difficulty speaking or slurred speech, temporary loss of vision in one eye, or drooping muscles in your face. These signal a transient ischemic attack (TIA). Untreated, a TIA can lead to a stroke.\n",
        "If you have atherosclerosis in the arteries in your arms and legs, you may have symptoms of peripheral artery disease, such as leg pain when walking (claudication) or decreased blood pressure in an affected limb.\n",
        "If you have atherosclerosis in the arteries leading to your kidneys, you may develop high blood pressure or kidney failure.\n",
        "\n",
        "you can see more information here: https://www.mayoclinic.org/diseases-conditions/arteriosclerosis-atherosclerosis/symptoms-causes/syc-20350569\"\"\",\n",
        "        \"Breast Cancer\" : \"\"\"Overview\n",
        "Breast cancer is a disease in which abnormal breast cells grow out of control and form tumours. If left unchecked, the tumours can spread throughout the body and become fatal.\n",
        "\n",
        "Breast cancer cells begin inside the milk ducts and/or the milk-producing lobules of the breast. The earliest form (in situ) is not life-threatening and can be detected in early stages. Cancer cells can spread into nearby breast tissue (invasion). This creates tumours that cause lumps or thickening.\n",
        "\n",
        "Invasive cancers can spread to nearby lymph nodes or other organs (metastasize). Metastasis can be life-threatening and fatal.\n",
        "\n",
        "Treatment is based on the person, the type of cancer and its spread. Treatment combines surgery, radiation therapy and medications.\n",
        "\n",
        "Signs and symptoms\n",
        "Most people will not experience any symptoms when the cancer is still early hence the importance of early detection.\n",
        "\n",
        "Breast cancer can have combinations of symptoms, especially when it is more advanced. Symptoms of breast cancer can include:\n",
        "\n",
        "a breast lump or thickening, often without pain\n",
        "change in size, shape or appearance of the breast\n",
        "dimpling, redness, pitting or other changes in the skin\n",
        "change in nipple appearance or the skin surrounding the nipple (areola)\n",
        "abnormal or bloody fluid from the nipple.\n",
        "People with an abnormal breast lump should seek medical care, even if the lump does not hurt.\n",
        "\n",
        "Most breast lumps are not cancer. Breast lumps that are cancerous are more likely to be successfully treated when they are small and have not spread to nearby lymph nodes.\n",
        "\n",
        "Breast cancers may spread to other areas of the body and trigger other symptoms. Often, the most common first detectable site of spread is to the lymph nodes under the arm although it is possible to have cancer-bearing lymph nodes that cannot be felt.\n",
        "\n",
        "Over time, cancerous cells may spread to other organs including the lungs, liver, brain and bones. Once they reach these sites, new cancer-related symptoms such as bone pain or headaches may appear.\n",
        "\n",
        "you can see more information here: https://www.who.int/news-room/fact-sheets/detail/breast-cancer\"\"\",\n",
        "        \"Lung Cancer\" : \"\"\"Overview\n",
        "Lung cancer is a type of cancer that starts when abnormal cells grow in an uncontrolled way in the lungs. It is a serious health issue that can cause severe harm and death.\n",
        "\n",
        "Symptoms of lung cancer include a cough that does not go away, chest pain and shortness of breath.\n",
        "\n",
        "It is important to seek medical care early to avoid serious health effects. Treatments depend on the person’s medical history and the stage of the disease.\n",
        "\n",
        "The most common types of lung cancer are non-small cell carcinoma (NSCLC) and small cell carcinoma (SCLC). NSCLC is more common and grows slowly, while SCLC is less common but often grows quickly.\n",
        "\n",
        "Lung cancer is a significant public health concern, causing a considerable number of deaths globally. GLOBOCAN 2020 estimates of cancer incidence and mortality produced by the International Agency for Research on Cancer (IARC) show as lung cancer remains the leading cause of cancer death, with an estimated 1.8 million deaths (18%) in 2020.\n",
        "\n",
        "Smoking tobacco (including cigarettes, cigars, and pipes) is the primary risk factor for lung cancer but it can also affect non-smokers. Other risk factors include exposure to secondhand smoke, occupational hazards (such as asbestos, radon and certain chemicals), air pollution, hereditary cancer syndromes, and previous chronic lung diseases.\n",
        "\n",
        "Symptoms\n",
        "Lung cancer can cause several symptoms that may indicate a problem in the lungs.\n",
        "\n",
        "The most common symptoms include:\n",
        "\n",
        "cough that does not go away\n",
        "chest pain\n",
        "shortness of breath\n",
        "coughing up blood (haemoptysis)\n",
        "fatigue\n",
        "weight loss with no known cause\n",
        "lung infections that keep coming back.\n",
        "Early symptoms may be mild or dismissed as common respiratory issues, leading to delayed diagnosis.\n",
        "\n",
        "you can see more information here: https://www.who.int/news-room/fact-sheets/detail/lung-cancer\"\"\",\n",
        "        \"Prostate Cancer\" : \"\"\"Overview:\n",
        "        Cancer is the result of abnormal cell growth, which takes over the body’s normal cell function, making it harder for the body to work the way it should. Prostate cancer develops when abnormal cells form and grow in the prostate gland. Not all abnormal growths, also called tumors, are cancerous (malignant). Some tumors are not cancerous (benign).\n",
        "\n",
        "Benign growths, such as benign prostatic hyperplasia (BPH), are not life threatening. They do not spread to nearby tissue or other parts of the body. These growths can be removed and may grow back slowly (but often do not grow back).\n",
        "Cancerous growths, such as prostate cancer, can spread (metastasize) to nearby organs and tissues such as the bladder or rectum, or to other parts of the body. If the abnormal growth is removed, it can still grow back. Prostate cancer can be life threatening if it spreads far beyond the prostate (metastatic disease).\n",
        "\n",
        "Symptoms\n",
        "In its early stages, prostate cancer often has no symptoms. When symptoms do occur, they can be like those of an enlarged prostate or BPH. Prostate cancer can also cause symptoms unrelated to BPH. If you have urinary problems, talk with your healthcare provider about them.\n",
        "\n",
        "Symptoms of prostate cancer can be:\n",
        "\n",
        "Dull pain in the lower pelvic area\n",
        "Frequent urinating\n",
        "Trouble urinating, pain, burning, or weak urine flow\n",
        "Blood in the urine (Hematuria)\n",
        "Painful ejaculation\n",
        "Pain in the lower back, hips or upper thighs\n",
        "Loss of appetite\n",
        "Loss of weight\n",
        "Bone pain\n",
        "\n",
        "you can see more information here: https://www.urologyhealth.org/urology-a-z/p/prostate-cancer\"\"\",\n",
        "        \"Colorectal Cancer\" : \"\"\"Overview\n",
        "Colorectal cancer is a type of cancer that affects the colon (large intestine) or rectum. It is one of the most common types of cancer worldwide. It can cause severe harm and death.\n",
        "\n",
        "The risk of colorectal cancer increases with age. Most cases affect people over 50 years old.\n",
        "\n",
        "Common symptoms include diarrhoea, constipation, blood in the stool, abdominal pain, unexplained weight loss, fatigue, and low iron levels.\n",
        "\n",
        "Many people will not have symptoms in the early stages of the disease.\n",
        "\n",
        "The risk of colorectal cancer can be reduced by eating a healthy diet, staying physically active, not smoking tobacco and limiting alcohol. Regular screenings are crucial for early detection.\n",
        "\n",
        "Colon cancer is the second leading cause of cancer-related deaths worldwide. In 2020, more than 1.9 million new cases of colorectal cancer and more than 930 000 deaths due to colorectal cancer were estimated to have occurred worldwide. Large geographical variations in incidence and mortality rates were observed. The incidence rates were highest in Europe and Australia and New Zealand, and the mortality rates were highest in Eastern Europe. By 2040 the burden of colorectal cancer will increase to 3.2 million new cases per year (an increase of 63%) and 1.6 million deaths per year (an increase of 73%).\n",
        "\n",
        "Incidence rates of colorectal cancer have been decreasing in high-income countries, largely as a result of effective screening programmes. The prognosis for colorectal cancer varies depending on the stage at diagnosis. Early-stage cancers have higher survival rates than advanced-stage cancers. Timely diagnosis, appropriate treatment, and regular follow-up care are important for improving survival rates and quality of life.\n",
        "\n",
        "Symptoms\n",
        "Colorectal cancer often has no symptoms in the early stages. Regular screenings are important to catch the disease early and begin treatment.\n",
        "\n",
        "Common symptoms include:\n",
        "\n",
        "changes in bowel habits such as diarrhoea, constipation, or narrowing of the stool\n",
        "blood in the stool (rectal bleeding), either bright red or dark and tar-like\n",
        "abdominal cramps, pain or bloating that won’t go away\n",
        "unexplained weight loss that is sudden and losing weight without trying\n",
        "feeling constantly tired and lacking energy, even with enough rest\n",
        "iron deficiency anaemia due to chronic bleeding, causing fatigue, weakness and paleness.\n",
        "\n",
        "you can see more information here: https://www.who.int/news-room/fact-sheets/detail/colorectal-cancer\"\"\",\n",
        "        \"Skin Cancer (Melanoma)\" : \"\"\"Overview:\n",
        "        Melanoma is a kind of skin cancer that starts in the melanocytes. Melanocytes are cells that make the pigment that gives skin its color. The pigment is called melanin.\n",
        "\n",
        "Melanoma typically starts on skin that's often exposed to the sun. This includes the skin on the arms, back, face and legs. Melanoma also can form in the eyes. Rarely, it can happen inside the body, such as in the nose or throat.\n",
        "\n",
        "The exact cause of all melanomas isn't clear. Most melanomas are caused by exposure to ultraviolet light. Ultraviolet light, also called UV light, comes from sunlight or tanning lamps and beds. Limiting exposure to UV light can help reduce the risk of melanoma.\n",
        "\n",
        "The risk of melanoma seems to be increasing in people under 40, especially women. Knowing the symptoms of skin cancer can help ensure that cancerous changes are detected and treated before the cancer has spread. Melanoma can be treated successfully if it is found early.\n",
        "\n",
        "Symptoms\n",
        "Moles\n",
        "Moles\n",
        "Enlarge image\n",
        "Melanoma\n",
        "Melanoma\n",
        "Enlarge image\n",
        "The first melanoma signs and symptoms often are:\n",
        "\n",
        "A change in an existing mole.\n",
        "The development of a new pigmented or unusual-looking growth on the skin.\n",
        "Melanoma doesn't always begin as a mole. It also can happen on otherwise healthy skin.\n",
        "\n",
        "Melanomas symptoms can happen anywhere on the body. Melanomas most often develop in areas that have had exposure to the sun. This includes the arms, back, face and legs.\n",
        "\n",
        "Melanomas also can happen in areas that aren't as exposed to the sun. This includes the soles of the feet, palms of the hands and fingernail beds. Melanoma also can happen inside the body. These hidden melanomas are more common in people with brown or Black skin.\n",
        "\n",
        "you can see more information here: https://www.mayoclinic.org/diseases-conditions/melanoma/symptoms-causes/syc-20374884\"\"\",\n",
        "        \"Brain Cancer\" : \"\"\"Overview:\n",
        "        Brain cancers include primary brain tumours, which start in the brain and almost never spread to other parts of the body, and secondary tumours (or metastases), which are caused by cancers that began in another part of the body.\n",
        "\n",
        "There are more than 40 major types of brain tumours, which are grouped into two main types:\n",
        "\n",
        "benign - slow-growing and unlikely to spread. Common types are meningiomas, neuromas, pituitary tumours and craniopharyngiomas.\n",
        "malignant - cancerous and able to spread into other parts of the brain or spinal cord. Common types include astrocytomas, oligodendrogliomas, glioblastomas and mixed gliomas.\n",
        "It is estimated that more than 1,900 people were diagnosed with brain cancer in 2023. The average age at diagnosis is 59 years old.\n",
        "\n",
        "\n",
        "Brain cancer signs and symptoms\n",
        "Headaches are often the first symptom of a brain tumour. The headaches can be mild, severe, persistent, or come and go. A headache isn't always a brain tumour but if you're worried, be sure to see your GP.\n",
        "\n",
        "Other symptoms include:\n",
        "\n",
        "seizures: severe (e.g. a convulsion) or mild (a fleeting disturbance of awareness, sensation or jerking muscles)\n",
        "\n",
        "weakness or paralysis in part of the body\n",
        "\n",
        "loss of balance\n",
        "\n",
        "general irritability, drowsiness or a change in personality\n",
        "\n",
        "nausea and vomiting\n",
        "\n",
        "disturbed vision, hearing, smell or taste.\n",
        "\n",
        "you can see more information here: https://www.cancer.org.au/cancer-information/types-of-cancer/brain-cancer\"\"\",\n",
        "        \"Asthma\" : \"\"\"Overview\n",
        "Asthma is a chronic lung disease affecting people of all ages. It is caused by inflammation and muscle tightening around the airways, which makes it harder to breathe.\n",
        "\n",
        "Symptoms can include coughing, wheezing, shortness of breath and chest tightness. These symptoms can be mild or severe and can come and go over time.\n",
        "\n",
        "Although asthma can be a serious condition, it can be managed with the right treatment. People with symptoms of asthma should speak to a health professional.\n",
        "\n",
        "Symptoms\n",
        "Symptoms of asthma can vary from person to person. Symptoms sometimes get significantly worse. This is known as an asthma attack. Symptoms are often worse at night or during exercise.\n",
        "\n",
        "Common symptoms of asthma include:\n",
        "\n",
        "a persistent cough, especially at night\n",
        "wheezing when exhaling and sometimes when inhaling\n",
        "shortness of breath or difficulty breathing, sometimes even when resting\n",
        "chest tightness, making it difficult to breathe deeply.\n",
        "Some people will have worse symptoms when they have a cold or during changes in the weather. Other triggers can include dust, smoke, fumes, grass and tree pollen, animal fur and feathers, strong soaps and perfume.\n",
        "\n",
        "Symptoms can be caused by other conditions as well. People with symptoms should talk to a healthcare provider.\n",
        "\n",
        "you can see more information here: https://www.who.int/news-room/fact-sheets/detail/asthma\"\"\",\n",
        "        \"Leukemia\" : \"\"\"Overview\n",
        "Leukemia is cancer of the body's blood-forming tissues, including the bone marrow and the lymphatic system.\n",
        "\n",
        "Many types of leukemia exist. Some forms of leukemia are more common in children. Other forms of leukemia occur mostly in adults.\n",
        "\n",
        "Leukemia usually involves the white blood cells. Your white blood cells are potent infection fighters — they normally grow and divide in an orderly way, as your body needs them. But in people with leukemia, the bone marrow produces an excessive amount of abnormal white blood cells, which don't function properly.\n",
        "\n",
        "Treatment for leukemia can be complex — depending on the type of leukemia and other factors. But there are strategies and resources that can help make your treatment successful.\n",
        "\n",
        "Symptoms\n",
        "Leukemia symptoms vary, depending on the type of leukemia. Common leukemia signs and symptoms include:\n",
        "\n",
        "Fever or chills\n",
        "Persistent fatigue, weakness\n",
        "Frequent or severe infections\n",
        "Losing weight without trying\n",
        "Swollen lymph nodes, enlarged liver or spleen\n",
        "Easy bleeding or bruising\n",
        "Recurrent nosebleeds\n",
        "Tiny red spots in your skin (petechiae)\n",
        "Excessive sweating, especially at night\n",
        "Bone pain or tenderness\n",
        "\n",
        "you can see more information here: https://www.mayoclinic.org/diseases-conditions/leukemia/symptoms-causes/syc-20374373\"\"\",\n",
        "        \"Chronic Obstructive \" : \"\"\"Overview\n",
        "Chronic obstructive pulmonary disease (COPD) is a common lung disease causing restricted airflow and breathing problems. It is sometimes called emphysema or chronic bronchitis.\n",
        "\n",
        "In people with COPD, the lungs can get damaged or clogged with phlegm. Symptoms include cough, sometimes with phlegm, difficulty breathing, wheezing and tiredness.\n",
        "\n",
        "Smoking and air pollution are the most common causes of COPD. People with COPD are at higher risk of other health problems.\n",
        "\n",
        "COPD is not curable but symptoms can improve if one avoids smoking and exposure to air pollution and gets vaccines to prevent infections. It can also be treated with medicines, oxygen and pulmonary rehabilitation.\n",
        "\n",
        "Symptoms\n",
        "The most common symptoms of COPD are difficulty breathing, chronic cough (sometimes with phlegm) and feeling tired.\n",
        "\n",
        "COPD symptoms can get worse quickly. These are called flare-ups. These usually last for a few days and often require additional medicine.\n",
        "\n",
        "People with COPD also have a higher risk for other health problems. These include:\n",
        "\n",
        "lung infections, like the flu or pneumonia\n",
        "lung cancer\n",
        "heart problems\n",
        "weak muscles and brittle bones\n",
        "depression and anxiety.\n",
        "Common symptoms of COPD develop from mid-life onwards. As COPD progresses, people find it more difficult to carry out their normal daily activities, often due to breathlessness. There may be a considerable financial burden due to limitation of workplace and home productivity, and costs of medical treatment.\n",
        "\n",
        "COPD is sometimes called emphysema or chronic bronchitis. Emphysema usually refers to destruction of the tiny air sacs at the end of the airways in the lungs. Chronic bronchitis refers to a chronic cough with the production of phlegm resulting from inflammation in the airways. COPD and asthma share common symptoms (cough, wheeze and difficulty breathing) and people may have both conditions.\n",
        "\n",
        "you can see more information here: https://www.who.int/news-room/fact-sheets/detail/chronic-obstructive-pulmonary-disease-(copd)\"\"\",\n",
        "        \"Pulmonary Disease (COPD)\" : \"\"\"Overview\n",
        "Chronic obstructive pulmonary disease (COPD) is a common lung disease causing restricted airflow and breathing problems. It is sometimes called emphysema or chronic bronchitis.\n",
        "\n",
        "In people with COPD, the lungs can get damaged or clogged with phlegm. Symptoms include cough, sometimes with phlegm, difficulty breathing, wheezing and tiredness.\n",
        "\n",
        "Smoking and air pollution are the most common causes of COPD. People with COPD are at higher risk of other health problems.\n",
        "\n",
        "COPD is not curable but symptoms can improve if one avoids smoking and exposure to air pollution and gets vaccines to prevent infections. It can also be treated with medicines, oxygen and pulmonary rehabilitation.\n",
        "\n",
        "Symptoms\n",
        "The most common symptoms of COPD are difficulty breathing, chronic cough (sometimes with phlegm) and feeling tired.\n",
        "\n",
        "COPD symptoms can get worse quickly. These are called flare-ups. These usually last for a few days and often require additional medicine.\n",
        "\n",
        "People with COPD also have a higher risk for other health problems. These include:\n",
        "\n",
        "lung infections, like the flu or pneumonia\n",
        "lung cancer\n",
        "heart problems\n",
        "weak muscles and brittle bones\n",
        "depression and anxiety.\n",
        "Common symptoms of COPD develop from mid-life onwards. As COPD progresses, people find it more difficult to carry out their normal daily activities, often due to breathlessness. There may be a considerable financial burden due to limitation of workplace and home productivity, and costs of medical treatment.\n",
        "\n",
        "COPD is sometimes called emphysema or chronic bronchitis. Emphysema usually refers to destruction of the tiny air sacs at the end of the airways in the lungs. Chronic bronchitis refers to a chronic cough with the production of phlegm resulting from inflammation in the airways. COPD and asthma share common symptoms (cough, wheeze and difficulty breathing) and people may have both conditions.\n",
        "\n",
        "you can see more information here: https://www.who.int/news-room/fact-sheets/detail/chronic-obstructive-pulmonary-disease-(copd)\"\"\",\n",
        "        \"Interstitial Lung Disease\" : \"\"\"Overview\n",
        "Interstitial (in-tur-STISH-ul) lung disease describes a large group of disorders, most of which cause progressive scarring of lung tissue. The scarring associated with interstitial lung disease eventually affects your ability to breathe and get enough oxygen into your bloodstream.\n",
        "\n",
        "Interstitial lung disease can be caused by long-term exposure to hazardous materials, such as asbestos. Some types of autoimmune diseases, such as rheumatoid arthritis, also can cause interstitial lung disease. In some cases, however, the causes remain unknown.\n",
        "\n",
        "Once lung scarring occurs, it's generally irreversible. Medications may slow the damage of interstitial lung disease, but many people never regain full use of their lungs. Lung transplant is an option for some people who have interstitial lung disease.\n",
        "\n",
        "Symptoms\n",
        "The primary signs and symptoms of interstitial lung disease are:\n",
        "\n",
        "Shortness of breath at rest or aggravated by exertion\n",
        "Dry cough\n",
        "\n",
        "you can see more information here: https://www.mayoclinic.org/diseases-conditions/interstitial-lung-disease/symptoms-causes/syc-20353108\"\"\",\n",
        "        \"Diabetes\" : \"\"\"Overview:\n",
        "Diabetes is a chronic, metabolic disease characterized by elevated levels of blood glucose (or blood sugar), which leads over time to serious damage to the heart, blood vessels, eyes, kidneys and nerves. The most common is type 2 diabetes, usually in adults, which occurs when the body becomes resistant to insulin or doesn't make enough insulin. In the past 3 decades the prevalence of type 2 diabetes has risen dramatically in countries of all income levels. Type 1 diabetes, once known as juvenile diabetes or insulin-dependent diabetes, is a chronic condition in which the pancreas produces little or no insulin by itself. For people living with diabetes, access to affordable treatment, including insulin, is critical to their survival. There is a globally agreed target to halt the rise in diabetes and obesity by 2025.\n",
        "\n",
        "About 422 million people worldwide have diabetes, the majority living in low-and middle-income countries, and 1.5 million deaths are directly attributed to diabetes each year. Both the number of cases and the prevalence of diabetes have been steadily increasing over the past few decades.\n",
        "Symptoms:\n",
        "Symptoms of type 1 diabetes include the need to urinate often, thirst, constant hunger, weight loss, vision changes and fatigue. These symptoms may occur suddenly. Symptoms for type 2 diabetes are generally similar to those of type 1 diabetes but are often less marked. As a result, the disease may be diagnosed several years after onset, after complications have already arisen. For this reason, it is important to be aware of risk factors.\n",
        "\n",
        "you can see more information here: https://www.who.int/health-topics/diabetes\"\"\",\n",
        "        \"Hypothyroidism (Underactive Thyroid)\" : \"\"\"Overview:\n",
        "Hypothyroidism is a common condition where the thyroid doesn’t create and release enough thyroid hormone into your bloodstream. This makes your metabolism slow down. Also called underactive thyroid, hypothyroidism can make you feel tired, gain weight and be unable to tolerate cold temperatures. The main treatment for hypothyroidism is hormone replacement therapy.\n",
        "Hypothyroidism is when there isn’t enough thyroid hormone in your bloodstream and your metabolism slows down.\n",
        "\n",
        "Hypothyroidism happens when your thyroid doesn’t create and release enough thyroid hormone into your body. This makes your metabolism slow down, affecting your entire body. Also known as underactive thyroid disease, hypothyroidism is fairly common.\n",
        "\n",
        "Symptoms:\n",
        "When your thyroid levels are extremely low, this is called myxedema. A very serious condition, myxedema can cause serious symptoms, including:\n",
        "\n",
        "A low body temperature.\n",
        "Anemia.\n",
        "Heart failure.\n",
        "Confusion.\n",
        "Coma.\n",
        "This severe type of hypothyroidism is life-threatening.\n",
        "\n",
        "In general, hypothyroidism is a very treatable condition. It can be managed with regular medications and follow-up appointments with your healthcare provider.\n",
        "\n",
        "you can see more information here: https://my.clevelandclinic.org/health/diseases/12120-hypothyroidism\"\"\",\n",
        "        \"Hyperthyroidism (Overactive Thyroid)\" : \"\"\"Overview\n",
        "Hyperthyroidism happens when the thyroid gland makes too much thyroid hormone. This condition also is called overactive thyroid. Hyperthyroidism speeds up the body's metabolism. That can cause many symptoms, such as weight loss, hand tremors, and rapid or irregular heartbeat.\n",
        "\n",
        "Several treatments are available for hyperthyroidism. Anti-thyroid medicines and radioiodine can be used to slow the amount of hormones the thyroid gland makes. Sometimes, hyperthyroidism treatment includes surgery to remove all or part of the thyroid gland. In some cases, depending on what's causing it, hyperthyroidism may improve without medication or other treatment.\n",
        "\n",
        "Symptoms\n",
        "Hyperthyroidism sometimes looks like other health problems. That can make it hard to diagnose. It can cause many symptoms, including:\n",
        "\n",
        "Losing weight without trying.\n",
        "Fast heartbeat, a condition called tachycardia.\n",
        "Irregular heartbeat, also called arrhythmia.\n",
        "Pounding of the heart, sometimes called heart palpitations.\n",
        "Increased hunger.\n",
        "Nervousness, anxiety and irritability.\n",
        "Tremor, usually a small trembling in the hands and fingers.\n",
        "Sweating.\n",
        "Changes in menstrual cycles.\n",
        "Increased sensitivity to heat.\n",
        "Changes in bowel patterns, especially more-frequent bowel movements.\n",
        "Enlarged thyroid gland, sometimes called a goiter, which may appear as a swelling at the base of the neck.\n",
        "Tiredness.\n",
        "Muscle weakness.\n",
        "Sleep problems.\n",
        "Warm, moist skin.\n",
        "Thinning skin.\n",
        "Fine, brittle hair.\n",
        "Older adults are more likely to have symptoms that are hard to notice. These symptoms may include an irregular heartbeat, weight loss, depression, and feeling weak or tired during ordinary activities.\n",
        "\n",
        "you can see more information here: https://www.mayoclinic.org/diseases-conditions/hyperthyroidism/symptoms-causes/syc-20373659\"\"\",\n",
        "        \"Addison's Disease\" : \"\"\"Overview\n",
        "Addison's disease, also called adrenal insufficiency, is an uncommon illness that occurs when the body doesn't make enough of certain hormones. In Addison's disease, the adrenal glands make too little cortisol and, often, too little of another hormone, aldosterone.\n",
        "\n",
        "Addison's disease can affect anyone and can be life-threatening. Treatment involves taking hormones to replace those that are missing.\n",
        "\n",
        "Symptoms\n",
        "Addison's disease symptoms usually happen slowly, often over months. The disease can move so slowly that people who have it may ignore the symptoms at first. Then a stress, such as illness or injury, makes symptoms worse.\n",
        "\n",
        "Symptoms may include:\n",
        "\n",
        "Extreme fatigue\n",
        "Weight loss and loss of appetite\n",
        "Areas of darkened skin\n",
        "Low blood pressure, even fainting\n",
        "Salt craving\n",
        "Low blood sugar, also called hypoglycemia\n",
        "Nausea, diarrhea or vomiting\n",
        "Abdominal pain\n",
        "Muscle and joint pain\n",
        "Irritability\n",
        "Depression\n",
        "Body hair loss or sexual issues in some people\n",
        "\n",
        "you can see more information here: https://www.mayoclinic.org/diseases-conditions/addisons-disease/symptoms-causes/syc-20350293\"\"\",\n",
        "       }"
      ]
    },
    {
      "cell_type": "code",
      "execution_count": 18,
      "metadata": {
        "id": "7VBDBSEq2JDt",
        "colab": {
          "base_uri": "https://localhost:8080/"
        },
        "outputId": "f273f619-f960-4477-e6bf-dbf79c4f4709"
      },
      "outputs": [
        {
          "output_type": "execute_result",
          "data": {
            "text/plain": [
              "30"
            ]
          },
          "metadata": {},
          "execution_count": 18
        }
      ],
      "source": [
        "len(info)"
      ]
    },
    {
      "cell_type": "code",
      "execution_count": 19,
      "metadata": {
        "id": "meDOrfXZ2JDt"
      },
      "outputs": [],
      "source": [
        "x = []\n",
        "y = []\n",
        "labels = []\n",
        "\n",
        "for i in data['intents']:\n",
        "    for pattern in i['patterns']:\n",
        "        x.append(pattern)\n",
        "        y.append(i['tag'])\n",
        "    responses[i['tag']] = i['responses']\n",
        "\n",
        "    if i['tag'] not in labels:\n",
        "        labels.append(i['tag'])"
      ]
    },
    {
      "cell_type": "code",
      "execution_count": 20,
      "metadata": {
        "id": "dqAOkEWt2JDu",
        "colab": {
          "base_uri": "https://localhost:8080/"
        },
        "outputId": "3fda55de-cfec-42ed-c02b-a01e4fc4abd5"
      },
      "outputs": [
        {
          "output_type": "execute_result",
          "data": {
            "text/plain": [
              "1804"
            ]
          },
          "metadata": {},
          "execution_count": 20
        }
      ],
      "source": [
        "len(x)"
      ]
    },
    {
      "cell_type": "code",
      "execution_count": 21,
      "metadata": {
        "id": "IB0EEcn-2JDu",
        "colab": {
          "base_uri": "https://localhost:8080/"
        },
        "outputId": "639699c7-bf51-4482-d1d0-74f9b52fc871"
      },
      "outputs": [
        {
          "output_type": "execute_result",
          "data": {
            "text/plain": [
              "44"
            ]
          },
          "metadata": {},
          "execution_count": 21
        }
      ],
      "source": [
        "len(labels)"
      ]
    },
    {
      "cell_type": "code",
      "execution_count": 22,
      "metadata": {
        "id": "GGRBKpr42JDu",
        "colab": {
          "base_uri": "https://localhost:8080/"
        },
        "outputId": "db9dd4d2-d03e-4d82-f1ae-c2faba2c4655"
      },
      "outputs": [
        {
          "output_type": "stream",
          "name": "stdout",
          "text": [
            "[\"Addison's Disease\", 'Arrhythmias (Irregular Heartbeat)', 'Asthma', 'Atherosclerosis', 'Brain Cancer', 'Breast Cancer', 'COVID-19.', 'Cholera', 'Chronic Obstructive ', 'Colorectal Cancer', 'Coronary Artery Disease (CAD)', 'Dengue Fever', 'Diabetes', 'Ebola Virus Disease', 'HIV/AIDS', 'Heart Attack (Myocardial Infarction)', 'Hepatitis', 'Hypertension (High Blood Pressure)', 'Hyperthyroidism (Overactive Thyroid)', 'Hypothyroidism (Underactive Thyroid)', 'Influenza (Flu)', 'Interstitial Lung Disease', 'Leukemia', 'Lung Cancer', 'Malaria', 'Prostate Cancer', 'Pulmonary Disease (COPD)', 'Skin Cancer (Melanoma)', 'Stroke', 'Tuberculosis (TB)', 'about', 'creation', 'death', 'goodbye', 'greeting', 'happy', 'help', 'no-response', 'sad', 'scared', 'skill', 'swear', 'thanks', 'understand']\n"
          ]
        }
      ],
      "source": [
        "labels = sorted(labels)\n",
        "print(labels)"
      ]
    },
    {
      "cell_type": "code",
      "execution_count": 23,
      "metadata": {
        "id": "VQOyUGkx2JDu",
        "colab": {
          "base_uri": "https://localhost:8080/",
          "height": 36
        },
        "outputId": "fa73c3b6-2637-4211-cd8a-258800bda7cb"
      },
      "outputs": [
        {
          "output_type": "execute_result",
          "data": {
            "text/plain": [
              "\"You're most welcome!\""
            ],
            "application/vnd.google.colaboratory.intrinsic+json": {
              "type": "string"
            }
          },
          "metadata": {},
          "execution_count": 23
        }
      ],
      "source": [
        "responses[labels[-2]][random.randint(0,len(responses[labels[-1]])-1)]"
      ]
    },
    {
      "cell_type": "code",
      "execution_count": 24,
      "metadata": {
        "id": "_Zt0ignB2JDv",
        "colab": {
          "base_uri": "https://localhost:8080/"
        },
        "outputId": "c141c029-06bf-4f02-fb38-3fafd962c4a5"
      },
      "outputs": [
        {
          "output_type": "stream",
          "name": "stdout",
          "text": [
            "I have Changes in Bowel Habits, Weakness and Fatigue, Iron-Deficiency Anemia, Abdominal Discomfort, Unexplained Weight Loss. What tests do you recommend?,I have Incomplete Evacuation, Changes in Bowel Habits, Blood in Stool, Abdominal Discomfort, Weakness and Fatigue. What tests do you recommend?\n"
          ]
        }
      ],
      "source": [
        "max_len = max(x, key=len)\n",
        "print(max_len)"
      ]
    },
    {
      "cell_type": "code",
      "execution_count": 25,
      "metadata": {
        "id": "xXU1GE1d2JDv",
        "colab": {
          "base_uri": "https://localhost:8080/"
        },
        "outputId": "75d1ffa6-0d81-4c5c-b3d2-5a186cf66d4b"
      },
      "outputs": [
        {
          "output_type": "execute_result",
          "data": {
            "text/plain": [
              "297"
            ]
          },
          "metadata": {},
          "execution_count": 25
        }
      ],
      "source": [
        "len(max_len)"
      ]
    },
    {
      "cell_type": "markdown",
      "metadata": {
        "id": "qnBgAgMj2JDv"
      },
      "source": [
        "## Diseases"
      ]
    },
    {
      "cell_type": "code",
      "execution_count": 26,
      "metadata": {
        "id": "Aij8Tu292JDv",
        "colab": {
          "base_uri": "https://localhost:8080/",
          "height": 36
        },
        "outputId": "655b3eea-3581-4a98-d068-110c1d468b35"
      },
      "outputs": [
        {
          "output_type": "execute_result",
          "data": {
            "text/plain": [
              "'Is anyone there?'"
            ],
            "application/vnd.google.colaboratory.intrinsic+json": {
              "type": "string"
            }
          },
          "metadata": {},
          "execution_count": 26
        }
      ],
      "source": [
        "x[2]"
      ]
    },
    {
      "cell_type": "markdown",
      "metadata": {
        "id": "NhxyzN_n2JDv"
      },
      "source": [
        "# Preprocessing X"
      ]
    },
    {
      "cell_type": "code",
      "execution_count": 27,
      "metadata": {
        "id": "2x0tI0Op_UJa",
        "colab": {
          "base_uri": "https://localhost:8080/"
        },
        "outputId": "36078052-f75d-4d6c-a060-24bee2e240ad"
      },
      "outputs": [
        {
          "output_type": "stream",
          "name": "stderr",
          "text": [
            "[nltk_data] Downloading package punkt to /root/nltk_data...\n",
            "[nltk_data]   Package punkt is already up-to-date!\n",
            "[nltk_data] Downloading package punkt_tab to /root/nltk_data...\n",
            "[nltk_data]   Package punkt_tab is already up-to-date!\n"
          ]
        }
      ],
      "source": [
        "import nltk\n",
        "nltk.download('punkt')\n",
        "nltk.download('punkt_tab') # Download the punkt_tab data\n",
        "from nltk.stem.lancaster import LancasterStemmer\n",
        "stemmer = LancasterStemmer()"
      ]
    },
    {
      "cell_type": "code",
      "execution_count": 28,
      "metadata": {
        "id": "lcl7DMJW2JDv"
      },
      "outputs": [],
      "source": [
        "for i in range(len(x)):\n",
        "    x[i] = x[i].replace(',','').replace('.','').replace(\"\\'\",'').replace(\"!\",'')\n",
        "    s = \"\"\n",
        "    words = nltk.word_tokenize(x[i])\n",
        "    words = [stemmer.stem(w.lower()) for w in words if w !='?']\n",
        "    for w in words:\n",
        "        s = s+w+\" \"\n",
        "    x[i] = s\n",
        "    x[i] = x[i].strip()"
      ]
    },
    {
      "cell_type": "code",
      "execution_count": 29,
      "metadata": {
        "id": "nTmG-yCZ2JDw",
        "colab": {
          "base_uri": "https://localhost:8080/",
          "height": 36
        },
        "outputId": "97bea5bf-b66d-4618-8d51-530f9bb924e0"
      },
      "outputs": [
        {
          "output_type": "execute_result",
          "data": {
            "text/plain": [
              "'is anyon ther'"
            ],
            "application/vnd.google.colaboratory.intrinsic+json": {
              "type": "string"
            }
          },
          "metadata": {},
          "execution_count": 29
        }
      ],
      "source": [
        "x[2]"
      ]
    },
    {
      "cell_type": "code",
      "execution_count": 30,
      "metadata": {
        "id": "RguhUEIk2JDw",
        "colab": {
          "base_uri": "https://localhost:8080/"
        },
        "outputId": "c88762f1-dc5c-409c-89ac-bcd09d7def94"
      },
      "outputs": [
        {
          "output_type": "execute_result",
          "data": {
            "text/plain": [
              "[\"Addison's Disease\",\n",
              " 'Arrhythmias (Irregular Heartbeat)',\n",
              " 'Asthma',\n",
              " 'Atherosclerosis',\n",
              " 'Brain Cancer',\n",
              " 'Breast Cancer',\n",
              " 'COVID-19.',\n",
              " 'Cholera',\n",
              " 'Chronic Obstructive ',\n",
              " 'Colorectal Cancer',\n",
              " 'Coronary Artery Disease (CAD)',\n",
              " 'Dengue Fever',\n",
              " 'Diabetes',\n",
              " 'Ebola Virus Disease',\n",
              " 'HIV/AIDS',\n",
              " 'Heart Attack (Myocardial Infarction)',\n",
              " 'Hepatitis',\n",
              " 'Hypertension (High Blood Pressure)',\n",
              " 'Hyperthyroidism (Overactive Thyroid)',\n",
              " 'Hypothyroidism (Underactive Thyroid)',\n",
              " 'Influenza (Flu)',\n",
              " 'Interstitial Lung Disease',\n",
              " 'Leukemia',\n",
              " 'Lung Cancer',\n",
              " 'Malaria',\n",
              " 'Prostate Cancer',\n",
              " 'Pulmonary Disease (COPD)',\n",
              " 'Skin Cancer (Melanoma)',\n",
              " 'Stroke',\n",
              " 'Tuberculosis (TB)',\n",
              " 'about',\n",
              " 'creation',\n",
              " 'death',\n",
              " 'goodbye',\n",
              " 'greeting',\n",
              " 'happy',\n",
              " 'help',\n",
              " 'no-response',\n",
              " 'sad',\n",
              " 'scared',\n",
              " 'skill',\n",
              " 'swear',\n",
              " 'thanks',\n",
              " 'understand']"
            ]
          },
          "metadata": {},
          "execution_count": 30
        }
      ],
      "source": [
        "labels"
      ]
    },
    {
      "cell_type": "code",
      "execution_count": 31,
      "metadata": {
        "id": "_t4n68hN2JDw",
        "colab": {
          "base_uri": "https://localhost:8080/"
        },
        "outputId": "bb28e617-5c55-4ee4-b330-e4c2e7b7fe49"
      },
      "outputs": [
        {
          "output_type": "execute_result",
          "data": {
            "text/plain": [
              "array([\"Addison's Disease\", 'Arrhythmias (Irregular Heartbeat)', 'Asthma',\n",
              "       'Atherosclerosis', 'Brain Cancer', 'Breast Cancer', 'COVID-19.',\n",
              "       'Cholera', 'Chronic Obstructive ', 'Colorectal Cancer',\n",
              "       'Coronary Artery Disease (CAD)', 'Dengue Fever', 'Diabetes',\n",
              "       'Ebola Virus Disease', 'HIV/AIDS',\n",
              "       'Heart Attack (Myocardial Infarction)', 'Hepatitis',\n",
              "       'Hypertension (High Blood Pressure)',\n",
              "       'Hyperthyroidism (Overactive Thyroid)',\n",
              "       'Hypothyroidism (Underactive Thyroid)', 'Influenza (Flu)',\n",
              "       'Interstitial Lung Disease', 'Leukemia', 'Lung Cancer', 'Malaria',\n",
              "       'Prostate Cancer', 'Pulmonary Disease (COPD)',\n",
              "       'Skin Cancer (Melanoma)', 'Stroke', 'Tuberculosis (TB)', 'about',\n",
              "       'creation', 'death', 'goodbye', 'greeting', 'happy', 'help',\n",
              "       'no-response', 'sad', 'scared', 'skill', 'swear', 'thanks',\n",
              "       'understand'], dtype='<U36')"
            ]
          },
          "metadata": {},
          "execution_count": 31
        }
      ],
      "source": [
        "np.unique(y)"
      ]
    },
    {
      "cell_type": "code",
      "execution_count": 32,
      "metadata": {
        "id": "BPsTF_lD2JDw",
        "colab": {
          "base_uri": "https://localhost:8080/",
          "height": 36
        },
        "outputId": "31b97df6-9432-4a38-bbd9-17710178cdfc"
      },
      "outputs": [
        {
          "output_type": "execute_result",
          "data": {
            "text/plain": [
              "'greeting'"
            ],
            "application/vnd.google.colaboratory.intrinsic+json": {
              "type": "string"
            }
          },
          "metadata": {},
          "execution_count": 32
        }
      ],
      "source": [
        "y[0]"
      ]
    },
    {
      "cell_type": "code",
      "execution_count": 33,
      "metadata": {
        "id": "TMQkS_Mv2JDw",
        "colab": {
          "base_uri": "https://localhost:8080/"
        },
        "outputId": "e4df7330-652e-48ef-d742-6ac43b6d9fa7"
      },
      "outputs": [
        {
          "output_type": "execute_result",
          "data": {
            "text/plain": [
              "34"
            ]
          },
          "metadata": {},
          "execution_count": 33
        }
      ],
      "source": [
        "labels.index(y[0])"
      ]
    },
    {
      "cell_type": "code",
      "execution_count": 34,
      "metadata": {
        "id": "THU4xRbl2JD2",
        "colab": {
          "base_uri": "https://localhost:8080/",
          "height": 36
        },
        "outputId": "eaf270c1-b4c8-4d17-fb2b-ce904d7b6d36"
      },
      "outputs": [
        {
          "output_type": "execute_result",
          "data": {
            "text/plain": [
              "'greeting'"
            ],
            "application/vnd.google.colaboratory.intrinsic+json": {
              "type": "string"
            }
          },
          "metadata": {},
          "execution_count": 34
        }
      ],
      "source": [
        "labels[34]"
      ]
    },
    {
      "cell_type": "markdown",
      "metadata": {
        "id": "KajkBGIH2JD2"
      },
      "source": [
        "# Convert y to categories codes"
      ]
    },
    {
      "cell_type": "code",
      "execution_count": 35,
      "metadata": {
        "id": "lcElqkmd2JD2"
      },
      "outputs": [],
      "source": [
        "for i in range(len(y)):\n",
        "    y[i] = labels.index(y[i])"
      ]
    },
    {
      "cell_type": "code",
      "execution_count": 36,
      "metadata": {
        "id": "lHRFpG2V2JD2",
        "colab": {
          "base_uri": "https://localhost:8080/"
        },
        "outputId": "14a6faee-7b25-44a0-fa60-1a57432849f6"
      },
      "outputs": [
        {
          "output_type": "execute_result",
          "data": {
            "text/plain": [
              "array([ 0,  1,  2,  3,  4,  5,  6,  7,  8,  9, 10, 11, 12, 13, 14, 15, 16,\n",
              "       17, 18, 19, 20, 21, 22, 23, 24, 25, 26, 27, 28, 29, 30, 31, 32, 33,\n",
              "       34, 35, 36, 37, 38, 39, 40, 41, 42, 43])"
            ]
          },
          "metadata": {},
          "execution_count": 36
        }
      ],
      "source": [
        "np.unique(y)"
      ]
    },
    {
      "cell_type": "code",
      "execution_count": 37,
      "metadata": {
        "id": "YIKeBt-72JD2"
      },
      "outputs": [],
      "source": [
        "t = Tokenizer()\n",
        "t.fit_on_texts(x)"
      ]
    },
    {
      "cell_type": "code",
      "execution_count": 38,
      "metadata": {
        "id": "u-2Mc1Bb2JD2"
      },
      "outputs": [],
      "source": [
        "# saving tokenizer\n",
        "with open('t.pickle', 'wb') as handle:\n",
        "    pickle.dump(t, handle, protocol=pickle.HIGHEST_PROTOCOL)"
      ]
    },
    {
      "cell_type": "code",
      "execution_count": 39,
      "metadata": {
        "id": "FY0lRdi72JD3",
        "colab": {
          "base_uri": "https://localhost:8080/",
          "height": 34
        },
        "outputId": "a2240cbd-2ee6-418f-d4e0-cbf2f6cbfd56"
      },
      "outputs": [
        {
          "output_type": "execute_result",
          "data": {
            "text/plain": [
              "/content/t.pickle"
            ],
            "text/html": [
              "<a href='/content/t.pickle' target='_blank'>/content/t.pickle</a><br>"
            ]
          },
          "metadata": {},
          "execution_count": 39
        }
      ],
      "source": [
        "#%cd /kaggle/working\n",
        "from IPython.display import FileLink\n",
        "FileLink(r'/content/t.pickle')"
      ]
    },
    {
      "cell_type": "code",
      "execution_count": 40,
      "metadata": {
        "id": "j1Pi8ZfZBzlr",
        "colab": {
          "base_uri": "https://localhost:8080/"
        },
        "outputId": "9a505cb0-a8c4-46c4-ee7d-36f3bb9c49ca"
      },
      "outputs": [
        {
          "output_type": "stream",
          "name": "stdout",
          "text": [
            "1804\n",
            "is it common for hyperpig and musc pain to be assocy with the symptom iv been expery what test should i request for investig\n",
            "hi\n",
            "i lov you\n"
          ]
        }
      ],
      "source": [
        "print(len(x))\n",
        "# For example, to access the last element:\n",
        "print(x[len(x) - 1])\n",
        "\n",
        "# Or to access the first element:\n",
        "print(x[0])\n",
        "\n",
        "# Or any other element within the range 0 to 404.\n",
        "print(x[100]) # For example."
      ]
    },
    {
      "cell_type": "code",
      "execution_count": 41,
      "metadata": {
        "id": "YiXUUXFe2JD3",
        "colab": {
          "base_uri": "https://localhost:8080/"
        },
        "outputId": "edf38901-05d9-4015-9995-43ec02a1eda2"
      },
      "outputs": [
        {
          "output_type": "stream",
          "name": "stdout",
          "text": [
            "is it common for hyperpig and musc pain to be assocy with the symptom iv been expery what test should i request for investig\n"
          ]
        }
      ],
      "source": [
        "print(x[-1])"
      ]
    },
    {
      "cell_type": "code",
      "execution_count": 42,
      "metadata": {
        "id": "MEcDrbEi2JD3"
      },
      "outputs": [],
      "source": [
        "encoded = t.texts_to_sequences(x)"
      ]
    },
    {
      "cell_type": "code",
      "execution_count": 43,
      "metadata": {
        "id": "-SMor5z02JD3",
        "colab": {
          "base_uri": "https://localhost:8080/"
        },
        "outputId": "6d008658-d4c3-4f35-fc01-c2712e32a9ab"
      },
      "outputs": [
        {
          "output_type": "execute_result",
          "data": {
            "text/plain": [
              "[24,\n",
              " 33,\n",
              " 79,\n",
              " 6,\n",
              " 408,\n",
              " 1,\n",
              " 53,\n",
              " 18,\n",
              " 10,\n",
              " 20,\n",
              " 84,\n",
              " 14,\n",
              " 13,\n",
              " 8,\n",
              " 17,\n",
              " 39,\n",
              " 25,\n",
              " 4,\n",
              " 2,\n",
              " 9,\n",
              " 3,\n",
              " 69,\n",
              " 6,\n",
              " 118]"
            ]
          },
          "metadata": {},
          "execution_count": 43
        }
      ],
      "source": [
        "encoded[-1]"
      ]
    },
    {
      "cell_type": "code",
      "execution_count": 44,
      "metadata": {
        "id": "whdCweE72JD3",
        "colab": {
          "base_uri": "https://localhost:8080/"
        },
        "outputId": "4adfb2da-bf2b-4567-8241-78e66b544bbf"
      },
      "outputs": [
        {
          "output_type": "execute_result",
          "data": {
            "text/plain": [
              "297"
            ]
          },
          "metadata": {},
          "execution_count": 44
        }
      ],
      "source": [
        "len(max_len)"
      ]
    },
    {
      "cell_type": "code",
      "execution_count": 45,
      "metadata": {
        "id": "LWztYbi22JD4",
        "colab": {
          "base_uri": "https://localhost:8080/"
        },
        "outputId": "92af700e-c0ce-4d77-c575-ebd2fec640d3"
      },
      "outputs": [
        {
          "output_type": "execute_result",
          "data": {
            "text/plain": [
              "(1804, 300)"
            ]
          },
          "metadata": {},
          "execution_count": 45
        }
      ],
      "source": [
        "x = pad_sequences(encoded, maxlen=300)\n",
        "x.shape"
      ]
    },
    {
      "cell_type": "code",
      "execution_count": 46,
      "metadata": {
        "id": "CBpsC3mG2JD4",
        "colab": {
          "base_uri": "https://localhost:8080/"
        },
        "outputId": "04797e99-ccb7-4778-d1c6-6a7d023632a6"
      },
      "outputs": [
        {
          "output_type": "execute_result",
          "data": {
            "text/plain": [
              "(300,)"
            ]
          },
          "metadata": {},
          "execution_count": 46
        }
      ],
      "source": [
        "x[0].shape"
      ]
    },
    {
      "cell_type": "code",
      "execution_count": 47,
      "metadata": {
        "id": "6WQAPy1R2JD4"
      },
      "outputs": [],
      "source": [
        "x = np.array(x)\n",
        "y = np.array(y)"
      ]
    },
    {
      "cell_type": "code",
      "execution_count": 48,
      "metadata": {
        "id": "qhup2Foc2JD4",
        "colab": {
          "base_uri": "https://localhost:8080/"
        },
        "outputId": "06c52422-37b7-44a0-8723-7ab947abf584"
      },
      "outputs": [
        {
          "output_type": "stream",
          "name": "stdout",
          "text": [
            "(1623, 300)\n",
            "(1623,)\n",
            "(181, 300)\n",
            "(181,)\n"
          ]
        }
      ],
      "source": [
        "x_train, x_test, y_train, y_test = train_test_split(x,y, train_size=0.9, random_state=13)\n",
        "print(x_train.shape, y_train.shape,x_test.shape,y_test.shape, sep='\\n')"
      ]
    },
    {
      "cell_type": "code",
      "execution_count": 49,
      "metadata": {
        "id": "feKvxk_h2JD4",
        "colab": {
          "base_uri": "https://localhost:8080/"
        },
        "outputId": "c9385f65-9ef5-4709-9562-bdc95c48f778"
      },
      "outputs": [
        {
          "output_type": "execute_result",
          "data": {
            "text/plain": [
              "array([ 0,  1,  2,  3,  4,  5,  6,  7,  8,  9, 10, 11, 12, 13, 14, 15, 16,\n",
              "       17, 18, 19, 20, 21, 22, 23, 24, 25, 26, 27, 28, 29, 30, 31, 32, 33,\n",
              "       34, 35, 36, 37, 38, 39, 40, 41, 42, 43])"
            ]
          },
          "metadata": {},
          "execution_count": 49
        }
      ],
      "source": [
        "np.unique(y_train)"
      ]
    },
    {
      "cell_type": "code",
      "execution_count": 50,
      "metadata": {
        "id": "1KvNE3PE2JD5",
        "colab": {
          "base_uri": "https://localhost:8080/"
        },
        "outputId": "feebb20e-fd83-4280-da2c-14059b616dd0"
      },
      "outputs": [
        {
          "output_type": "execute_result",
          "data": {
            "text/plain": [
              "array([ 0,  1,  2,  3,  4,  5,  6,  7,  8,  9, 10, 11, 12, 13, 14, 15, 16,\n",
              "       17, 18, 19, 20, 21, 22, 23, 24, 25, 26, 27, 28, 29, 30, 31, 33, 34,\n",
              "       35, 36, 37, 38, 40, 41, 42, 43])"
            ]
          },
          "metadata": {},
          "execution_count": 50
        }
      ],
      "source": [
        "np.unique(y_test)"
      ]
    },
    {
      "cell_type": "code",
      "execution_count": 51,
      "metadata": {
        "id": "RyNNv8TA2JD5",
        "colab": {
          "base_uri": "https://localhost:8080/"
        },
        "outputId": "da6830fa-49e1-45fe-9371-7d6e27319c5a"
      },
      "outputs": [
        {
          "output_type": "stream",
          "name": "stdout",
          "text": [
            "105\n"
          ]
        }
      ],
      "source": [
        "for i in range(len(y_train)):\n",
        "    if y_train[i] == 35:\n",
        "        print(i)\n",
        "        break"
      ]
    },
    {
      "cell_type": "code",
      "execution_count": 52,
      "metadata": {
        "id": "4LhAsPJn2JD5"
      },
      "outputs": [],
      "source": [
        "x_test = np.append(x_test, x_train[116].reshape(1,300),axis=0)\n",
        "y_test = np.append(y_test, y_train[116])"
      ]
    },
    {
      "cell_type": "code",
      "execution_count": 53,
      "metadata": {
        "id": "zPTEx2OJ2JD5",
        "colab": {
          "base_uri": "https://localhost:8080/"
        },
        "outputId": "2c71e248-54b9-42f2-d3d3-4f183e59bbcc"
      },
      "outputs": [
        {
          "output_type": "execute_result",
          "data": {
            "text/plain": [
              "(182, 300)"
            ]
          },
          "metadata": {},
          "execution_count": 53
        }
      ],
      "source": [
        "x_test.shape"
      ]
    },
    {
      "cell_type": "code",
      "execution_count": 54,
      "metadata": {
        "id": "7l9tjc8p2JD5",
        "colab": {
          "base_uri": "https://localhost:8080/"
        },
        "outputId": "59da3ec7-ade5-41b7-f632-c9ea509c5a78"
      },
      "outputs": [
        {
          "output_type": "execute_result",
          "data": {
            "text/plain": [
              "(182,)"
            ]
          },
          "metadata": {},
          "execution_count": 54
        }
      ],
      "source": [
        "y_test.shape"
      ]
    },
    {
      "cell_type": "code",
      "execution_count": 55,
      "metadata": {
        "id": "izCFbNOw2JD6",
        "colab": {
          "base_uri": "https://localhost:8080/"
        },
        "outputId": "ba390163-693a-483d-c249-653c74be8226"
      },
      "outputs": [
        {
          "output_type": "execute_result",
          "data": {
            "text/plain": [
              "array([ 0,  1,  2,  3,  4,  5,  6,  7,  8,  9, 10, 11, 12, 13, 14, 15, 16,\n",
              "       17, 18, 19, 20, 21, 22, 23, 24, 25, 26, 27, 28, 29, 30, 31, 32, 33,\n",
              "       34, 35, 36, 37, 38, 39, 40, 41, 42, 43])"
            ]
          },
          "metadata": {},
          "execution_count": 55
        }
      ],
      "source": [
        "np.unique(y_train)"
      ]
    },
    {
      "cell_type": "code",
      "execution_count": 56,
      "metadata": {
        "id": "b0-g8pil2JD6",
        "colab": {
          "base_uri": "https://localhost:8080/"
        },
        "outputId": "26c8654e-fed8-49cb-99aa-a96dcc913e02"
      },
      "outputs": [
        {
          "output_type": "execute_result",
          "data": {
            "text/plain": [
              "array([ 0,  1,  2,  3,  4,  5,  6,  7,  8,  9, 10, 11, 12, 13, 14, 15, 16,\n",
              "       17, 18, 19, 20, 21, 22, 23, 24, 25, 26, 27, 28, 29, 30, 31, 33, 34,\n",
              "       35, 36, 37, 38, 40, 41, 42, 43])"
            ]
          },
          "metadata": {},
          "execution_count": 56
        }
      ],
      "source": [
        "np.unique(y_test)"
      ]
    },
    {
      "cell_type": "code",
      "execution_count": 57,
      "metadata": {
        "id": "pqBmebMT2JD6",
        "colab": {
          "base_uri": "https://localhost:8080/"
        },
        "outputId": "b1254551-aa95-4a98-a88b-d94779c8c546"
      },
      "outputs": [
        {
          "output_type": "execute_result",
          "data": {
            "text/plain": [
              "44"
            ]
          },
          "metadata": {},
          "execution_count": 57
        }
      ],
      "source": [
        "len(labels)"
      ]
    },
    {
      "cell_type": "code",
      "execution_count": 58,
      "metadata": {
        "id": "z1ClDJO32JD6",
        "colab": {
          "base_uri": "https://localhost:8080/"
        },
        "outputId": "567e0017-aade-402a-928d-8092b9aa0da4"
      },
      "outputs": [
        {
          "output_type": "stream",
          "name": "stdout",
          "text": [
            "Model: \"sequential\"\n",
            "_________________________________________________________________\n",
            " Layer (type)                Output Shape              Param #   \n",
            "=================================================================\n",
            " embedding (Embedding)       (None, 300, 64)           100416    \n",
            "                                                                 \n",
            " lstm (LSTM)                 (None, 16)                5184      \n",
            "                                                                 \n",
            " dense (Dense)               (None, 44)                748       \n",
            "                                                                 \n",
            "=================================================================\n",
            "Total params: 106,348\n",
            "Trainable params: 106,348\n",
            "Non-trainable params: 0\n",
            "_________________________________________________________________\n"
          ]
        }
      ],
      "source": [
        "model = Sequential()\n",
        "model.add(Embedding(1569,64,input_length=300))\n",
        "model.add(LSTM(16))\n",
        "model.add(Dense(44,activation='softmax'))\n",
        "model.summary()"
      ]
    },
    {
      "cell_type": "code",
      "execution_count": 59,
      "metadata": {
        "id": "Xj4MOV9v2JD6",
        "colab": {
          "base_uri": "https://localhost:8080/"
        },
        "outputId": "ce373dd9-f31b-4661-9e90-7989a278db4d"
      },
      "outputs": [
        {
          "output_type": "execute_result",
          "data": {
            "text/plain": [
              "array([  0,   0,   0,   0,   0,   0,   0,   0,   0,   0,   0,   0,   0,\n",
              "         0,   0,   0,   0,   0,   0,   0,   0,   0,   0,   0,   0,   0,\n",
              "         0,   0,   0,   0,   0,   0,   0,   0,   0,   0,   0,   0,   0,\n",
              "         0,   0,   0,   0,   0,   0,   0,   0,   0,   0,   0,   0,   0,\n",
              "         0,   0,   0,   0,   0,   0,   0,   0,   0,   0,   0,   0,   0,\n",
              "         0,   0,   0,   0,   0,   0,   0,   0,   0,   0,   0,   0,   0,\n",
              "         0,   0,   0,   0,   0,   0,   0,   0,   0,   0,   0,   0,   0,\n",
              "         0,   0,   0,   0,   0,   0,   0,   0,   0,   0,   0,   0,   0,\n",
              "         0,   0,   0,   0,   0,   0,   0,   0,   0,   0,   0,   0,   0,\n",
              "         0,   0,   0,   0,   0,   0,   0,   0,   0,   0,   0,   0,   0,\n",
              "         0,   0,   0,   0,   0,   0,   0,   0,   0,   0,   0,   0,   0,\n",
              "         0,   0,   0,   0,   0,   0,   0,   0,   0,   0,   0,   0,   0,\n",
              "         0,   0,   0,   0,   0,   0,   0,   0,   0,   0,   0,   0,   0,\n",
              "         0,   0,   0,   0,   0,   0,   0,   0,   0,   0,   0,   0,   0,\n",
              "         0,   0,   0,   0,   0,   0,   0,   0,   0,   0,   0,   0,   0,\n",
              "         0,   0,   0,   0,   0,   0,   0,   0,   0,   0,   0,   0,   0,\n",
              "         0,   0,   0,   0,   0,   0,   0,   0,   0,   0,   0,   0,   0,\n",
              "         0,   0,   0,   0,   0,   0,   0,   0,   0,   0,   0,   0,   0,\n",
              "         0,   0,   0,   0,   0,   0,   0,   0,   0,   0,   0,   0,   0,\n",
              "         0,   0,   0,   0,   0,   0,   0,   0,   0,   0,   0,   0,   0,\n",
              "         0,   0,   0,   0,   0,   0,   0,   0,   0,   0,   0,   0,   0,\n",
              "         0,   0,   0,   0,   0,   0,   0,   0,   0,   0,   0,   0,   0,\n",
              "         0,   0,   0,   0,   0,   0,   0,   0,   0,   0,   0,   0,   0,\n",
              "       577], dtype=int32)"
            ]
          },
          "metadata": {},
          "execution_count": 59
        }
      ],
      "source": [
        "x_train[0]"
      ]
    },
    {
      "cell_type": "code",
      "execution_count": 60,
      "metadata": {
        "id": "e3sGw2D62JD6",
        "colab": {
          "base_uri": "https://localhost:8080/"
        },
        "outputId": "c5e6b6dd-6ab9-439e-8de6-46f0b0342b2c"
      },
      "outputs": [
        {
          "output_type": "execute_result",
          "data": {
            "text/plain": [
              "(1623, 300)"
            ]
          },
          "metadata": {},
          "execution_count": 60
        }
      ],
      "source": [
        "x_train.shape"
      ]
    },
    {
      "cell_type": "code",
      "execution_count": 61,
      "metadata": {
        "id": "QXkqqFMs2JD7",
        "colab": {
          "base_uri": "https://localhost:8080/"
        },
        "outputId": "d1fdde1f-31cb-435d-eed3-bcbb74a5e438"
      },
      "outputs": [
        {
          "output_type": "execute_result",
          "data": {
            "text/plain": [
              "(1623,)"
            ]
          },
          "metadata": {},
          "execution_count": 61
        }
      ],
      "source": [
        "y_train.shape"
      ]
    },
    {
      "cell_type": "code",
      "execution_count": 62,
      "metadata": {
        "id": "1wrJeX2X2JD7",
        "colab": {
          "base_uri": "https://localhost:8080/"
        },
        "outputId": "26f6ed15-dfb1-402e-9c37-36b4b590b04a"
      },
      "outputs": [
        {
          "output_type": "execute_result",
          "data": {
            "text/plain": [
              "(182, 300)"
            ]
          },
          "metadata": {},
          "execution_count": 62
        }
      ],
      "source": [
        "x_test.shape"
      ]
    },
    {
      "cell_type": "code",
      "execution_count": 63,
      "metadata": {
        "id": "-1JfpPAW2JD7",
        "colab": {
          "base_uri": "https://localhost:8080/"
        },
        "outputId": "12284a7f-b1e7-413b-d369-8f245be89b02"
      },
      "outputs": [
        {
          "output_type": "execute_result",
          "data": {
            "text/plain": [
              "(182,)"
            ]
          },
          "metadata": {},
          "execution_count": 63
        }
      ],
      "source": [
        "y_test.shape"
      ]
    },
    {
      "cell_type": "code",
      "execution_count": 64,
      "metadata": {
        "id": "KeefcCoS2JD7",
        "colab": {
          "base_uri": "https://localhost:8080/"
        },
        "outputId": "96ad89a5-bf2e-4f81-f0cb-e925ba0cafe2"
      },
      "outputs": [
        {
          "output_type": "stream",
          "name": "stdout",
          "text": [
            "Epoch 1/200\n",
            "51/51 [==============================] - 17s 278ms/step - loss: 3.7537 - accuracy: 0.1682 - val_loss: 3.7068 - val_accuracy: 0.1868\n",
            "Epoch 2/200\n",
            "51/51 [==============================] - 13s 252ms/step - loss: 3.5509 - accuracy: 0.2200 - val_loss: 3.4029 - val_accuracy: 0.1758\n",
            "Epoch 3/200\n",
            "51/51 [==============================] - 9s 168ms/step - loss: 3.1004 - accuracy: 0.2779 - val_loss: 2.9642 - val_accuracy: 0.3077\n",
            "Epoch 4/200\n",
            "51/51 [==============================] - 7s 136ms/step - loss: 2.6680 - accuracy: 0.3746 - val_loss: 2.6106 - val_accuracy: 0.3681\n",
            "Epoch 5/200\n",
            "51/51 [==============================] - 7s 139ms/step - loss: 2.3112 - accuracy: 0.4763 - val_loss: 2.2913 - val_accuracy: 0.4890\n",
            "Epoch 6/200\n",
            "51/51 [==============================] - 6s 125ms/step - loss: 2.0187 - accuracy: 0.5644 - val_loss: 2.0393 - val_accuracy: 0.5495\n",
            "Epoch 7/200\n",
            "51/51 [==============================] - 8s 149ms/step - loss: 1.7796 - accuracy: 0.6396 - val_loss: 1.8495 - val_accuracy: 0.5769\n",
            "Epoch 8/200\n",
            "51/51 [==============================] - 6s 123ms/step - loss: 1.6038 - accuracy: 0.6802 - val_loss: 1.6889 - val_accuracy: 0.6264\n",
            "Epoch 9/200\n",
            "51/51 [==============================] - 8s 158ms/step - loss: 1.4339 - accuracy: 0.7431 - val_loss: 1.5437 - val_accuracy: 0.6703\n",
            "Epoch 10/200\n",
            "51/51 [==============================] - 6s 123ms/step - loss: 1.2943 - accuracy: 0.7850 - val_loss: 1.4391 - val_accuracy: 0.6978\n",
            "Epoch 11/200\n",
            "51/51 [==============================] - 8s 153ms/step - loss: 1.1774 - accuracy: 0.8102 - val_loss: 1.3476 - val_accuracy: 0.7198\n",
            "Epoch 12/200\n",
            "51/51 [==============================] - 6s 123ms/step - loss: 1.0742 - accuracy: 0.8256 - val_loss: 1.2668 - val_accuracy: 0.7747\n",
            "Epoch 13/200\n",
            "51/51 [==============================] - 8s 155ms/step - loss: 0.9857 - accuracy: 0.8417 - val_loss: 1.2249 - val_accuracy: 0.7637\n",
            "Epoch 14/200\n",
            "51/51 [==============================] - 6s 125ms/step - loss: 0.9058 - accuracy: 0.8527 - val_loss: 1.1411 - val_accuracy: 0.7637\n",
            "Epoch 15/200\n",
            "51/51 [==============================] - 7s 140ms/step - loss: 0.8308 - accuracy: 0.8657 - val_loss: 1.1097 - val_accuracy: 0.7747\n",
            "Epoch 16/200\n",
            "51/51 [==============================] - 8s 147ms/step - loss: 0.7676 - accuracy: 0.8829 - val_loss: 1.0318 - val_accuracy: 0.7857\n",
            "Epoch 17/200\n",
            "51/51 [==============================] - 7s 141ms/step - loss: 0.7204 - accuracy: 0.8965 - val_loss: 1.0444 - val_accuracy: 0.7747\n",
            "Epoch 18/200\n",
            "51/51 [==============================] - 7s 139ms/step - loss: 0.6744 - accuracy: 0.8971 - val_loss: 0.9124 - val_accuracy: 0.8297\n",
            "Epoch 19/200\n",
            "51/51 [==============================] - 6s 127ms/step - loss: 0.6386 - accuracy: 0.9082 - val_loss: 0.9115 - val_accuracy: 0.8297\n",
            "Epoch 20/200\n",
            "51/51 [==============================] - 8s 150ms/step - loss: 0.5811 - accuracy: 0.9131 - val_loss: 0.9048 - val_accuracy: 0.7857\n",
            "Epoch 21/200\n",
            "51/51 [==============================] - 6s 123ms/step - loss: 0.5425 - accuracy: 0.9205 - val_loss: 0.8828 - val_accuracy: 0.7967\n",
            "Epoch 22/200\n",
            "51/51 [==============================] - 8s 154ms/step - loss: 0.5126 - accuracy: 0.9248 - val_loss: 0.8636 - val_accuracy: 0.7912\n",
            "Epoch 23/200\n",
            "51/51 [==============================] - 6s 123ms/step - loss: 0.4739 - accuracy: 0.9353 - val_loss: 0.8355 - val_accuracy: 0.8187\n",
            "Epoch 24/200\n",
            "51/51 [==============================] - 8s 160ms/step - loss: 0.4465 - accuracy: 0.9409 - val_loss: 0.8016 - val_accuracy: 0.8352\n",
            "Epoch 25/200\n",
            "51/51 [==============================] - 7s 142ms/step - loss: 0.4221 - accuracy: 0.9433 - val_loss: 0.7800 - val_accuracy: 0.8462\n",
            "Epoch 26/200\n",
            "51/51 [==============================] - 10s 189ms/step - loss: 0.4122 - accuracy: 0.9519 - val_loss: 0.7508 - val_accuracy: 0.8462\n",
            "Epoch 27/200\n",
            "51/51 [==============================] - 7s 142ms/step - loss: 0.3812 - accuracy: 0.9519 - val_loss: 0.7568 - val_accuracy: 0.8462\n",
            "Epoch 28/200\n",
            "51/51 [==============================] - 9s 175ms/step - loss: 0.3540 - accuracy: 0.9606 - val_loss: 0.7165 - val_accuracy: 0.8626\n",
            "Epoch 29/200\n",
            "51/51 [==============================] - 6s 124ms/step - loss: 0.3319 - accuracy: 0.9686 - val_loss: 0.7091 - val_accuracy: 0.8571\n",
            "Epoch 30/200\n",
            "51/51 [==============================] - 8s 162ms/step - loss: 0.3147 - accuracy: 0.9667 - val_loss: 0.7119 - val_accuracy: 0.8462\n",
            "Epoch 31/200\n",
            "51/51 [==============================] - 7s 128ms/step - loss: 0.3073 - accuracy: 0.9673 - val_loss: 0.6994 - val_accuracy: 0.8571\n",
            "Epoch 32/200\n",
            "51/51 [==============================] - 8s 152ms/step - loss: 0.2834 - accuracy: 0.9704 - val_loss: 0.6861 - val_accuracy: 0.8626\n",
            "Epoch 33/200\n",
            "51/51 [==============================] - 6s 123ms/step - loss: 0.2661 - accuracy: 0.9723 - val_loss: 0.6808 - val_accuracy: 0.8571\n",
            "Epoch 34/200\n",
            "51/51 [==============================] - 7s 139ms/step - loss: 0.2511 - accuracy: 0.9766 - val_loss: 0.6702 - val_accuracy: 0.8571\n",
            "Epoch 35/200\n",
            "51/51 [==============================] - 7s 131ms/step - loss: 0.2380 - accuracy: 0.9778 - val_loss: 0.6635 - val_accuracy: 0.8626\n",
            "Epoch 36/200\n",
            "51/51 [==============================] - 7s 132ms/step - loss: 0.2303 - accuracy: 0.9760 - val_loss: 0.6545 - val_accuracy: 0.8626\n",
            "Epoch 37/200\n",
            "51/51 [==============================] - 7s 143ms/step - loss: 0.2246 - accuracy: 0.9760 - val_loss: 0.6364 - val_accuracy: 0.8571\n",
            "Epoch 38/200\n",
            "51/51 [==============================] - 6s 125ms/step - loss: 0.2355 - accuracy: 0.9729 - val_loss: 0.6227 - val_accuracy: 0.8736\n",
            "Epoch 39/200\n",
            "51/51 [==============================] - 8s 151ms/step - loss: 0.2099 - accuracy: 0.9760 - val_loss: 0.5925 - val_accuracy: 0.8736\n",
            "Epoch 40/200\n",
            "51/51 [==============================] - 6s 125ms/step - loss: 0.1950 - accuracy: 0.9784 - val_loss: 0.5833 - val_accuracy: 0.8626\n",
            "Epoch 41/200\n",
            "51/51 [==============================] - 8s 155ms/step - loss: 0.1804 - accuracy: 0.9803 - val_loss: 0.5814 - val_accuracy: 0.8681\n",
            "Epoch 42/200\n",
            "51/51 [==============================] - 6s 124ms/step - loss: 0.1717 - accuracy: 0.9834 - val_loss: 0.5809 - val_accuracy: 0.8791\n",
            "Epoch 43/200\n",
            "51/51 [==============================] - 8s 154ms/step - loss: 0.1616 - accuracy: 0.9827 - val_loss: 0.5621 - val_accuracy: 0.8846\n",
            "Epoch 44/200\n",
            "51/51 [==============================] - 6s 120ms/step - loss: 0.1551 - accuracy: 0.9827 - val_loss: 0.5527 - val_accuracy: 0.8846\n",
            "Epoch 45/200\n",
            "51/51 [==============================] - 8s 150ms/step - loss: 0.1469 - accuracy: 0.9858 - val_loss: 0.5527 - val_accuracy: 0.8846\n",
            "Epoch 46/200\n",
            "51/51 [==============================] - 7s 127ms/step - loss: 0.1399 - accuracy: 0.9852 - val_loss: 0.5523 - val_accuracy: 0.8846\n",
            "Epoch 47/200\n",
            "51/51 [==============================] - 7s 141ms/step - loss: 0.1336 - accuracy: 0.9858 - val_loss: 0.5665 - val_accuracy: 0.8846\n",
            "Epoch 48/200\n",
            "51/51 [==============================] - 7s 137ms/step - loss: 0.1299 - accuracy: 0.9864 - val_loss: 0.5626 - val_accuracy: 0.8791\n",
            "Epoch 49/200\n",
            "51/51 [==============================] - 7s 136ms/step - loss: 0.1233 - accuracy: 0.9871 - val_loss: 0.5548 - val_accuracy: 0.8846\n",
            "Epoch 50/200\n",
            "51/51 [==============================] - 8s 148ms/step - loss: 0.1180 - accuracy: 0.9883 - val_loss: 0.5531 - val_accuracy: 0.8846\n",
            "Epoch 51/200\n",
            "51/51 [==============================] - 7s 131ms/step - loss: 0.1127 - accuracy: 0.9889 - val_loss: 0.5499 - val_accuracy: 0.8846\n",
            "Epoch 52/200\n",
            "51/51 [==============================] - 8s 156ms/step - loss: 0.1076 - accuracy: 0.9908 - val_loss: 0.5547 - val_accuracy: 0.8846\n",
            "Epoch 53/200\n",
            "51/51 [==============================] - 6s 124ms/step - loss: 0.1035 - accuracy: 0.9901 - val_loss: 0.5499 - val_accuracy: 0.8846\n",
            "Epoch 54/200\n",
            "51/51 [==============================] - 13s 265ms/step - loss: 0.0994 - accuracy: 0.9908 - val_loss: 0.5467 - val_accuracy: 0.8901\n",
            "Epoch 55/200\n",
            "51/51 [==============================] - 14s 284ms/step - loss: 0.0952 - accuracy: 0.9908 - val_loss: 0.5491 - val_accuracy: 0.8901\n",
            "Epoch 56/200\n",
            "51/51 [==============================] - 8s 160ms/step - loss: 0.0917 - accuracy: 0.9920 - val_loss: 0.5523 - val_accuracy: 0.8901\n",
            "Epoch 57/200\n",
            "51/51 [==============================] - 7s 138ms/step - loss: 0.0885 - accuracy: 0.9920 - val_loss: 0.5473 - val_accuracy: 0.8791\n",
            "Epoch 58/200\n",
            "51/51 [==============================] - 7s 140ms/step - loss: 0.0859 - accuracy: 0.9926 - val_loss: 0.5346 - val_accuracy: 0.8846\n",
            "Epoch 59/200\n",
            "51/51 [==============================] - 7s 141ms/step - loss: 0.0843 - accuracy: 0.9914 - val_loss: 0.5452 - val_accuracy: 0.8901\n",
            "Epoch 60/200\n",
            "51/51 [==============================] - 7s 133ms/step - loss: 0.0790 - accuracy: 0.9932 - val_loss: 0.5484 - val_accuracy: 0.8736\n",
            "Epoch 61/200\n",
            "51/51 [==============================] - 8s 149ms/step - loss: 0.0762 - accuracy: 0.9938 - val_loss: 0.5451 - val_accuracy: 0.8901\n",
            "Epoch 62/200\n",
            "51/51 [==============================] - 6s 123ms/step - loss: 0.0737 - accuracy: 0.9932 - val_loss: 0.5447 - val_accuracy: 0.8846\n",
            "Epoch 63/200\n",
            "51/51 [==============================] - 8s 158ms/step - loss: 0.0704 - accuracy: 0.9951 - val_loss: 0.5384 - val_accuracy: 0.8791\n",
            "Epoch 64/200\n",
            "51/51 [==============================] - 6s 125ms/step - loss: 0.0679 - accuracy: 0.9945 - val_loss: 0.5411 - val_accuracy: 0.8791\n",
            "Epoch 65/200\n",
            "51/51 [==============================] - 8s 158ms/step - loss: 0.0654 - accuracy: 0.9945 - val_loss: 0.5422 - val_accuracy: 0.8736\n",
            "Epoch 66/200\n",
            "51/51 [==============================] - 6s 127ms/step - loss: 0.0636 - accuracy: 0.9938 - val_loss: 0.5647 - val_accuracy: 0.8846\n",
            "Epoch 67/200\n",
            "51/51 [==============================] - 8s 167ms/step - loss: 0.1405 - accuracy: 0.9735 - val_loss: 0.5633 - val_accuracy: 0.8297\n",
            "Epoch 68/200\n",
            "51/51 [==============================] - 6s 128ms/step - loss: 0.1419 - accuracy: 0.9704 - val_loss: 0.5376 - val_accuracy: 0.8736\n",
            "Epoch 69/200\n",
            "51/51 [==============================] - 8s 157ms/step - loss: 0.1150 - accuracy: 0.9791 - val_loss: 0.5470 - val_accuracy: 0.8736\n"
          ]
        }
      ],
      "source": [
        "from keras.optimizers import Adam\n",
        "model.compile(loss='sparse_categorical_crossentropy',optimizer=Adam(learning_rate=0.001) ,metrics=['accuracy'])\n",
        "results = model.fit(x_train,y_train, epochs=200, validation_data=(x_test,y_test),\n",
        "          callbacks=EarlyStopping(patience=15, monitor=\"val_accuracy\" ,restore_best_weights=True))"
      ]
    },
    {
      "cell_type": "code",
      "execution_count": 65,
      "metadata": {
        "id": "dVUWMXjU2JD7"
      },
      "outputs": [],
      "source": [
        "model2 = model"
      ]
    },
    {
      "cell_type": "code",
      "execution_count": 66,
      "metadata": {
        "id": "FhXpdeZO2JD7",
        "colab": {
          "base_uri": "https://localhost:8080/"
        },
        "outputId": "5f11db23-dafa-46ce-f160-ccacc6f987e2"
      },
      "outputs": [
        {
          "output_type": "stream",
          "name": "stdout",
          "text": [
            "6/6 [==============================] - 0s 23ms/step - loss: 0.5467 - accuracy: 0.8901\n"
          ]
        }
      ],
      "source": [
        "loss, acc = model.evaluate(x_test,y_test)"
      ]
    },
    {
      "cell_type": "code",
      "execution_count": 67,
      "metadata": {
        "id": "7GNqMOLN2JD8",
        "colab": {
          "base_uri": "https://localhost:8080/"
        },
        "outputId": "de63778f-60a0-41c9-fe5b-76eb6a58c362"
      },
      "outputs": [
        {
          "output_type": "stream",
          "name": "stdout",
          "text": [
            "Test accuracy = 89.01%\n",
            "Loss = 0.5466601252555847\n"
          ]
        }
      ],
      "source": [
        "print('Test accuracy = ',round(acc*100,2),'%\\nLoss = ',loss ,sep='')"
      ]
    },
    {
      "cell_type": "code",
      "execution_count": 68,
      "metadata": {
        "id": "NCWg1yPo2JD8",
        "colab": {
          "base_uri": "https://localhost:8080/"
        },
        "outputId": "749a1e0e-2825-45b1-8b75-a17e2272b88c"
      },
      "outputs": [
        {
          "output_type": "stream",
          "name": "stdout",
          "text": [
            "Epoch 1/3\n",
            "6/6 [==============================] - 3s 243ms/step - loss: 0.5616 - accuracy: 0.8791 - val_loss: 0.4287 - val_accuracy: 0.9121\n",
            "Epoch 2/3\n",
            "6/6 [==============================] - 1s 154ms/step - loss: 0.4067 - accuracy: 0.9121 - val_loss: 0.3516 - val_accuracy: 0.9176\n",
            "Epoch 3/3\n",
            "6/6 [==============================] - 1s 152ms/step - loss: 0.3333 - accuracy: 0.9286 - val_loss: 0.3011 - val_accuracy: 0.9396\n"
          ]
        }
      ],
      "source": [
        "model.compile(loss='sparse_categorical_crossentropy',optimizer=Adam(learning_rate=0.001) ,metrics=['accuracy'])\n",
        "results2 = model.fit(x_test,y_test, epochs=3, validation_data=(x_test,y_test))"
      ]
    },
    {
      "cell_type": "code",
      "execution_count": 69,
      "metadata": {
        "id": "Itfo3sfk2JD8",
        "colab": {
          "base_uri": "https://localhost:8080/"
        },
        "outputId": "f12f325a-676b-4c38-f173-97d4f7edd8ba"
      },
      "outputs": [
        {
          "output_type": "execute_result",
          "data": {
            "text/plain": [
              "[3.706812858581543,\n",
              " 3.402916193008423,\n",
              " 2.9642021656036377,\n",
              " 2.6105549335479736,\n",
              " 2.291254758834839,\n",
              " 2.03934645652771,\n",
              " 1.8495182991027832,\n",
              " 1.6889091730117798,\n",
              " 1.5437482595443726,\n",
              " 1.439145565032959,\n",
              " 1.3475522994995117,\n",
              " 1.2668012380599976,\n",
              " 1.2248897552490234,\n",
              " 1.1411309242248535,\n",
              " 1.109684944152832,\n",
              " 1.0318412780761719,\n",
              " 1.0444287061691284,\n",
              " 0.912362813949585,\n",
              " 0.9114534258842468,\n",
              " 0.9047794342041016,\n",
              " 0.8827980160713196,\n",
              " 0.8636332750320435,\n",
              " 0.8354712128639221,\n",
              " 0.8015664219856262,\n",
              " 0.78001469373703,\n",
              " 0.7508322596549988,\n",
              " 0.756798267364502,\n",
              " 0.7165079712867737,\n",
              " 0.7090800404548645,\n",
              " 0.7119313478469849,\n",
              " 0.6994023323059082,\n",
              " 0.686062753200531,\n",
              " 0.6807636022567749,\n",
              " 0.6702025532722473,\n",
              " 0.663455069065094,\n",
              " 0.6544850468635559,\n",
              " 0.6363649368286133,\n",
              " 0.6226522922515869,\n",
              " 0.5925447940826416,\n",
              " 0.5833179950714111,\n",
              " 0.5814269185066223,\n",
              " 0.5808801054954529,\n",
              " 0.5621145963668823,\n",
              " 0.552669107913971,\n",
              " 0.552674412727356,\n",
              " 0.5522717237472534,\n",
              " 0.5665091872215271,\n",
              " 0.5626047849655151,\n",
              " 0.5548186302185059,\n",
              " 0.5530512928962708,\n",
              " 0.549899160861969,\n",
              " 0.5546694397926331,\n",
              " 0.5499152541160583,\n",
              " 0.5466601252555847,\n",
              " 0.5490864515304565,\n",
              " 0.5522814989089966,\n",
              " 0.5472898483276367,\n",
              " 0.5346240997314453,\n",
              " 0.5452180504798889,\n",
              " 0.5483657717704773,\n",
              " 0.5451452136039734,\n",
              " 0.5447421073913574,\n",
              " 0.5383758544921875,\n",
              " 0.5410782694816589,\n",
              " 0.5422424674034119,\n",
              " 0.5647374391555786,\n",
              " 0.5632643699645996,\n",
              " 0.5375990271568298,\n",
              " 0.5469624996185303]"
            ]
          },
          "metadata": {},
          "execution_count": 69
        }
      ],
      "source": [
        "results.history['val_loss']"
      ]
    },
    {
      "cell_type": "code",
      "execution_count": 70,
      "metadata": {
        "id": "Hp0sTOKb2JD8",
        "colab": {
          "base_uri": "https://localhost:8080/"
        },
        "outputId": "92ec09e3-50f6-4c58-9019-e4bd01ae1e06"
      },
      "outputs": [
        {
          "output_type": "execute_result",
          "data": {
            "text/plain": [
              "[0.18681319057941437,\n",
              " 0.17582418024539948,\n",
              " 0.3076923191547394,\n",
              " 0.3681318759918213,\n",
              " 0.4890109896659851,\n",
              " 0.5494505763053894,\n",
              " 0.5769230723381042,\n",
              " 0.6263736486434937,\n",
              " 0.6703296899795532,\n",
              " 0.6978021860122681,\n",
              " 0.7197802066802979,\n",
              " 0.7747252583503723,\n",
              " 0.7637362480163574,\n",
              " 0.7637362480163574,\n",
              " 0.7747252583503723,\n",
              " 0.7857142686843872,\n",
              " 0.7747252583503723,\n",
              " 0.8296703100204468,\n",
              " 0.8296703100204468,\n",
              " 0.7857142686843872,\n",
              " 0.7967032790184021,\n",
              " 0.791208803653717,\n",
              " 0.8186812996864319,\n",
              " 0.8351648449897766,\n",
              " 0.8461538553237915,\n",
              " 0.8461538553237915,\n",
              " 0.8461538553237915,\n",
              " 0.8626373410224915,\n",
              " 0.8571428656578064,\n",
              " 0.8461538553237915,\n",
              " 0.8571428656578064,\n",
              " 0.8626373410224915,\n",
              " 0.8571428656578064,\n",
              " 0.8571428656578064,\n",
              " 0.8626373410224915,\n",
              " 0.8626373410224915,\n",
              " 0.8571428656578064,\n",
              " 0.8736263513565063,\n",
              " 0.8736263513565063,\n",
              " 0.8626373410224915,\n",
              " 0.8681318759918213,\n",
              " 0.8791208863258362,\n",
              " 0.8846153616905212,\n",
              " 0.8846153616905212,\n",
              " 0.8846153616905212,\n",
              " 0.8846153616905212,\n",
              " 0.8846153616905212,\n",
              " 0.8791208863258362,\n",
              " 0.8846153616905212,\n",
              " 0.8846153616905212,\n",
              " 0.8846153616905212,\n",
              " 0.8846153616905212,\n",
              " 0.8846153616905212,\n",
              " 0.8901098966598511,\n",
              " 0.8901098966598511,\n",
              " 0.8901098966598511,\n",
              " 0.8791208863258362,\n",
              " 0.8846153616905212,\n",
              " 0.8901098966598511,\n",
              " 0.8736263513565063,\n",
              " 0.8901098966598511,\n",
              " 0.8846153616905212,\n",
              " 0.8791208863258362,\n",
              " 0.8791208863258362,\n",
              " 0.8736263513565063,\n",
              " 0.8846153616905212,\n",
              " 0.8296703100204468,\n",
              " 0.8736263513565063,\n",
              " 0.8736263513565063]"
            ]
          },
          "metadata": {},
          "execution_count": 70
        }
      ],
      "source": [
        "results.history['val_accuracy']"
      ]
    },
    {
      "cell_type": "code",
      "execution_count": 71,
      "metadata": {
        "id": "WgKpJFAN2JD9",
        "colab": {
          "base_uri": "https://localhost:8080/"
        },
        "outputId": "6ddc536f-70e1-40a9-cb60-d3c3dd355e7d"
      },
      "outputs": [
        {
          "output_type": "execute_result",
          "data": {
            "text/plain": [
              "0.8901098966598511"
            ]
          },
          "metadata": {},
          "execution_count": 71
        }
      ],
      "source": [
        "max(results.history['val_accuracy'])"
      ]
    },
    {
      "cell_type": "code",
      "source": [
        "# Assuming 'results' is the History object returned by model.fit\n",
        "num_epochs = len(results.history['val_accuracy'])\n",
        "for i in range(num_epochs):\n",
        "  print(f\"Validation accuracy for epoch {i + 1}: {results.history['val_accuracy'][i]}\")\n",
        "\n",
        "# Alternatively, to access the last element:\n",
        "last_val_accuracy = results.history['val_accuracy'][-1]\n",
        "print(f\"Last validation accuracy: {last_val_accuracy}\")"
      ],
      "metadata": {
        "colab": {
          "base_uri": "https://localhost:8080/"
        },
        "id": "lc47pfce5lyv",
        "outputId": "17535107-e5f2-49b6-c6f3-1c73e6f30aab"
      },
      "execution_count": 72,
      "outputs": [
        {
          "output_type": "stream",
          "name": "stdout",
          "text": [
            "Validation accuracy for epoch 1: 0.18681319057941437\n",
            "Validation accuracy for epoch 2: 0.17582418024539948\n",
            "Validation accuracy for epoch 3: 0.3076923191547394\n",
            "Validation accuracy for epoch 4: 0.3681318759918213\n",
            "Validation accuracy for epoch 5: 0.4890109896659851\n",
            "Validation accuracy for epoch 6: 0.5494505763053894\n",
            "Validation accuracy for epoch 7: 0.5769230723381042\n",
            "Validation accuracy for epoch 8: 0.6263736486434937\n",
            "Validation accuracy for epoch 9: 0.6703296899795532\n",
            "Validation accuracy for epoch 10: 0.6978021860122681\n",
            "Validation accuracy for epoch 11: 0.7197802066802979\n",
            "Validation accuracy for epoch 12: 0.7747252583503723\n",
            "Validation accuracy for epoch 13: 0.7637362480163574\n",
            "Validation accuracy for epoch 14: 0.7637362480163574\n",
            "Validation accuracy for epoch 15: 0.7747252583503723\n",
            "Validation accuracy for epoch 16: 0.7857142686843872\n",
            "Validation accuracy for epoch 17: 0.7747252583503723\n",
            "Validation accuracy for epoch 18: 0.8296703100204468\n",
            "Validation accuracy for epoch 19: 0.8296703100204468\n",
            "Validation accuracy for epoch 20: 0.7857142686843872\n",
            "Validation accuracy for epoch 21: 0.7967032790184021\n",
            "Validation accuracy for epoch 22: 0.791208803653717\n",
            "Validation accuracy for epoch 23: 0.8186812996864319\n",
            "Validation accuracy for epoch 24: 0.8351648449897766\n",
            "Validation accuracy for epoch 25: 0.8461538553237915\n",
            "Validation accuracy for epoch 26: 0.8461538553237915\n",
            "Validation accuracy for epoch 27: 0.8461538553237915\n",
            "Validation accuracy for epoch 28: 0.8626373410224915\n",
            "Validation accuracy for epoch 29: 0.8571428656578064\n",
            "Validation accuracy for epoch 30: 0.8461538553237915\n",
            "Validation accuracy for epoch 31: 0.8571428656578064\n",
            "Validation accuracy for epoch 32: 0.8626373410224915\n",
            "Validation accuracy for epoch 33: 0.8571428656578064\n",
            "Validation accuracy for epoch 34: 0.8571428656578064\n",
            "Validation accuracy for epoch 35: 0.8626373410224915\n",
            "Validation accuracy for epoch 36: 0.8626373410224915\n",
            "Validation accuracy for epoch 37: 0.8571428656578064\n",
            "Validation accuracy for epoch 38: 0.8736263513565063\n",
            "Validation accuracy for epoch 39: 0.8736263513565063\n",
            "Validation accuracy for epoch 40: 0.8626373410224915\n",
            "Validation accuracy for epoch 41: 0.8681318759918213\n",
            "Validation accuracy for epoch 42: 0.8791208863258362\n",
            "Validation accuracy for epoch 43: 0.8846153616905212\n",
            "Validation accuracy for epoch 44: 0.8846153616905212\n",
            "Validation accuracy for epoch 45: 0.8846153616905212\n",
            "Validation accuracy for epoch 46: 0.8846153616905212\n",
            "Validation accuracy for epoch 47: 0.8846153616905212\n",
            "Validation accuracy for epoch 48: 0.8791208863258362\n",
            "Validation accuracy for epoch 49: 0.8846153616905212\n",
            "Validation accuracy for epoch 50: 0.8846153616905212\n",
            "Validation accuracy for epoch 51: 0.8846153616905212\n",
            "Validation accuracy for epoch 52: 0.8846153616905212\n",
            "Validation accuracy for epoch 53: 0.8846153616905212\n",
            "Validation accuracy for epoch 54: 0.8901098966598511\n",
            "Validation accuracy for epoch 55: 0.8901098966598511\n",
            "Validation accuracy for epoch 56: 0.8901098966598511\n",
            "Validation accuracy for epoch 57: 0.8791208863258362\n",
            "Validation accuracy for epoch 58: 0.8846153616905212\n",
            "Validation accuracy for epoch 59: 0.8901098966598511\n",
            "Validation accuracy for epoch 60: 0.8736263513565063\n",
            "Validation accuracy for epoch 61: 0.8901098966598511\n",
            "Validation accuracy for epoch 62: 0.8846153616905212\n",
            "Validation accuracy for epoch 63: 0.8791208863258362\n",
            "Validation accuracy for epoch 64: 0.8791208863258362\n",
            "Validation accuracy for epoch 65: 0.8736263513565063\n",
            "Validation accuracy for epoch 66: 0.8846153616905212\n",
            "Validation accuracy for epoch 67: 0.8296703100204468\n",
            "Validation accuracy for epoch 68: 0.8736263513565063\n",
            "Validation accuracy for epoch 69: 0.8736263513565063\n",
            "Last validation accuracy: 0.8736263513565063\n"
          ]
        }
      ]
    },
    {
      "cell_type": "code",
      "execution_count": 73,
      "metadata": {
        "id": "7cUIXW5F2JD9",
        "colab": {
          "base_uri": "https://localhost:8080/",
          "height": 452
        },
        "outputId": "777d797e-b11b-4f6e-9387-20bd6fc474c5"
      },
      "outputs": [
        {
          "output_type": "display_data",
          "data": {
            "text/plain": [
              "<Figure size 640x480 with 1 Axes>"
            ],
            "image/png": "[encoded data removed]"
          },
          "metadata": {}
        }
      ],
      "source": [
        "fig = plt.figure()\n",
        "plt.plot(results.history['loss'], c='red', label='loss')\n",
        "plt.plot(results.history['accuracy'], c='blue', label='accuracy')\n",
        "plt.scatter(i ,results.history['accuracy'][i], c='orange', label='choosen parameters', marker='o')\n",
        "plt.title(\"Training Data\")\n",
        "plt.legend(loc=\"upper right\")\n",
        "plt.show()"
      ]
    },
    {
      "cell_type": "code",
      "execution_count": 74,
      "metadata": {
        "id": "QEezWe432JD-",
        "colab": {
          "base_uri": "https://localhost:8080/",
          "height": 452
        },
        "outputId": "3eac8e8b-0244-4a38-a2d4-2a959d57853c"
      },
      "outputs": [
        {
          "output_type": "display_data",
          "data": {
            "text/plain": [
              "<Figure size 640x480 with 1 Axes>"
            ],
            "image/png": "[encoded data removed]"
          },
          "metadata": {}
        }
      ],
      "source": [
        "fig = plt.figure()\n",
        "plt.plot(results.history['val_loss'], c='red', label='val loss')\n",
        "plt.plot(results.history['val_accuracy'], c='blue', label='val accuracy')\n",
        "plt.scatter(i ,results.history['val_accuracy'][i], c='orange', label='choosen parameters', marker='o')\n",
        "plt.title(\"Validation Data\")\n",
        "plt.legend(loc=\"upper right\")\n",
        "plt.show()"
      ]
    },
    {
      "cell_type": "code",
      "execution_count": 75,
      "metadata": {
        "id": "lb5v8soA2JD-",
        "colab": {
          "base_uri": "https://localhost:8080/"
        },
        "outputId": "47232f63-e39d-4f55-8ce2-7a766769c943"
      },
      "outputs": [
        {
          "output_type": "stream",
          "name": "stdout",
          "text": [
            "6/6 [==============================] - 1s 23ms/step\n"
          ]
        },
        {
          "output_type": "execute_result",
          "data": {
            "text/plain": [
              "array([[7.3354377e-04, 1.5048218e-04, 1.8674909e-06, ..., 1.3224719e-05,\n",
              "        2.5715572e-06, 1.8324189e-04],\n",
              "       [4.8774516e-05, 4.0328689e-03, 3.6414288e-04, ..., 1.3782147e-02,\n",
              "        5.9983071e-02, 4.5888104e-02],\n",
              "       [1.6964277e-02, 6.7717854e-05, 2.5227149e-03, ..., 2.6012372e-05,\n",
              "        7.2549562e-07, 1.8129878e-06],\n",
              "       ...,\n",
              "       [2.4271942e-05, 9.8653281e-01, 4.3626396e-06, ..., 2.2587473e-04,\n",
              "        2.1817921e-05, 3.9672086e-06],\n",
              "       [2.6462234e-03, 5.2573687e-06, 4.4277165e-04, ..., 1.3082981e-06,\n",
              "        2.8827945e-03, 6.3441286e-05],\n",
              "       [1.4666283e-05, 3.4829412e-05, 1.4225906e-04, ..., 7.4288786e-05,\n",
              "        2.1717344e-05, 9.2358103e-05]], dtype=float32)"
            ]
          },
          "metadata": {},
          "execution_count": 75
        }
      ],
      "source": [
        "yp = model.predict(x_test)\n",
        "yp"
      ]
    },
    {
      "cell_type": "code",
      "execution_count": 76,
      "metadata": {
        "id": "DqZyJanT2JD-",
        "colab": {
          "base_uri": "https://localhost:8080/"
        },
        "outputId": "72935969-fb42-446f-adae-c007e00c96b9"
      },
      "outputs": [
        {
          "output_type": "execute_result",
          "data": {
            "text/plain": [
              "array([29, 34, 21, 30, 18, 28, 27, 42, 14, 27, 21, 18, 20, 24,  9, 26, 22,\n",
              "       35,  1, 38, 34, 13, 28,  3, 19, 17, 30, 34, 11, 23, 43, 18, 34, 15,\n",
              "       22, 22,  4,  7,  3,  7,  0,  6, 10, 18, 22, 31,  3,  7, 23, 34, 14,\n",
              "        9,  5, 33, 42, 23, 19, 17, 20,  2, 11,  9, 19,  2, 11, 20, 14, 14,\n",
              "       30,  9, 26, 12,  2,  2,  7,  6, 24, 16, 30, 42, 23, 27, 36, 16, 16,\n",
              "       29, 21, 29, 17,  5,  1, 10, 18, 36, 21,  4,  0, 25,  5, 26, 36,  9,\n",
              "       25, 21, 13, 10, 41, 20, 26, 34, 42,  1,  1, 36,  4,  6, 17,  5, 34,\n",
              "        3, 23, 15, 17,  3,  5, 29,  8, 23,  0, 36, 28, 19, 14, 23, 10, 40,\n",
              "        5, 27,  0,  6, 43, 23,  3, 14, 14, 11,  1, 40,  3, 10,  0,  5, 11,\n",
              "        6, 28, 30,  1, 13, 12, 11,  5, 27, 18,  2, 34, 40,  3, 10, 34, 38,\n",
              "       17, 28,  6,  2, 15, 21,  1,  2, 11,  1, 22, 26])"
            ]
          },
          "metadata": {},
          "execution_count": 76
        }
      ],
      "source": [
        "yp = yp.argmax(axis=1)\n",
        "yp"
      ]
    },
    {
      "cell_type": "code",
      "execution_count": 77,
      "metadata": {
        "id": "qeKWqyCj2JD-",
        "colab": {
          "base_uri": "https://localhost:8080/"
        },
        "outputId": "71ccb62f-8abf-4db5-f691-25f065a4d901"
      },
      "outputs": [
        {
          "output_type": "stream",
          "name": "stdout",
          "text": [
            "[29, 37, 21, 30, 18, 28, 27, 31, 14, 27, 21, 18, 20, 24, 9, 26, 22, 35, 1, 38, 37, 13, 28, 3, 19, 17, 30, 42, 11, 23, 43, 18, 36, 15, 22, 22, 4, 7, 3, 7, 0, 6, 10, 18, 22, 31, 3, 7, 23, 34, 14, 9, 5, 33, 42, 23, 19, 17, 20, 2, 11, 9, 19, 2, 11, 20, 14, 14, 31, 9, 26, 12, 2, 2, 7, 6, 24, 16, 31, 42, 23, 27, 36, 16, 16, 29, 21, 29, 17, 5, 1, 10, 18, 36, 21, 4, 0, 25, 5, 26, 36, 9, 25, 21, 13, 10, 41, 20, 8, 33, 42, 1, 1, 36, 4, 6, 17, 5, 37, 3, 23, 15, 17, 3, 5, 29, 8, 23, 0, 36, 28, 19, 14, 23, 10, 40, 5, 27, 0, 6, 43, 23, 3, 14, 14, 20, 1, 40, 3, 10, 0, 5, 11, 6, 28, 30, 1, 13, 12, 11, 5, 27, 18, 2, 34, 40, 3, 10, 34, 38, 17, 28, 6, 2, 15, 21, 1, 2, 11, 1, 22, 26]\n"
          ]
        }
      ],
      "source": [
        "print(list(y_test))"
      ]
    },
    {
      "cell_type": "code",
      "execution_count": 78,
      "metadata": {
        "id": "cdi0rxuI2JD_",
        "colab": {
          "base_uri": "https://localhost:8080/"
        },
        "outputId": "b2b31690-12bb-41df-c148-20182fdab18b"
      },
      "outputs": [
        {
          "output_type": "stream",
          "name": "stdout",
          "text": [
            "Accuracy Score = 93.96 %\n"
          ]
        }
      ],
      "source": [
        "acc = accuracy_score(y_test, yp)\n",
        "print(\"Accuracy Score =\",round(acc*100,2),\"%\")"
      ]
    },
    {
      "cell_type": "code",
      "execution_count": 79,
      "metadata": {
        "id": "H0Q-75Rh2JD_",
        "colab": {
          "base_uri": "https://localhost:8080/",
          "height": 1000
        },
        "outputId": "6ee0f22f-b6d0-418e-bd1d-e381e855c47a"
      },
      "outputs": [
        {
          "output_type": "stream",
          "name": "stdout",
          "text": [
            "Heatmap\n",
            "\n"
          ]
        },
        {
          "output_type": "execute_result",
          "data": {
            "text/plain": [
              "<Axes: xlabel='Predicted', ylabel='Actual'>"
            ]
          },
          "metadata": {},
          "execution_count": 79
        },
        {
          "output_type": "display_data",
          "data": {
            "text/plain": [
              "<Figure size 2000x2000 with 2 Axes>"
            ],
            "image/png": "[encoded data removed]"
          },
          "metadata": {}
        }
      ],
      "source": [
        "print(\"Heatmap\\n\")\n",
        "fig = plt.figure(figsize=(20,20))\n",
        "m = pd.crosstab(y_test, yp, rownames=['Actual'], colnames=['Predicted'])\n",
        "sns.heatmap(m, annot=True, cmap='Blues')"
      ]
    },
    {
      "cell_type": "markdown",
      "metadata": {
        "id": "IqfqVtIm2JD_"
      },
      "source": [
        "# Chatbot"
      ]
    },
    {
      "cell_type": "markdown",
      "metadata": {
        "id": "RVbwub_j2JD_"
      },
      "source": [
        "---"
      ]
    },
    {
      "cell_type": "code",
      "execution_count": 80,
      "metadata": {
        "id": "Am01ct762JD_",
        "colab": {
          "base_uri": "https://localhost:8080/",
          "height": 206
        },
        "outputId": "1cab72a8-ab87-45f5-88b0-aa0749ead150"
      },
      "outputs": [
        {
          "output_type": "execute_result",
          "data": {
            "text/plain": [
              "                                           Questions  \\\n",
              "0  I have a fever, cough, body aches, headache, a...   \n",
              "1  My symptoms include a sore throat, runny nose,...   \n",
              "2  I'm experiencing chest congestion, shortness o...   \n",
              "3  I have a high fever, nausea, and vomiting. Whi...   \n",
              "4  My symptoms involve a persistent cough, fatigu...   \n",
              "\n",
              "                          Recommending medical tests         Disease   \n",
              "0  Complete Blood Count (CBC),C-Reactive Protein ...  Influenza (Flu)  \n",
              "1  Complete Blood Count (CBC),C-Reactive Protein ...  Influenza (Flu)  \n",
              "2  Complete Blood Count (CBC),C-Reactive Protein ...  Influenza (Flu)  \n",
              "3  Complete Blood Count (CBC),C-Reactive Protein ...  Influenza (Flu)  \n",
              "4  Complete Blood Count (CBC),C-Reactive Protein ...  Influenza (Flu)  "
            ],
            "text/html": [
              "\n",
              "  <div id=\"df-5888591a-8bc6-44bf-8322-bfbab88d6a0c\" class=\"colab-df-container\">\n",
              "    <div>\n",
              "<style scoped>\n",
              "    .dataframe tbody tr th:only-of-type {\n",
              "        vertical-align: middle;\n",
              "    }\n",
              "\n",
              "    .dataframe tbody tr th {\n",
              "        vertical-align: top;\n",
              "    }\n",
              "\n",
              "    .dataframe thead th {\n",
              "        text-align: right;\n",
              "    }\n",
              "</style>\n",
              "<table border=\"1\" class=\"dataframe\">\n",
              "  <thead>\n",
              "    <tr style=\"text-align: right;\">\n",
              "      <th></th>\n",
              "      <th>Questions</th>\n",
              "      <th>Recommending medical tests</th>\n",
              "      <th>Disease</th>\n",
              "    </tr>\n",
              "  </thead>\n",
              "  <tbody>\n",
              "    <tr>\n",
              "      <th>0</th>\n",
              "      <td>I have a fever, cough, body aches, headache, a...</td>\n",
              "      <td>Complete Blood Count (CBC),C-Reactive Protein ...</td>\n",
              "      <td>Influenza (Flu)</td>\n",
              "    </tr>\n",
              "    <tr>\n",
              "      <th>1</th>\n",
              "      <td>My symptoms include a sore throat, runny nose,...</td>\n",
              "      <td>Complete Blood Count (CBC),C-Reactive Protein ...</td>\n",
              "      <td>Influenza (Flu)</td>\n",
              "    </tr>\n",
              "    <tr>\n",
              "      <th>2</th>\n",
              "      <td>I'm experiencing chest congestion, shortness o...</td>\n",
              "      <td>Complete Blood Count (CBC),C-Reactive Protein ...</td>\n",
              "      <td>Influenza (Flu)</td>\n",
              "    </tr>\n",
              "    <tr>\n",
              "      <th>3</th>\n",
              "      <td>I have a high fever, nausea, and vomiting. Whi...</td>\n",
              "      <td>Complete Blood Count (CBC),C-Reactive Protein ...</td>\n",
              "      <td>Influenza (Flu)</td>\n",
              "    </tr>\n",
              "    <tr>\n",
              "      <th>4</th>\n",
              "      <td>My symptoms involve a persistent cough, fatigu...</td>\n",
              "      <td>Complete Blood Count (CBC),C-Reactive Protein ...</td>\n",
              "      <td>Influenza (Flu)</td>\n",
              "    </tr>\n",
              "  </tbody>\n",
              "</table>\n",
              "</div>\n",
              "    <div class=\"colab-df-buttons\">\n",
              "\n",
              "  <div class=\"colab-df-container\">\n",
              "    <button class=\"colab-df-convert\" onclick=\"convertToInteractive('df-5888591a-8bc6-44bf-8322-bfbab88d6a0c')\"\n",
              "            title=\"Convert this dataframe to an interactive table.\"\n",
              "            style=\"display:none;\">\n",
              "\n",
              "  <svg xmlns=\"http://www.w3.org/2000/svg\" height=\"24px\" viewBox=\"0 -960 960 960\">\n",
              "    <path d=\"M120-120v-720h720v720H120Zm60-500h600v-160H180v160Zm220 220h160v-160H400v160Zm0 220h160v-160H400v160ZM180-400h160v-160H180v160Zm440 0h160v-160H620v160ZM180-180h160v-160H180v160Zm440 0h160v-160H620v160Z\"/>\n",
              "  </svg>\n",
              "    </button>\n",
              "\n",
              "  <style>\n",
              "    .colab-df-container {\n",
              "      display:flex;\n",
              "      gap: 12px;\n",
              "    }\n",
              "\n",
              "    .colab-df-convert {\n",
              "      background-color: #E8F0FE;\n",
              "      border: none;\n",
              "      border-radius: 50%;\n",
              "      cursor: pointer;\n",
              "      display: none;\n",
              "      fill: #1967D2;\n",
              "      height: 32px;\n",
              "      padding: 0 0 0 0;\n",
              "      width: 32px;\n",
              "    }\n",
              "\n",
              "    .colab-df-convert:hover {\n",
              "      background-color: #E2EBFA;\n",
              "      box-shadow: 0px 1px 2px rgba(60, 64, 67, 0.3), 0px 1px 3px 1px rgba(60, 64, 67, 0.15);\n",
              "      fill: #174EA6;\n",
              "    }\n",
              "\n",
              "    .colab-df-buttons div {\n",
              "      margin-bottom: 4px;\n",
              "    }\n",
              "\n",
              "    [theme=dark] .colab-df-convert {\n",
              "      background-color: #3B4455;\n",
              "      fill: #D2E3FC;\n",
              "    }\n",
              "\n",
              "    [theme=dark] .colab-df-convert:hover {\n",
              "      background-color: #434B5C;\n",
              "      box-shadow: 0px 1px 3px 1px rgba(0, 0, 0, 0.15);\n",
              "      filter: drop-shadow(0px 1px 2px rgba(0, 0, 0, 0.3));\n",
              "      fill: #FFFFFF;\n",
              "    }\n",
              "  </style>\n",
              "\n",
              "    <script>\n",
              "      const buttonEl =\n",
              "        document.querySelector('#df-5888591a-8bc6-44bf-8322-bfbab88d6a0c button.colab-df-convert');\n",
              "      buttonEl.style.display =\n",
              "        google.colab.kernel.accessAllowed ? 'block' : 'none';\n",
              "\n",
              "      async function convertToInteractive(key) {\n",
              "        const element = document.querySelector('#df-5888591a-8bc6-44bf-8322-bfbab88d6a0c');\n",
              "        const dataTable =\n",
              "          await google.colab.kernel.invokeFunction('convertToInteractive',\n",
              "                                                    [key], {});\n",
              "        if (!dataTable) return;\n",
              "\n",
              "        const docLinkHtml = 'Like what you see? Visit the ' +\n",
              "          '<a target=\"_blank\" href=https://colab.research.google.com/notebooks/data_table.ipynb>data table notebook</a>'\n",
              "          + ' to learn more about interactive tables.';\n",
              "        element.innerHTML = '';\n",
              "        dataTable['output_type'] = 'display_data';\n",
              "        await google.colab.output.renderOutput(dataTable, element);\n",
              "        const docLink = document.createElement('div');\n",
              "        docLink.innerHTML = docLinkHtml;\n",
              "        element.appendChild(docLink);\n",
              "      }\n",
              "    </script>\n",
              "  </div>\n",
              "\n",
              "\n",
              "<div id=\"df-065b453c-fbbd-40e8-b898-49261654f1cf\">\n",
              "  <button class=\"colab-df-quickchart\" onclick=\"quickchart('df-065b453c-fbbd-40e8-b898-49261654f1cf')\"\n",
              "            title=\"Suggest charts\"\n",
              "            style=\"display:none;\">\n",
              "\n",
              "<svg xmlns=\"http://www.w3.org/2000/svg\" height=\"24px\"viewBox=\"0 0 24 24\"\n",
              "     width=\"24px\">\n",
              "    <g>\n",
              "        <path d=\"M19 3H5c-1.1 0-2 .9-2 2v14c0 1.1.9 2 2 2h14c1.1 0 2-.9 2-2V5c0-1.1-.9-2-2-2zM9 17H7v-7h2v7zm4 0h-2V7h2v10zm4 0h-2v-4h2v4z\"/>\n",
              "    </g>\n",
              "</svg>\n",
              "  </button>\n",
              "\n",
              "<style>\n",
              "  .colab-df-quickchart {\n",
              "      --bg-color: #E8F0FE;\n",
              "      --fill-color: #1967D2;\n",
              "      --hover-bg-color: #E2EBFA;\n",
              "      --hover-fill-color: #174EA6;\n",
              "      --disabled-fill-color: #AAA;\n",
              "      --disabled-bg-color: #DDD;\n",
              "  }\n",
              "\n",
              "  [theme=dark] .colab-df-quickchart {\n",
              "      --bg-color: #3B4455;\n",
              "      --fill-color: #D2E3FC;\n",
              "      --hover-bg-color: #434B5C;\n",
              "      --hover-fill-color: #FFFFFF;\n",
              "      --disabled-bg-color: #3B4455;\n",
              "      --disabled-fill-color: #666;\n",
              "  }\n",
              "\n",
              "  .colab-df-quickchart {\n",
              "    background-color: var(--bg-color);\n",
              "    border: none;\n",
              "    border-radius: 50%;\n",
              "    cursor: pointer;\n",
              "    display: none;\n",
              "    fill: var(--fill-color);\n",
              "    height: 32px;\n",
              "    padding: 0;\n",
              "    width: 32px;\n",
              "  }\n",
              "\n",
              "  .colab-df-quickchart:hover {\n",
              "    background-color: var(--hover-bg-color);\n",
              "    box-shadow: 0 1px 2px rgba(60, 64, 67, 0.3), 0 1px 3px 1px rgba(60, 64, 67, 0.15);\n",
              "    fill: var(--button-hover-fill-color);\n",
              "  }\n",
              "\n",
              "  .colab-df-quickchart-complete:disabled,\n",
              "  .colab-df-quickchart-complete:disabled:hover {\n",
              "    background-color: var(--disabled-bg-color);\n",
              "    fill: var(--disabled-fill-color);\n",
              "    box-shadow: none;\n",
              "  }\n",
              "\n",
              "  .colab-df-spinner {\n",
              "    border: 2px solid var(--fill-color);\n",
              "    border-color: transparent;\n",
              "    border-bottom-color: var(--fill-color);\n",
              "    animation:\n",
              "      spin 1s steps(1) infinite;\n",
              "  }\n",
              "\n",
              "  @keyframes spin {\n",
              "    0% {\n",
              "      border-color: transparent;\n",
              "      border-bottom-color: var(--fill-color);\n",
              "      border-left-color: var(--fill-color);\n",
              "    }\n",
              "    20% {\n",
              "      border-color: transparent;\n",
              "      border-left-color: var(--fill-color);\n",
              "      border-top-color: var(--fill-color);\n",
              "    }\n",
              "    30% {\n",
              "      border-color: transparent;\n",
              "      border-left-color: var(--fill-color);\n",
              "      border-top-color: var(--fill-color);\n",
              "      border-right-color: var(--fill-color);\n",
              "    }\n",
              "    40% {\n",
              "      border-color: transparent;\n",
              "      border-right-color: var(--fill-color);\n",
              "      border-top-color: var(--fill-color);\n",
              "    }\n",
              "    60% {\n",
              "      border-color: transparent;\n",
              "      border-right-color: var(--fill-color);\n",
              "    }\n",
              "    80% {\n",
              "      border-color: transparent;\n",
              "      border-right-color: var(--fill-color);\n",
              "      border-bottom-color: var(--fill-color);\n",
              "    }\n",
              "    90% {\n",
              "      border-color: transparent;\n",
              "      border-bottom-color: var(--fill-color);\n",
              "    }\n",
              "  }\n",
              "</style>\n",
              "\n",
              "  <script>\n",
              "    async function quickchart(key) {\n",
              "      const quickchartButtonEl =\n",
              "        document.querySelector('#' + key + ' button');\n",
              "      quickchartButtonEl.disabled = true;  // To prevent multiple clicks.\n",
              "      quickchartButtonEl.classList.add('colab-df-spinner');\n",
              "      try {\n",
              "        const charts = await google.colab.kernel.invokeFunction(\n",
              "            'suggestCharts', [key], {});\n",
              "      } catch (error) {\n",
              "        console.error('Error during call to suggestCharts:', error);\n",
              "      }\n",
              "      quickchartButtonEl.classList.remove('colab-df-spinner');\n",
              "      quickchartButtonEl.classList.add('colab-df-quickchart-complete');\n",
              "    }\n",
              "    (() => {\n",
              "      let quickchartButtonEl =\n",
              "        document.querySelector('#df-065b453c-fbbd-40e8-b898-49261654f1cf button');\n",
              "      quickchartButtonEl.style.display =\n",
              "        google.colab.kernel.accessAllowed ? 'block' : 'none';\n",
              "    })();\n",
              "  </script>\n",
              "</div>\n",
              "\n",
              "    </div>\n",
              "  </div>\n"
            ],
            "application/vnd.google.colaboratory.intrinsic+json": {
              "type": "dataframe",
              "variable_name": "df",
              "summary": "{\n  \"name\": \"df\",\n  \"rows\": 1498,\n  \"fields\": [\n    {\n      \"column\": \"Questions\",\n      \"properties\": {\n        \"dtype\": \"string\",\n        \"num_unique_values\": 1466,\n        \"samples\": [\n          \"Could frequent respiratory infections and shortness of breath be related to COPD? What tests should I request to determine this?\",\n          \"Headache, Fatigue, and Abdominal Pain are affecting me. What tests are recommended?\",\n          \"Is it common for fatigue and chest discomfort or pain to be associated with these symptoms? What tests are typically performed in this case?\"\n        ],\n        \"semantic_type\": \"\",\n        \"description\": \"\"\n      }\n    },\n    {\n      \"column\": \"Recommending medical tests\",\n      \"properties\": {\n        \"dtype\": \"category\",\n        \"num_unique_values\": 29,\n        \"samples\": [\n          \"Thyroid-Stimulating Hormone (TSH) Test,Free T4 (Free Thyroxine) Test,Free T3 (Free Triiodothyronine) Test,Total T4 and Total T3 Tests,Thyroid Antibody Tests,Reverse T3 (rT3) Test,Thyroid Hormone Binding Ratios,Thyroglobulin Test,Calcitonin Test,Calcitonin Test,Prolactin Test,Lipid Profile\",\n          \"Chest X-ray,CT Scan,Sputum Cytology,Bronchoscopy,Needle Biopsy,Mediastinoscopy,PET Scan,MRI,Bone Scan,Blood Tests,Pulmonary Function Tests,Genetic Testing\",\n          \"Complete Blood Count (CBC),Blood Glucose Test,Lipid Profile,Coagulation Studies,Cardiac Biomarkers,Inflammatory Markers,Toxicology Screen,Hemoglobin A1c (HbA1c)\"\n        ],\n        \"semantic_type\": \"\",\n        \"description\": \"\"\n      }\n    },\n    {\n      \"column\": \"Disease \",\n      \"properties\": {\n        \"dtype\": \"category\",\n        \"num_unique_values\": 30,\n        \"samples\": [\n          \"Hypothyroidism (Underactive Thyroid)\",\n          \"Breast Cancer\",\n          \"Chronic Obstructive \"\n        ],\n        \"semantic_type\": \"\",\n        \"description\": \"\"\n      }\n    }\n  ]\n}"
            }
          },
          "metadata": {},
          "execution_count": 80
        }
      ],
      "source": [
        "df.head()"
      ]
    },
    {
      "cell_type": "code",
      "execution_count": 81,
      "metadata": {
        "id": "LdQktrRT2JEA",
        "colab": {
          "base_uri": "https://localhost:8080/",
          "height": 36
        },
        "outputId": "6f5ff7a4-c72c-4e66-bfdf-a0a1501e5fb2"
      },
      "outputs": [
        {
          "output_type": "execute_result",
          "data": {
            "text/plain": [
              "'Complete Blood Count (CBC),C-Reactive Protein (CRP),Procalcitonin,Influenza Antibody Testing'"
            ],
            "application/vnd.google.colaboratory.intrinsic+json": {
              "type": "string"
            }
          },
          "metadata": {},
          "execution_count": 81
        }
      ],
      "source": [
        "df[df['Disease '] == \"Influenza (Flu)\"].iloc[0,1]"
      ]
    },
    {
      "cell_type": "code",
      "execution_count": 82,
      "metadata": {
        "id": "-ilnU39b2JEA",
        "colab": {
          "base_uri": "https://localhost:8080/"
        },
        "outputId": "4ab24a4f-f44b-4c30-bf7a-cafa01bba04a"
      },
      "outputs": [
        {
          "output_type": "execute_result",
          "data": {
            "text/plain": [
              "{'greeting': ['Hello there. Tell me how are you feeling today?',\n",
              "  'Hi there. What brings you here today?',\n",
              "  'Hi there. How are you feeling today?',\n",
              "  'Great to see you. How do you feel currently?',\n",
              "  \"Hello there. Glad to see you. What's going on in your world right now?\",\n",
              "  \"Good morning. I hope you had a good night's sleep. How are you feeling today? \",\n",
              "  'Hello, i am Caroline, your smart doctor bot. How can i help you?'],\n",
              " 'goodbye': ['See you later.',\n",
              "  'Have a nice day.',\n",
              "  'Bye! Come back again.',\n",
              "  \"I'll see you soon.\",\n",
              "  'Sad to see you go :(',\n",
              "  'Talk to you later',\n",
              "  'Goodbye!',\n",
              "  'Come back soon'],\n",
              " 'thanks': ['Happy to help!',\n",
              "  'Any time!',\n",
              "  'My pleasure',\n",
              "  \"You're most welcome!\",\n",
              "  'Glad to help',\n",
              "  'The pleasure is mine',\n",
              "  'I am here to help',\n",
              "  'Thank you for being here',\n",
              "  'No worries'],\n",
              " 'no-response': [\"Sorry, I didn't understand you!\",\n",
              "  'Not sure I understand that!',\n",
              "  \"Please don't hesitate to talk to me!\",\n",
              "  \"Execuseme, I don't get it!\"],\n",
              " 'about': [\"I'm Caroline, your Personal Doctor AI Assistant. How are you feeling today\",\n",
              "  \"I'm Caroline, a Doctor AI Assitant designed to assist you. Tell me about yourself.\",\n",
              "  \"I'm Caroline. I am a conversational agent designed to mimic a doctor. So how are you feeling today?\",\n",
              "  'You can call me Caroline.',\n",
              "  \"I'm Caroline!\",\n",
              "  'Call me Caroline'],\n",
              " 'swear': ['please use appropriate language',\n",
              "  'Maintaining decency would be appreciated'],\n",
              " 'skill': ['I a am Caroline, your smart doctor bot, i can help you for diagnosis your symptoms and recommend you the needed tests, and orientate you to book an appoinment in a laboratory, clinic or to purchase a prescription\\nI am here to help you.'],\n",
              " 'creation': ['I was created by Manar Helmy',\n",
              "  'I was trained on a text dataset using Deep Learning & Natural Language Processing techniques by Manar Helmy'],\n",
              " 'help': ['Sure. Tell me how you feel?',\n",
              "  'Tell me your problem so that i can assist you, how you feel?',\n",
              "  'Yes, How can I help you, how you feel?'],\n",
              " 'sad': [\"I'm sorry to hear that. I'm here for you. Talking about it might help. So, tell me why do you think you're feeling this way?\",\n",
              "  \"I'm here for you. Could you tell me why you're feeling this way?\",\n",
              "  'Why do you think you feel this way?',\n",
              "  'What do you think is causing this?',\n",
              "  'Take a deep breath and gather your thoughts. Go take a walk if possible. Stay hydrated',\n",
              "  'Give yourself a break. Go easy on yourself.',\n",
              "  'I am sorry to hear that. What is the reason behind this?'],\n",
              " 'happy': [\"That's great to hear. I'm glad you're feeling this way.\",\n",
              "  \"Oh i see. That's great.\",\n",
              "  'Great, I am happy for seeing that'],\n",
              " 'scared': [\"It's only natural to feel this way. I'm here for you.\",\n",
              "  \"It'll all be okay. This feeling is only momentary.\",\n",
              "  \"I understand how you feel. Don't put yourself down because of it.\"],\n",
              " 'death': [\"I'm sorry to hear that. If you want to talk about it. I'm here.\",\n",
              "  'I am really sorry to hear that. I am here to help you with grief, anxiety and anything else you may feel at this time.',\n",
              "  \"My condolences. I'm here if you need to talk.\"],\n",
              " 'understand': [\"It sound like i'm not being very helpful right now.\",\n",
              "  \"I'm sorry to hear that. I'm doing my best to help\",\n",
              "  \"I'm trying my best to help you. So please talk to me\",\n",
              "  \"I'm sorry if i offended you in anyway. I'm only here to help\",\n",
              "  'Forgive me if i did anything to offend you. I only want to help'],\n",
              " 'Influenza (Flu)': ['There is a suspection that you have Influenza (Flu)!,\\nyou need to make Complete Blood Count (CBC),C-Reactive Protein (CRP),Procalcitonin,Influenza Antibody Testing to be sure.'],\n",
              " 'Tuberculosis (TB)': ['There is a suspection that you have Tuberculosis (TB)!,\\nyou need to make Tuberculin Skin Test (TST) or Mantoux Test,Interferon-Gamma Release Assays (IGRAs),Complete Blood Count (CBC),Erythrocyte Sedimentation Rate (ESR),C-Reactive Protein (CRP) Test,Liver Function Tests (LFTs),HIV Test to be sure.'],\n",
              " 'HIV/AIDS': ['There is a suspection that you have HIV/AIDS!,\\nyou need to make HIV Antibody Test (ELISA/Western Blot),CD4 Count,Viral Load Test,CD4/CD8 Ratio,Resistance Testing,Complete Blood Count (CBC),Liver Function Tests,Kidney Function Tests,Hepatitis Tests,STD Tests,Cytomegalovirus (CMV) Test to be sure.'],\n",
              " 'Malaria': ['There is a suspection that you have Malaria!,\\nyou need to make Malaria Smear (Blood Film),Rapid Diagnostic Tests (RDTs),Polymerase Chain Reaction (PCR),Quantitative Buffy Coat (QBC) Test,Serology Tests,Complete Blood Count (CBC) to be sure.'],\n",
              " 'COVID-19.': ['There is a suspection that you have COVID-19.!,\\nyou need to make Antibody (Serology) Tests,Antigen Tests,CRP (C-Reactive Protein) Test,D-Dimer Test,Complete Blood Count (CBC),Ferritin Test,Differential White Blood Cell Count to be sure.'],\n",
              " 'Hepatitis': ['There is a suspection that you have Hepatitis!,\\nyou need to make Hepatitis Panel,Hepatitis A Antibody Tests,Hepatitis B Surface Antigen (HBsAg) Test,Hepatitis B Core Antibody (anti-HBc) Test,Hepatitis B Surface Antibody (anti-HBs) Test,Hepatitis B DNA Test,Hepatitis C Antibody Test,Hepatitis C RNA Test,Hepatitis C Antibody Test,Hepatitis C RNA Test,Liver Function Tests,Bilirubin Test,Albumin and Prothrombin Time (PT) Tests,Liver Biopsy or Imaging to be sure.'],\n",
              " 'Cholera': ['There is a suspection that you have Cholera!,\\nyou need to make Stool Culture,PCR (Polymerase Chain Reaction),Rapid Antigen Test to be sure.'],\n",
              " 'Ebola Virus Disease': ['There is a suspection that you have Ebola Virus Disease!,\\nyou need to make Polymerase Chain Reaction (PCR) Test,Reverse Transcription PCR (RT-PCR),Enzyme-Linked Immunosorbent Assay (ELISA),Rapid Diagnostic Tests (RDTs),Serology Tests,Viral Culture,Real-time PCR (RT-PCR),Next-Generation Sequencing (NGS),Lateral Flow Assays to be sure.'],\n",
              " 'Dengue Fever': ['There is a suspection that you have Dengue Fever!,\\nyou need to make Complete Blood Count (CBC),NS1 Antigen Test,IgM Antibody Test,IgG Antibody Test,PCR (Polymerase Chain Reaction) Test,Platelet Count,Liver Function Tests,Serology Tests to be sure.'],\n",
              " 'Coronary Artery Disease (CAD)': ['There is a suspection that you have Coronary Artery Disease (CAD)!,\\nyou need to make Cholesterol Panel,High-Sensitivity C-Reactive Protein (hs-CRP),Troponin,Brain Natriuretic Peptide (BNP) or N-Terminal Pro B-Type Natriuretic Peptide (NT-proBNP),Homocysteine,Fasting Blood Sugar (Glucose),Complete Blood Count (CBC),Lipoprotein(a) to be sure.'],\n",
              " 'Hypertension (High Blood Pressure)': ['There is a suspection that you have Hypertension (High Blood Pressure)!,\\nyou need to make Blood Glucose Test,Lipid Profile,Kidney Function Tests,Potassium and Sodium Levels,Thyroid Function Tests,C-reactive Protein (CRP),Hemoglobin A1c (HbA1c),Renal Function Panel,Urine Tests,Electrocardiogram (ECG or EKG) to be sure.'],\n",
              " 'Heart Attack (Myocardial Infarction)': ['There is a suspection that you have Heart Attack (Myocardial Infarction)!,\\nyou need to make ECG,Cardiac Troponin,Creatine Kinase-MB (CK-MB),Myoglobin,C-Reactive Protein (CRP),Complete Blood Count (CBC),Lipid Profile,Natriuretic Peptides to be sure.'],\n",
              " 'Stroke': ['There is a suspection that you have Stroke!,\\nyou need to make Complete Blood Count (CBC),Blood Glucose Test,Lipid Profile,Coagulation Studies,Cardiac Biomarkers,Inflammatory Markers,Toxicology Screen,Hemoglobin A1c (HbA1c) to be sure.'],\n",
              " 'Arrhythmias (Irregular Heartbeat)': ['There is a suspection that you have Arrhythmias (Irregular Heartbeat)!,\\nyou need to make Electrocardiogram (ECG or EKG),Holter Monitor,Event Monitor,Stress Test,Echocardiogram,Electrophysiological (EP) Study,Cardiac MRI,Blood Tests,Tilt Table Test,Implantable Loop Recorder (ILR),Signal-Averaged ECG,CT Scan or Coronary Angiography,Genetic Testing to be sure.'],\n",
              " 'Atherosclerosis': ['There is a suspection that you have Atherosclerosis!,\\nyou need to make Lipid Profile,High-Density Lipoprotein (HDL) Cholesterol,C-Reactive Protein (CRP),Homocysteine,Fasting Blood Glucose,Lipoprotein(a) (Lp(a)),Apolipoprotein B (ApoB) to be sure.'],\n",
              " 'Breast Cancer': ['There is a suspection that you have Breast Cancer!,\\nyou need to make Breast Self-Examination (BSE),Clinical Breast Examination (CBE),Mammography,Breast Ultrasound,Breast Magnetic Resonance Imaging (MRI),Biopsy,Ductal Lavage or Ductal Endoscopy,Genetic Testing,Breast Cancer Biomarker Tests,Sentinel Lymph Node Biopsy,Positron Emission Tomography (PET) Scan to be sure.'],\n",
              " 'Lung Cancer': ['There is a suspection that you have Lung Cancer!,\\nyou need to make Chest X-ray,CT Scan,Sputum Cytology,Bronchoscopy,Needle Biopsy,Mediastinoscopy,PET Scan,MRI,Bone Scan,Blood Tests,Pulmonary Function Tests,Genetic Testing to be sure.'],\n",
              " 'Prostate Cancer': ['There is a suspection that you have Prostate Cancer!,\\nyou need to make Prostate-Specific Antigen (PSA) Test,Digital Rectal Exam (DRE),Transrectal Ultrasound (TRUS),Prostate Biopsy,Multiparametric Magnetic Resonance Imaging (mpMRI),Urine Tests,Bone Scan,CT Scan,MRI,CT Urography,Pelvic Lymph Node Dissection,Genomic Tests to be sure.'],\n",
              " 'Colorectal Cancer': ['There is a suspection that you have Colorectal Cancer!,\\nyou need to make Colonoscopy,Flexible Sigmoidoscopy,Fecal Occult Blood Test (FOBT),Fecal Immunochemical Test (FIT),Stool DNA Test,Virtual Colonoscopy (CT Colonography),Double-Contrast Barium Enema,Biopsy,carcinoembryonic antigen (CEA),Genetic Testing to be sure.'],\n",
              " 'Skin Cancer (Melanoma)': ['There is a suspection that you have Skin Cancer (Melanoma)!,\\nyou need to make Skin Examination,Dermatoscopy,Biopsy,Confocal Microscopy,Sentinel Lymph Node Biopsy,Blood Tests,Imaging Tests to be sure.'],\n",
              " 'Brain Cancer': ['There is a suspection that you have Brain Cancer!,\\nyou need to make Medical History and Physical Examination,Neurological Examination,MRI (Magnetic Resonance Imaging),CT (Computed Tomography) Scan,Biopsy,Cerebral Angiography,Lumbar Puncture (Spinal Tap),PET (Positron Emission Tomography) Scan,SPECT (Single Photon Emission Computed Tomography) Sca,Functional MRI (fMRI),EEG (Electroencephalogram),Tumor Marker Tests to be sure.'],\n",
              " 'Asthma': ['There is a suspection that you have Asthma!,\\nyou need to make Spirometry,Peak Expiratory Flow (PEF) Test,Chest X-Ray,Allergy Testing,Fractional Exhaled Nitric Oxide (FeNO) Test,Methacholine Challenge Test,CT Scan of the Lungs,Blood Tests,Sputum Eosinophil Test,Bronchial Provocation Test to be sure.'],\n",
              " 'Leukemia': ['There is a suspection that you have Leukemia!,\\nyou need to make Complete Blood Count (CBC),Peripheral Blood Smear,Bone Marrow Aspiration and Biopsy,Cytogenetic Analysis,Flow Cytometry,Molecular Testing,Immunohistochemistry,Lumbar Puncture (Spinal Tap),Imaging Tests,Biopsy of Lymph Nodes or Other Tissues,Blood Chemistry Tests,Genomic Testing to be sure.'],\n",
              " 'Chronic Obstructive ': ['There is a suspection that you have Chronic Obstructive !,\\nyou need to make Spirometry,Chest X-ray,CT (computed tomography) scan,Arterial Blood Gas (ABG) Test,Pulmonary Function Tests (PFTs),Alpha-1 Antitrypsin Deficiency Test,COPD Assessment Test (CAT),6-Minute Walk Test,Electrocardiogram (ECG or EKG),Sputum Examination to be sure.'],\n",
              " 'Pulmonary Disease (COPD)': ['There is a suspection that you have Pulmonary Disease (COPD)!,\\nyou need to make Spirometry,Chest X-ray,CT (computed tomography) scan,Arterial Blood Gas (ABG) Test,Pulmonary Function Tests (PFTs),Alpha-1 Antitrypsin Deficiency Test,COPD Assessment Test (CAT),6-Minute Walk Test,Electrocardiogram (ECG or EKG),Blood Tests,Sputum Examination to be sure.'],\n",
              " 'Interstitial Lung Disease': ['There is a suspection that you have Interstitial Lung Disease!,\\nyou need to make High-Resolution Computed Tomography (HRCT) Scan,Pulmonary Function Tests (PFTs),Bronchoscopy,Blood Tests,Arterial Blood Gas (ABG) Test,Lung Biopsy,Exercise Testing,Echocardiogram,Autoimmune Panel,Genetic Testing,Ventilation/Perfusion (V/Q) Scan,Methacholine Challenge Test,Histopathological Analysis to be sure.'],\n",
              " 'Diabetes': ['There is a suspection that you have Diabetes!,\\nyou need to make Fasting Blood Glucose Test (FBG),Hemoglobin A1c (HbA1c) Test,Oral Glucose Tolerance Test (OGTT),Random Blood Sugar Test,Postprandial Blood Glucose Test,C-Peptide Test,Autoantibody Tests,Blood Lipid Profile,Kidney Function Tests,Liver Function Tests,Thyroid Function Tests,Electrolyte Levels to be sure.'],\n",
              " 'Hypothyroidism (Underactive Thyroid)': ['There is a suspection that you have Hypothyroidism (Underactive Thyroid)!,\\nyou need to make Thyroid-Stimulating Hormone (TSH) Test,Free T4 (Free Thyroxine) Test,Free T3 (Free Triiodothyronine) Test,Total T4 and Total T3 Tests,Thyroid Antibody Tests,Reverse T3 (rT3) Test,Thyroid Hormone Binding Ratios,Thyroglobulin Test,Calcitonin Test,Calcitonin Test,Prolactin Test,Lipid Profile to be sure.'],\n",
              " 'Hyperthyroidism (Overactive Thyroid)': ['There is a suspection that you have Hyperthyroidism (Overactive Thyroid)!,\\nyou need to make Thyroid-Stimulating Hormone (TSH) Test,Free T4 (Free Thyroxine) Test,Free T3 (Free Triiodothyronine) Test,Total T4 and Total T3 Tests,Thyroid Antibody Tests,Reverse T3 (rT3) Test,Thyroid Hormone Binding Ratios,Thyroglobulin Test,Calcitonin Test,Calcitonin Test,Prolactin Test,Lipid Profile to be sure.'],\n",
              " \"Addison's Disease\": [\"There is a suspection that you have Addison's Disease!,\\nyou need to make Cortisol Levels,Adrenocorticotropic Hormone (ACTH) Stimulation Test,Renin and Aldosterone Levels,Renin and Aldosterone Levels,Electrolyte Levels,Complete Blood Count (CBC),Blood Glucose Levels,Thyroid Function Tests,Autoantibody Testing,Lipid Profile,Plasma Cortisol Binding Globulin (CBG) Levels to be sure.\"]}"
            ]
          },
          "metadata": {},
          "execution_count": 82
        }
      ],
      "source": [
        "responses"
      ]
    },
    {
      "cell_type": "markdown",
      "metadata": {
        "id": "zJEC7ltu2JEA"
      },
      "source": [
        "# Bot Functions"
      ]
    },
    {
      "cell_type": "code",
      "execution_count": 83,
      "metadata": {
        "id": "BENXz4Rl2JEA"
      },
      "outputs": [],
      "source": [
        "def process(x='hello'):\n",
        "    x = x.replace(',','').replace('.','').replace(\"\\'\",'').replace(\"!\",'')\n",
        "    s = \"\"\n",
        "    words = nltk.word_tokenize(x)\n",
        "    words = [stemmer.stem(w.lower()) for w in words if w !='?']\n",
        "    for w in words:\n",
        "        s = s+w+\" \"\n",
        "    x = s\n",
        "    x = x.strip()\n",
        "    x = np.array(x).reshape(1,)\n",
        "    encoded = t.texts_to_sequences(x)\n",
        "    x = pad_sequences(encoded, maxlen=300)\n",
        "    return x[0]\n",
        "\n",
        "def chat():\n",
        "    m =\"\"\n",
        "    while m!=\"close\":\n",
        "        m = input(\"You: \")\n",
        "        x1 = process(m)\n",
        "        yp1 = model.predict(x1.reshape(1,-1)).argmax(axis=1)[0]\n",
        "        yp1 = labels[yp1]\n",
        "        if(yp1 in diseases):\n",
        "            print(responses[yp1][random.randint(0,len(responses[yp1])-1) ])\n",
        "            choose = input(\"Would you like to orientate you to the Laboratories booking page?\\n[Y/N]: \")\n",
        "            choose.lower().strip().replace(',','').replace('.','').replace(\"\\'\",'').replace(\"!\",'')\n",
        "            if(choose in ['yes','yup','sure','yeah','ok','okay','y','please', 'yes please']):\n",
        "                print('orientate')\n",
        "            else:\n",
        "                choose = input(\"Would you like to get information about these disease?\\n[Y/N]: \")\n",
        "                choose.lower().strip().replace(',','').replace('.','').replace(\"\\'\",'').replace(\"!\",'')\n",
        "                if(choose in ['yes','yup','sure','yeah','ok','okay','y','please','yes please']):\n",
        "                    print(info[yp1])\n",
        "        else:\n",
        "            print(responses[yp1][random.randint(0,len(responses[yp1])-1) ])\n",
        "        print(\"\\n\")"
      ]
    },
    {
      "cell_type": "code",
      "execution_count": 84,
      "metadata": {
        "colab": {
          "base_uri": "https://localhost:8080/"
        },
        "id": "qi_bgX5r2JEB",
        "outputId": "c6326e30-5f7a-45f1-a679-b47e3cf107a3"
      },
      "outputs": [
        {
          "output_type": "stream",
          "name": "stdout",
          "text": [
            "You: hello\n",
            "1/1 [==============================] - 0s 41ms/step\n",
            "Hi there. How are you feeling today?\n",
            "\n",
            "\n",
            "You: I am a sick \n",
            "1/1 [==============================] - 0s 28ms/step\n",
            "Sure. Tell me how you feel?\n",
            "\n",
            "\n",
            "You: close\n",
            "1/1 [==============================] - 0s 26ms/step\n",
            "Have a nice day.\n",
            "\n",
            "\n"
          ]
        }
      ],
      "source": [
        "chat()"
      ]
    },
    {
      "cell_type": "markdown",
      "metadata": {
        "id": "SgwNzaYk2JEB"
      },
      "source": [
        "---"
      ]
    },
    {
      "cell_type": "code",
      "execution_count": 85,
      "metadata": {
        "id": "VmobbZ852JEB"
      },
      "outputs": [],
      "source": [
        "model.save(\"ICare_Chat_Bot.h5\")"
      ]
    },
    {
      "cell_type": "markdown",
      "metadata": {
        "id": "Gmi0fMEq2JEB"
      },
      "source": [
        "---"
      ]
    }
  ],
  "metadata": {
    "accelerator": "GPU",
    "colab": {
      "gpuType": "T4",
      "provenance": []
    },
    "kaggle": {
      "accelerator": "nvidiaTeslaT4",
      "dataSources": [
        {
          "datasetId": 688489,
          "sourceId": 1206972,
          "sourceType": "datasetVersion"
        },
        {
          "datasetId": 2594075,
          "sourceId": 4429121,
          "sourceType": "datasetVersion"
        },
        {
          "datasetId": 3038604,
          "sourceId": 5222624,
          "sourceType": "datasetVersion"
        },
        {
          "datasetId": 3087304,
          "sourceId": 5312008,
          "sourceType": "datasetVersion"
        },
        {
          "datasetId": 3871144,
          "sourceId": 6718919,
          "sourceType": "datasetVersion"
        },
        {
          "datasetId": 4664358,
          "sourceId": 7934837,
          "sourceType": "datasetVersion"
        },
        {
          "datasetId": 3820845,
          "sourceId": 7959637,
          "sourceType": "datasetVersion"
        },
        {
          "datasetId": 4695708,
          "sourceId": 7978688,
          "sourceType": "datasetVersion"
        }
      ],
      "dockerImageVersionId": 30673,
      "isGpuEnabled": true,
      "isInternetEnabled": true,
      "language": "python",
      "sourceType": "notebook"
    },
    "kernelspec": {
      "display_name": "Python 3",
      "name": "python3"
    },
    "language_info": {
      "codemirror_mode": {
        "name": "ipython",
        "version": 3
      },
      "file_extension": ".py",
      "mimetype": "text/x-python",
      "name": "python",
      "nbconvert_exporter": "python",
      "pygments_lexer": "ipython3",
      "version": "3.10.13"
    }
  },
  "nbformat": 4,
  "nbformat_minor": 0
}